{
 "cells": [
  {
   "cell_type": "code",
   "execution_count": null,
   "metadata": {},
   "outputs": [],
   "source": [
    "%pip install -q gdown"
   ]
  },
  {
   "cell_type": "code",
   "execution_count": null,
   "metadata": {},
   "outputs": [],
   "source": [
    "import gdown\n",
    "fasta_url = 'https://drive.google.com/file/d/1TyF1lYy9QQ6TjdLz8wXLsLlH9upuqNkM/view?usp=share_link'\n",
    "fasta = 'contaminants.fasta'\n",
    "gdown.download(fasta_url, fasta)"
   ]
  },
  {
   "cell_type": "code",
   "execution_count": null,
   "metadata": {},
   "outputs": [],
   "source": [
    "from peptdeep.pipeline_api import generate_library, model_mgr, global_settings"
   ]
  },
  {
   "cell_type": "code",
   "execution_count": null,
   "metadata": {},
   "outputs": [],
   "source": [
    "import psutil\n",
    "global_settings['torch_device']['device_tpye']='cpu'\n",
    "global_settings['library']['input']['infiles'] = [fasta]\n",
    "global_settings['library']['input']['infile_type'] = 'fasta'\n",
    "global_settings['library']['input']['fasta']['protease']='([KR])'\n",
    "global_settings['library']['output_tsv']['enabled'] = True\n",
    "global_settings['model_mgr']['predict']['multiprocessing']=True\n",
    "global_settings['thread_num'] = psutil.cpu_count()-2"
   ]
  },
  {
   "cell_type": "code",
   "execution_count": null,
   "metadata": {},
   "outputs": [],
   "source": [
    "generate_library()"
   ]
  }
 ],
 "metadata": {
  "kernelspec": {
   "display_name": "Python 3.8.3 ('base')",
   "language": "python",
   "name": "python3"
  },
  "language_info": {
   "codemirror_mode": {
    "name": "ipython",
    "version": 3
   },
   "file_extension": ".py",
   "mimetype": "text/x-python",
   "name": "python",
   "nbconvert_exporter": "python",
   "pygments_lexer": "ipython3",
   "version": "3.8.3"
  },
  "orig_nbformat": 4,
  "vscode": {
   "interpreter": {
    "hash": "8a3b27e141e49c996c9b863f8707e97aabd49c4a7e8445b9b783b34e4a21a9b2"
   }
  }
 },
 "nbformat": 4,
 "nbformat_minor": 2
}
