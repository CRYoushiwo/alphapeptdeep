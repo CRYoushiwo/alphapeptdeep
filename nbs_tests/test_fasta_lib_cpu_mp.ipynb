{
 "cells": [
  {
   "cell_type": "markdown",
   "metadata": {},
   "source": [
    "# Test multiprocessing on Linux\n",
    "\n",
    "OS=Ubuntu with kernel 5.4.0-80-generic\n",
    "\n",
    "For linux, you may need to increase the limit open file number (default is 1024) by using\n",
    "```bash\n",
    "ulimit -n xxxx\n",
    "```\n",
    "xxxx could be 4096 or more.\n",
    "\n",
    "Otherwise linux will raise `OSError: [Errno 24] Too many open files`."
   ]
  },
  {
   "cell_type": "code",
   "execution_count": null,
   "metadata": {},
   "outputs": [],
   "source": [
    "fasta = 'contaminants.fasta'"
   ]
  },
  {
   "cell_type": "code",
   "execution_count": null,
   "metadata": {},
   "outputs": [],
   "source": [
    "from peptdeep.pipeline_api import generate_library, model_mgr, global_settings"
   ]
  },
  {
   "cell_type": "code",
   "execution_count": null,
   "metadata": {},
   "outputs": [],
   "source": [
    "import psutil\n",
    "global_settings['torch_device']['device_type']='cpu'\n",
    "global_settings['library']['input']['infiles'] = [fasta]\n",
    "global_settings['library']['input']['infile_type'] = 'fasta'\n",
    "global_settings['library']['input']['fasta']['protease']='([KR])'\n",
    "global_settings['library']['output_tsv']['enabled'] = True\n",
    "global_settings['model_mgr']['predict']['multiprocessing']=True\n",
    "global_settings['thread_num'] = psutil.cpu_count()"
   ]
  },
  {
   "cell_type": "code",
   "execution_count": null,
   "metadata": {},
   "outputs": [],
   "source": [
    "generate_library()"
   ]
  }
 ],
 "metadata": {
  "kernelspec": {
   "display_name": "Python 3.8.3 ('base')",
   "language": "python",
   "name": "python3"
  },
  "language_info": {
   "codemirror_mode": {
    "name": "ipython",
    "version": 3
   },
   "file_extension": ".py",
   "mimetype": "text/x-python",
   "name": "python",
   "nbconvert_exporter": "python",
   "pygments_lexer": "ipython3",
   "version": "3.8.3"
  },
  "orig_nbformat": 4,
  "vscode": {
   "interpreter": {
    "hash": "8a3b27e141e49c996c9b863f8707e97aabd49c4a7e8445b9b783b34e4a21a9b2"
   }
  }
 },
 "nbformat": 4,
 "nbformat_minor": 2
}
