{
 "cells": [
  {
   "cell_type": "code",
   "execution_count": null,
   "metadata": {},
   "outputs": [],
   "source": [
    "%pip install -q gdown"
   ]
  },
  {
   "cell_type": "code",
   "execution_count": null,
   "metadata": {},
   "outputs": [],
   "source": [
    "import gdown\n",
    "fasta_url = 'https://drive.google.com/file/d/1TyF1lYy9QQ6TjdLz8wXLsLlH9upuqNkM/view?usp=share_link'\n",
    "fasta = 'contaminants.fasta'\n",
    "gdown.download(fasta_url, fasta)"
   ]
  },
  {
   "cell_type": "code",
   "execution_count": 1,
   "metadata": {},
   "outputs": [],
   "source": [
    "from peptdeep.pipeline_api import generate_library, model_mgr, global_settings"
   ]
  },
  {
   "cell_type": "code",
   "execution_count": 3,
   "metadata": {},
   "outputs": [],
   "source": [
    "import psutil\n",
    "global_settings['torch_device']['device_tpye']='cpu'\n",
    "global_settings['library']['input']['infiles'] = [fasta]\n",
    "global_settings['library']['input']['infile_type'] = 'fasta'\n",
    "global_settings['library']['input']['fasta']['protease']='([KR])'\n",
    "global_settings['library']['output_tsv']['enabled'] = True\n",
    "global_settings['model_mgr']['predict']['multiprocessing']=True\n",
    "global_settings['thread_num'] = psutil.cpu_count()-2"
   ]
  },
  {
   "cell_type": "code",
   "execution_count": 4,
   "metadata": {},
   "outputs": [
    {
     "name": "stdout",
     "output_type": "stream",
     "text": [
      "2023-01-01 21:26:16> Platform information:\n",
      "2023-01-01 21:26:16> system        - Darwin\n",
      "2023-01-01 21:26:16> release       - 20.6.0\n",
      "2023-01-01 21:26:16> version       - 10.16\n",
      "2023-01-01 21:26:16> machine       - x86_64\n",
      "2023-01-01 21:26:16> processor     - i386\n",
      "2023-01-01 21:26:16> cpu count     - 8\n",
      "2023-01-01 21:26:16> ram           - 13.3/32.0 Gb (available/total)\n",
      "2023-01-01 21:26:16> \n",
      "2023-01-01 21:26:16> Python information:\n",
      "2023-01-01 21:26:16> alphabase        - 0.3.0\n",
      "2023-01-01 21:26:16> biopython        - 1.78\n",
      "2023-01-01 21:26:16> click            - 8.1.3\n",
      "2023-01-01 21:26:16> lxml             - 4.6.2\n",
      "2023-01-01 21:26:16> numba            - 0.54.0\n",
      "2023-01-01 21:26:16> numpy            - 1.19.4\n",
      "2023-01-01 21:26:16> pandas           - 1.3.5\n",
      "2023-01-01 21:26:16> peptdeep         - 0.4.1\n",
      "2023-01-01 21:26:16> psutil           - 5.8.0\n",
      "2023-01-01 21:26:16> python           - 3.8.3\n",
      "2023-01-01 21:26:16> scikit-learn     - 1.1.1\n",
      "2023-01-01 21:26:16> streamlit        - 1.16.0\n",
      "2023-01-01 21:26:16> streamlit-aggrid - 0.2.1\n",
      "2023-01-01 21:26:16> torch            - 1.7.1\n",
      "2023-01-01 21:26:16> tqdm             - 4.56.0\n",
      "2023-01-01 21:26:16> transformers     - 4.16.1\n",
      "2023-01-01 21:26:16> \n",
      "2023-01-01 21:26:19> Generating the spectral library ...\n",
      "2023-01-01 21:26:22> Predicting RT/IM/MS2 ...\n",
      "2023-01-01 21:26:22> Using multiprocessing ...\n",
      "2023-01-01 21:26:23> Predicting rt,mobility,ms2 ...\n"
     ]
    },
    {
     "name": "stderr",
     "output_type": "stream",
     "text": [
      "100%|██████████| 29/29 [03:40<00:00,  7.59s/it]\n"
     ]
    },
    {
     "name": "stdout",
     "output_type": "stream",
     "text": [
      "2023-01-01 21:30:04> End Predicting RT/IM/MS2\n",
      "2023-01-01 21:30:04> The spectral library with 194285 precursors and 13.85M fragments used 0.7909 GB memory\n",
      "2023-01-01 21:30:04> Saving HDF library to /Users/zengwenfeng/peptdeep/spec_libs/predict.speclib.hdf ...\n",
      "2023-01-01 21:30:06> Translating to /Users/zengwenfeng/peptdeep/spec_libs/predict.speclib.tsv for DiaNN/Spectronaut...\n"
     ]
    },
    {
     "name": "stderr",
     "output_type": "stream",
     "text": [
      "100%|██████████| 1/1 [00:39<00:00, 39.63s/it]\n"
     ]
    },
    {
     "name": "stdout",
     "output_type": "stream",
     "text": [
      "Translation finished, it will take several minutes to export the rest precursors to the tsv file...\n",
      "2023-01-01 21:31:00> Library generated!!\n"
     ]
    }
   ],
   "source": [
    "generate_library()"
   ]
  }
 ],
 "metadata": {
  "kernelspec": {
   "display_name": "Python 3.8.3 ('base')",
   "language": "python",
   "name": "python3"
  },
  "language_info": {
   "codemirror_mode": {
    "name": "ipython",
    "version": 3
   },
   "file_extension": ".py",
   "mimetype": "text/x-python",
   "name": "python",
   "nbconvert_exporter": "python",
   "pygments_lexer": "ipython3",
   "version": "3.8.3"
  },
  "orig_nbformat": 4,
  "vscode": {
   "interpreter": {
    "hash": "8a3b27e141e49c996c9b863f8707e97aabd49c4a7e8445b9b783b34e4a21a9b2"
   }
  }
 },
 "nbformat": 4,
 "nbformat_minor": 2
}
