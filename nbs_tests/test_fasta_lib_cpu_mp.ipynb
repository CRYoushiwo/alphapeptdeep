{
 "cells": [
  {
   "cell_type": "markdown",
   "metadata": {},
   "source": [
    "# Multiprocessing on Linux\n",
    "\n",
    "OS: `Ubuntu` with `kernel 5.4.0-80-generic`\n",
    "\n",
    "For linux, you may need to increase the limit open file number by using\n",
    "```bash\n",
    "ulimit -n xxxx\n",
    "```\n",
    "xxxx depends on how many processes you used. In our tests:\n",
    "\n",
    "- `xxxx` == `1024` is the default value in Linux\n",
    "- `xxxx` == `10240` works for 20 processes but not 24 processes\n",
    "- `xxxx` == `4096` works for 8 processes\n",
    "\n",
    "Otherwise linux will raise `OSError: [Errno 24] Too many open files`."
   ]
  },
  {
   "cell_type": "markdown",
   "metadata": {},
   "source": [
    "> Multiprocessing on Linux is not `copy-on-write` (right??), it requires `process_num` times of the memory. This is important for predicting large spectral libraries (phospho-human-proteome?).\n",
    "\n",
    "> Multiprocessing is `copy-on-write` on Windows and MacOS."
   ]
  },
  {
   "cell_type": "code",
   "execution_count": null,
   "metadata": {},
   "outputs": [],
   "source": [
    "fasta = 'human.fasta'"
   ]
  },
  {
   "cell_type": "code",
   "execution_count": null,
   "metadata": {},
   "outputs": [],
   "source": [
    "from peptdeep.pipeline_api import generate_library, model_mgr, global_settings"
   ]
  },
  {
   "cell_type": "code",
   "execution_count": null,
   "metadata": {},
   "outputs": [],
   "source": [
    "global_settings['torch_device']['device_type']='cpu'\n",
    "global_settings['library']['input']['infiles'] = [fasta]\n",
    "global_settings['library']['input']['infile_type'] = 'fasta'\n",
    "global_settings['library']['input']['fasta']['protease']='([KR])'\n",
    "global_settings['library']['output_tsv']['enabled'] = True\n",
    "global_settings['model_mgr']['predict']['multiprocessing']=True\n",
    "global_settings['thread_num'] = 8"
   ]
  },
  {
   "cell_type": "code",
   "execution_count": null,
   "metadata": {},
   "outputs": [],
   "source": [
    "generate_library()"
   ]
  }
 ],
 "metadata": {
  "kernelspec": {
   "display_name": "Python 3.8.3 ('base')",
   "language": "python",
   "name": "python3"
  }
 },
 "nbformat": 4,
 "nbformat_minor": 2
}
