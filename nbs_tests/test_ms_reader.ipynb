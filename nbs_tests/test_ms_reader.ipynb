{
 "cells": [
  {
   "cell_type": "code",
   "execution_count": null,
   "metadata": {},
   "outputs": [],
   "source": [
    "# import os\n",
    "# reader = ms1_reader_provider.get_reader('thermo')\n",
    "# if reader is not None:\n",
    "#     reader.load(os.path.expanduser('~/Workspace/Data/Thermo_iRT/iRT.raw'))\n",
    "#     scan_no = 3931\n",
    "#     masses, intens = reader.get_peaks(scan_no)\n",
    "#     assert len(masses)==(\n",
    "#         reader.spectrum_df.loc[scan_no,'peak_end_idx']\n",
    "#         -reader.spectrum_df.loc[scan_no,'peak_start_idx']\n",
    "#     )\n",
    "#     assert (np.diff(masses)>=0).all() #sorted\n",
    "#     display(reader.spectrum_df)"
   ]
  },
  {
   "cell_type": "code",
   "execution_count": null,
   "metadata": {},
   "outputs": [],
   "source": [
    "# import os\n",
    "# reader = ms2_reader_provider.get_reader('thermo')\n",
    "# if reader is not None:\n",
    "#     reader.load(os.path.expanduser('~/Workspace/Data/Thermo_iRT/iRT.raw'))\n",
    "#     scan_no = 3934\n",
    "#     masses, intens = reader.get_peaks(scan_no)\n",
    "#     assert len(masses)==(\n",
    "#         reader.spectrum_df.loc[scan_no,'peak_end_idx']\n",
    "#         -reader.spectrum_df.loc[scan_no,'peak_start_idx']\n",
    "#     )\n",
    "#     assert (np.diff(masses)>=0).all() #sorted\n",
    "#     display(reader.spectrum_df)"
   ]
  }
 ],
 "metadata": {
  "kernelspec": {
   "display_name": "Python 3.8.3 ('base')",
   "language": "python",
   "name": "python3"
  },
  "language_info": {
   "name": "python",
   "version": "3.8.3"
  },
  "orig_nbformat": 4,
  "vscode": {
   "interpreter": {
    "hash": "8a3b27e141e49c996c9b863f8707e97aabd49c4a7e8445b9b783b34e4a21a9b2"
   }
  }
 },
 "nbformat": 4,
 "nbformat_minor": 2
}
