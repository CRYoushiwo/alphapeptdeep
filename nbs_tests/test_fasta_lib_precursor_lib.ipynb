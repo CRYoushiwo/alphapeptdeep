{
 "cells": [
  {
   "cell_type": "code",
   "execution_count": 1,
   "metadata": {},
   "outputs": [
    {
     "name": "stdout",
     "output_type": "stream",
     "text": [
      "2024-01-24 16:54:02> WARNING: Temp mmap arrays are written to /var/folders/fh/hf8t3l1x02d42ggk3b304_rh0000gn/T/temp_mmap_cbynx21w. Cleanup of this folder is OS dependant, and might need to be triggered manually! Current space: 640,486,821,888\n",
      "2024-01-24 16:54:02> WARNING: No Bruker libraries are available for this operating system. Mobility and m/z values need to be estimated. While this estimation often returns acceptable results with errors < 0.02 Th, huge errors (e.g. offsets of 6 Th) have already been observed for some samples!\n",
      "2024-01-24 16:54:02> \n"
     ]
    }
   ],
   "source": [
    "from peptdeep.pipeline_api import generate_library, global_settings\n",
    "global_settings['torch_device']['device_type']='cpu'\n",
    "global_settings['library']['infiles'] = [\"precursor_table.csv\"]\n",
    "global_settings['library']['infile_type'] = 'precursor_table'"
   ]
  },
  {
   "cell_type": "code",
   "execution_count": 2,
   "metadata": {},
   "outputs": [
    {
     "name": "stdout",
     "output_type": "stream",
     "text": [
      "2024-01-24 16:54:03> [PeptDeep] Running library task ...\n",
      "2024-01-24 16:54:03> Input files (precursor_table): ['precursor_table.csv']\n",
      "2024-01-24 16:54:03> Platform information:\n",
      "2024-01-24 16:54:03> system        - Darwin\n",
      "2024-01-24 16:54:03> release       - 23.2.0\n",
      "2024-01-24 16:54:03> version       - 14.2.1\n",
      "2024-01-24 16:54:03> machine       - arm64\n",
      "2024-01-24 16:54:03> processor     - arm\n",
      "2024-01-24 16:54:03> cpu count     - 10\n",
      "2024-01-24 16:54:03> ram           - 34.6/64.0 Gb (available/total)\n",
      "2024-01-24 16:54:03> \n",
      "2024-01-24 16:54:03> Python information:\n",
      "2024-01-24 16:54:03> alphabase        - 1.2.0\n",
      "2024-01-24 16:54:03> alphabase>       - \n",
      "2024-01-24 16:54:03> alpharaw         - 0.2.0\n",
      "2024-01-24 16:54:03> alpharaw>        - \n",
      "2024-01-24 16:54:03> biopython        - 1.79\n",
      "2024-01-24 16:54:03> click            - 8.1.3\n",
      "2024-01-24 16:54:03> lxml             - 4.9.1\n",
      "2024-01-24 16:54:03> numba            - 0.58.1\n",
      "2024-01-24 16:54:03> numpy            - 1.26.3\n",
      "2024-01-24 16:54:03> pandas           - 2.1.4\n",
      "2024-01-24 16:54:03> peptdeep         - 1.1.4\n",
      "2024-01-24 16:54:03> psutil           - 5.9.2\n",
      "2024-01-24 16:54:03> pyteomics        - 4.5.6\n",
      "2024-01-24 16:54:03> python           - 3.9.12\n",
      "2024-01-24 16:54:03> scikit-learn     - 1.1.2\n",
      "2024-01-24 16:54:03> streamlit        - 1.30.0\n",
      "2024-01-24 16:54:03> streamlit-aggrid - 0.3.3\n",
      "2024-01-24 16:54:03> streamlit>       - \n",
      "2024-01-24 16:54:03> torch            - 2.0.0\n",
      "2024-01-24 16:54:03> tqdm             - 4.64.0\n",
      "2024-01-24 16:54:03> transformers     - 4.28.1\n",
      "2024-01-24 16:54:03> \n",
      "2024-01-24 16:54:05> xxx/library.tsv does not exist, use default IRT_PEPTIDE_DF to translate irt\n",
      "2024-01-24 16:54:05> Generating the spectral library ...\n",
      "2024-01-24 16:54:05> Loaded 3 precursors.\n",
      "2024-01-24 16:54:05> Predicting RT/IM/MS2 for 3 precursors ...\n",
      "2024-01-24 16:54:05> Predicting RT ...\n"
     ]
    },
    {
     "name": "stderr",
     "output_type": "stream",
     "text": [
      "100%|██████████| 3/3 [00:00<00:00, 238.62it/s]"
     ]
    },
    {
     "name": "stdout",
     "output_type": "stream",
     "text": [
      "2024-01-24 16:54:05> Predicting mobility ...\n"
     ]
    },
    {
     "name": "stderr",
     "output_type": "stream",
     "text": [
      "\n",
      "100%|██████████| 3/3 [00:00<00:00, 393.66it/s]"
     ]
    },
    {
     "name": "stdout",
     "output_type": "stream",
     "text": [
      "2024-01-24 16:54:05> Predicting MS2 ...\n"
     ]
    },
    {
     "name": "stderr",
     "output_type": "stream",
     "text": [
      "\n",
      "100%|██████████| 3/3 [00:00<00:00, 176.88it/s]"
     ]
    },
    {
     "name": "stdout",
     "output_type": "stream",
     "text": [
      "2024-01-24 16:54:05> End predicting RT/IM/MS2\n",
      "2024-01-24 16:54:05> Predicting the spectral library with 3 precursors and 0.00M fragments used 0.5398 GB memory\n",
      "2024-01-24 16:54:05> Saving HDF library to /Users/wenfengzeng/peptdeep/spec_libs/predict.speclib.hdf ...\n",
      "2024-01-24 16:54:05> Library generated!!\n"
     ]
    },
    {
     "name": "stderr",
     "output_type": "stream",
     "text": [
      "\n"
     ]
    }
   ],
   "source": [
    "generate_library()"
   ]
  }
 ],
 "metadata": {
  "kernelspec": {
   "display_name": "base",
   "language": "python",
   "name": "python3"
  },
  "language_info": {
   "codemirror_mode": {
    "name": "ipython",
    "version": 3
   },
   "file_extension": ".py",
   "mimetype": "text/x-python",
   "name": "python",
   "nbconvert_exporter": "python",
   "pygments_lexer": "ipython3",
   "version": "3.9.12"
  }
 },
 "nbformat": 4,
 "nbformat_minor": 2
}
