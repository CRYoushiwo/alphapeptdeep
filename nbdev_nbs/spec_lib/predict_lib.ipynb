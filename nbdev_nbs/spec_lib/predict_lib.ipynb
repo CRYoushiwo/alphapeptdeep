{
 "cells": [
  {
   "cell_type": "code",
   "execution_count": null,
   "metadata": {},
   "outputs": [],
   "source": [
    "#| default_exp spec_lib.predict_lib"
   ]
  },
  {
   "cell_type": "markdown",
   "metadata": {},
   "source": [
    "# Base functionalities to predict libraries"
   ]
  },
  {
   "cell_type": "markdown",
   "metadata": {},
   "source": [
    "For most of the users, `peptdeep.pretrained_models.ModelManager`, and `peptdeep.spec_lib.predict_lib.PredictSpecLib`, and `peptdeep.protein.fasta.PredictFastaSpecLib` can cover most of the use cases.\n",
    "\n",
    "Both  `peptdeep.spec_lib.predict_lib.PredictSpecLib` and `peptdeep.protein.fasta.PredictFastaSpecLib` take `peptdeep.pretrained_models.ModelManager` as the first positional argument. \n",
    "\n"
   ]
  },
  {
   "cell_type": "code",
   "execution_count": null,
   "metadata": {},
   "outputs": [],
   "source": [
    "#| export\n",
    "import pandas as pd\n",
    "import numpy as np\n",
    "import torch\n",
    "from peptdeep.utils import logging\n",
    "\n",
    "from alphabase.peptide.precursor import (\n",
    "    calc_precursor_isotope_mp, calc_precursor_isotope\n",
    ")\n",
    "from peptdeep.utils import process_bar\n",
    "from alphabase.spectral_library.library_base import SpecLibBase\n",
    "from peptdeep.pretrained_models import ModelManager\n",
    "from peptdeep.settings import global_settings\n",
    "\n",
    "lib_settings = global_settings['library']\n",
    "\n",
    "class PredictSpecLib(SpecLibBase):\n",
    "    def __init__(self,\n",
    "        model_manager: ModelManager = None,\n",
    "        charged_frag_types = ['b_z1','b_z2','y_z1','y_z2'],#['b_modloss_z1', ...]\n",
    "        precursor_mz_min = 400, precursor_mz_max = 2000,\n",
    "        decoy:str = 'pseudo_reverse'\n",
    "    ):\n",
    "        super().__init__(\n",
    "            charged_frag_types,\n",
    "            precursor_mz_min=precursor_mz_min,\n",
    "            precursor_mz_max=precursor_mz_max,\n",
    "            decoy = decoy\n",
    "        )\n",
    "        if model_manager is None:\n",
    "            self.model_manager = ModelManager(\n",
    "                mask_modloss=False\n",
    "            )\n",
    "        else:\n",
    "            self.model_manager = model_manager\n",
    "\n",
    "        self._precursor_df = pd.DataFrame()\n",
    "        self._fragment_intensity_df = pd.DataFrame()\n",
    "        self._fragment_mz_df = pd.DataFrame()\n",
    "\n",
    "    def set_precursor_and_fragment(self,\n",
    "        *,\n",
    "        precursor_df: pd.DataFrame,\n",
    "        fragment_mz_df: pd.DataFrame,\n",
    "        fragment_intensity_df: pd.DataFrame,\n",
    "    ):\n",
    "        self._precursor_df = precursor_df\n",
    "        self._fragment_intensity_df = fragment_intensity_df\n",
    "        self._fragment_mz_df = fragment_mz_df\n",
    "\n",
    "        self._fragment_mz_df.drop(columns=[\n",
    "            col for col in self._fragment_mz_df.columns \n",
    "            if col not in self.charged_frag_types\n",
    "        ], inplace=True)\n",
    "\n",
    "        self._fragment_intensity_df.drop(columns=[\n",
    "            col for col in self._fragment_intensity_df.columns \n",
    "            if col not in self.charged_frag_types\n",
    "        ], inplace=True)\n",
    "\n",
    "    def rt_to_irt_pred(self):\n",
    "        \"\"\" Add 'irt_pred' into columns based on 'rt_pred' \"\"\"\n",
    "        return self.model_manager.rt_model.add_irt_column_to_precursor_df(self._precursor_df)\n",
    "\n",
    "    def predict_all(self, \n",
    "        min_required_precursor_num_for_mp:int=2000\n",
    "    ):\n",
    "        \"\"\"\n",
    "        1. Predict RT/IM/MS2 for self._precursor_df\n",
    "        2. Calculate isotope information in self._precursor_df\n",
    "        \"\"\"\n",
    "        logging.info('Calculating precursor isotope distributions ...')\n",
    "        self.calc_precursor_mz()\n",
    "        if len(self.precursor_df) < min_required_precursor_num_for_mp:\n",
    "            self._precursor_df = calc_precursor_isotope(\n",
    "                self._precursor_df\n",
    "            )\n",
    "        else:\n",
    "            self._precursor_df = calc_precursor_isotope_mp(\n",
    "                self._precursor_df, process_bar=process_bar\n",
    "            )\n",
    "        logging.info('Predicting RT/IM/MS2 ...')\n",
    "        res = self.model_manager.predict_all(\n",
    "            self._precursor_df,\n",
    "            predict_items=['rt','mobility','ms2'],\n",
    "            frag_types=self.charged_frag_types,\n",
    "        )\n",
    "        self.set_precursor_and_fragment(**res)\n",
    "        logging.info('End Predicting RT/IM/MS2')\n",
    "        "
   ]
  }
 ],
 "metadata": {
  "kernelspec": {
   "display_name": "Python 3.8.3 ('base')",
   "language": "python",
   "name": "python3"
  },
  "language_info": {
   "name": "python",
   "version": "3.8.3"
  },
  "vscode": {
   "interpreter": {
    "hash": "8a3b27e141e49c996c9b863f8707e97aabd49c4a7e8445b9b783b34e4a21a9b2"
   }
  }
 },
 "nbformat": 4,
 "nbformat_minor": 2
}
