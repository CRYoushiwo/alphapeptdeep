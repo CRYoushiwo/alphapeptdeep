{
 "cells": [
  {
   "cell_type": "code",
   "execution_count": 1,
   "metadata": {},
   "outputs": [],
   "source": [
    "#default_exp spec_lib.predict_lib"
   ]
  },
  {
   "cell_type": "markdown",
   "metadata": {},
   "source": [
    "For most of the users, `alphadeep.pretrained_models.ModelManager`, and `AlphaDeep.spec_lib.predict_lib.PredictSpecLib`, and `AlphaDeep.protein.fasta.PredictFastaSpecLib` can cover most of the use cases.\n",
    "\n",
    "Both  `AlphaDeep.spec_lib.predict_lib.PredictSpecLib` and `AlphaDeep.protein.fasta.PredictFastaSpecLib` take `alphadeep.pretrained_models.ModelManager` as the first positional argument. \n",
    "\n"
   ]
  },
  {
   "cell_type": "code",
   "execution_count": 2,
   "metadata": {},
   "outputs": [],
   "source": [
    "#export\n",
    "import pandas as pd\n",
    "import numpy as np\n",
    "import torch\n",
    "\n",
    "from alphabase.spectrum_library.library_base import SpecLibBase\n",
    "from alphadeep.pretrained_models import ModelManager\n",
    "\n",
    "class PredictSpecLib(SpecLibBase):\n",
    "    def __init__(self,\n",
    "        model_manager: ModelManager,\n",
    "        charged_frag_types = ['b_z1','b_z2','y_z1','y_z2'],#['b_modloss_z1', ...]\n",
    "        min_frag_mz = 50, max_frag_mz = 2000,\n",
    "        min_precursor_mz = 400, max_precursor_mz = 2000,\n",
    "    ):\n",
    "        super().__init__(\n",
    "            charged_frag_types,\n",
    "            min_frag_mz=min_frag_mz,\n",
    "            max_frag_mz=max_frag_mz,\n",
    "            min_precursor_mz=min_precursor_mz,\n",
    "            max_precursor_mz=max_precursor_mz\n",
    "        )\n",
    "        self.model_manager = model_manager\n",
    "\n",
    "        self.intensity_factor = 1\n",
    "        self.verbose = True\n",
    "\n",
    "        self.batch_size_ms2 = 1024\n",
    "        self.batch_size_rt_ccs = 1024\n",
    "\n",
    "        self._precursor_df = pd.DataFrame()\n",
    "        self._fragment_intensity_df = pd.DataFrame()\n",
    "        self._fragment_mz_df = pd.DataFrame()\n",
    "\n",
    "    def predict_rt(self):\n",
    "        \"\"\" add 'rt_pred' and 'irt_pred' into columns \"\"\"\n",
    "        self._precursor_df = self.model_manager.rt_model.predict(\n",
    "            self._precursor_df, \n",
    "            batch_size=self.batch_size_rt_ccs,\n",
    "            verbose=self.verbose\n",
    "        )\n",
    "        self.model_manager.rt_model.rt_to_irt_pred(self._precursor_df)\n",
    "\n",
    "    def predict_mobility(self):\n",
    "        if 'precursor_mz' not in self._precursor_df.columns:\n",
    "            self.calc_precursor_mz()\n",
    "        \"\"\" add 'ccs_pred' and 'mobility_pred' into columns \"\"\"\n",
    "        self._precursor_df = self.model_manager.ccs_model.predict(\n",
    "            self._precursor_df, \n",
    "            batch_size=self.batch_size_rt_ccs,\n",
    "            verbose=self.verbose\n",
    "        )\n",
    "        self.model_manager.ccs_model.ccs_to_mobility_pred(\n",
    "            self._precursor_df\n",
    "        )\n",
    "\n",
    "    def load_fragment_intensity_df(self, **kwargs):\n",
    "        self.predict_fragment_intensity_df(**kwargs)\n",
    "\n",
    "    def predict_fragment_intensity_df(self, **kwargs):\n",
    "        frag_inten_df = self.model_manager.ms2_model.predict(\n",
    "            self._precursor_df,\n",
    "            batch_size=self.batch_size_ms2,\n",
    "            verbose=self.verbose,\n",
    "        )\n",
    "\n",
    "        charged_frag_list = []\n",
    "        for frag_type in self._fragment_mz_df.columns.values:\n",
    "            if frag_type in frag_inten_df:\n",
    "                charged_frag_list.append(frag_type)\n",
    "        self._fragment_mz_df = self._fragment_mz_df[\n",
    "            charged_frag_list\n",
    "        ]\n",
    "        self._fragment_intensity_df = frag_inten_df[\n",
    "            charged_frag_list\n",
    "        ]*self.intensity_factor\n",
    "        self._fragment_intensity_df[self._fragment_mz_df==0] = 0\n",
    "        "
   ]
  }
 ],
 "metadata": {
  "kernelspec": {
   "display_name": "Python 3.8.3 64-bit ('base': conda)",
   "name": "python3"
  },
  "language_info": {
   "codemirror_mode": {
    "name": "ipython",
    "version": 3
   },
   "file_extension": ".py",
   "mimetype": "text/x-python",
   "name": "python",
   "nbconvert_exporter": "python",
   "pygments_lexer": "ipython3",
   "version": "3.8.3"
  }
 },
 "nbformat": 4,
 "nbformat_minor": 2
}
