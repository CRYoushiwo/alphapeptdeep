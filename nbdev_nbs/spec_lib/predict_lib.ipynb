{
 "cells": [
  {
   "cell_type": "code",
   "execution_count": null,
   "metadata": {},
   "outputs": [],
   "source": [
    "#default_exp spec_lib.predict_lib"
   ]
  },
  {
   "cell_type": "markdown",
   "metadata": {},
   "source": [
    "For most of the users, `peptdeep.pretrained_models.ModelManager`, and `peptdeep.spec_lib.predict_lib.PredictSpecLib`, and `peptdeep.protein.fasta.PredictFastaSpecLib` can cover most of the use cases.\n",
    "\n",
    "Both  `peptdeep.spec_lib.predict_lib.PredictSpecLib` and `peptdeep.protein.fasta.PredictFastaSpecLib` take `peptdeep.pretrained_models.ModelManager` as the first positional argument. \n",
    "\n"
   ]
  },
  {
   "cell_type": "code",
   "execution_count": null,
   "metadata": {},
   "outputs": [],
   "source": [
    "#export\n",
    "import pandas as pd\n",
    "import numpy as np\n",
    "import torch\n",
    "from peptdeep.utils import logging\n",
    "\n",
    "from alphabase.spectrum_library.library_base import SpecLibBase\n",
    "from peptdeep.pretrained_models import ModelManager\n",
    "\n",
    "class PredictSpecLib(SpecLibBase):\n",
    "    def __init__(self,\n",
    "        model_manager: ModelManager,\n",
    "        charged_frag_types = ['b_z1','b_z2','y_z1','y_z2'],#['b_modloss_z1', ...]\n",
    "        min_precursor_mz = 400, max_precursor_mz = 2000,\n",
    "        decoy:str = 'pseudo_reverse'\n",
    "    ):\n",
    "        super().__init__(\n",
    "            charged_frag_types,\n",
    "            min_precursor_mz=min_precursor_mz,\n",
    "            max_precursor_mz=max_precursor_mz,\n",
    "            decoy = decoy\n",
    "        )\n",
    "        self.model_manager = model_manager\n",
    "\n",
    "        self.intensity_factor = 1\n",
    "\n",
    "        self._precursor_df = pd.DataFrame()\n",
    "        self._fragment_intensity_df = pd.DataFrame()\n",
    "        self._fragment_mz_df = pd.DataFrame()\n",
    "\n",
    "    def set_precursor_and_fragment(self,\n",
    "        *,\n",
    "        precursor_df: pd.DataFrame,\n",
    "        fragment_mz_df: pd.DataFrame,\n",
    "        fragment_intensity_df: pd.DataFrame,\n",
    "    ):\n",
    "        self._precursor_df = precursor_df\n",
    "        self._fragment_intensity_df = fragment_intensity_df\n",
    "        self._fragment_mz_df = fragment_mz_df\n",
    "\n",
    "        self._fragment_mz_df.drop(columns=[\n",
    "            col for col in self._fragment_mz_df.columns \n",
    "            if col not in self.charged_frag_types\n",
    "        ], inplace=True)\n",
    "\n",
    "        self._fragment_intensity_df.drop(columns=[\n",
    "            col for col in self._fragment_intensity_df.columns \n",
    "            if col not in self.charged_frag_types\n",
    "        ], inplace=True)\n",
    "\n",
    "    def predict_all(self):\n",
    "        \"\"\" add 'rt_pred' and 'irt_pred' into columns \"\"\"\n",
    "        logging.info('predicting RT/IM/MS2 ...')\n",
    "        res = self.model_manager.predict_all(\n",
    "            self._precursor_df,\n",
    "            predict_items=['rt','mobility','ms2'],\n",
    "        )\n",
    "        self.set_precursor_and_fragment(**res)\n",
    "        logging.info('End Predicting RT/IM/MS2')\n",
    "        "
   ]
  }
 ],
 "metadata": {
  "kernelspec": {
   "display_name": "Python 3.8.3 64-bit ('base': conda)",
   "name": "python3"
  }
 },
 "nbformat": 4,
 "nbformat_minor": 2
}
