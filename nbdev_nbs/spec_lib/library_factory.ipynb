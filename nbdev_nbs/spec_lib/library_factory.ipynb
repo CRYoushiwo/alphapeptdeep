{
 "cells": [
  {
   "cell_type": "code",
   "execution_count": null,
   "metadata": {},
   "outputs": [],
   "source": [
    "#default_exp spec_lib.library_factory"
   ]
  },
  {
   "cell_type": "code",
   "execution_count": null,
   "metadata": {},
   "outputs": [],
   "source": [
    "#export\n",
    "from alphabase.peptide.fragment import get_charged_frag_types\n",
    "from peptdeep.settings import global_settings\n",
    "from peptdeep.protein.fasta import PredictFastaSpecLib\n",
    "from peptdeep.spec_lib.translate import (\n",
    "    speclib_to_single_df, mod_to_unimod_dict\n",
    ")\n",
    "\n",
    "from peptdeep.pretrained_models import ModelManager\n",
    "from peptdeep.utils import logging\n",
    "\n",
    "import pandas as pd\n",
    "import numpy as np\n",
    "\n",
    "class PredictLibraryMakerBase(object):\n",
    "    def __init__(self, \n",
    "        settings:dict = global_settings,\n",
    "        model_manager:ModelManager = None,\n",
    "    ):\n",
    "        self._settings = settings\n",
    "        lib_settings = settings['library']\n",
    "        in_settings = lib_settings['input']\n",
    "        self.spec_lib = PredictFastaSpecLib(\n",
    "            model_manager=model_manager,\n",
    "            charged_frag_types = get_charged_frag_types(\n",
    "                in_settings['frag_types'],\n",
    "                in_settings['max_frag_charge'],\n",
    "            ),\n",
    "            protease = in_settings['fasta']['protease'],\n",
    "            max_missed_cleavages = in_settings['fasta']['max_miss_cleave'],\n",
    "            peptide_length_min = in_settings['min_peptide_len'],\n",
    "            peptide_length_max = in_settings['max_peptide_len'],\n",
    "            precursor_charge_min = in_settings['min_precursor_charge'],\n",
    "            precursor_charge_max = in_settings['max_precursor_charge'],\n",
    "            precursor_mz_min = in_settings['min_precursor_mz'], \n",
    "            precursor_mz_max = in_settings['max_precursor_mz'],\n",
    "            var_mods = in_settings['var_mods'],\n",
    "            max_var_mod_num = in_settings['max_var_mod_num'],\n",
    "            fix_mods = in_settings['fix_mods'],\n",
    "            decoy = in_settings['decoy'],\n",
    "            I_to_L=False,\n",
    "    )\n",
    "\n",
    "    def _check_df(self)->str:\n",
    "        pass\n",
    "\n",
    "    def _input(self, _input):\n",
    "        raise NotImplementedError(\"All sub-classes must re-implement '_input()' method\")\n",
    "\n",
    "    def _predict(self):\n",
    "        self.spec_lib.predict_all()\n",
    "        \n",
    "    def _set_df(self):\n",
    "        self.precursor_df = self.spec_lib.precursor_df\n",
    "        self.fragment_mz_df = self.spec_lib.fragment_mz_df\n",
    "        self.fragment_intensity_df = self.spec_lib.fragment_intensity_df\n",
    "\n",
    "    def make_library(self, _input):\n",
    "        logging.info(\"Generating the library...\")\n",
    "        try:\n",
    "            self._input(_input)\n",
    "            self._check_df()\n",
    "            self._predict()\n",
    "            self._set_df()\n",
    "        except ValueError as e:\n",
    "            raise e\n",
    "    \n",
    "    def translate_library(self)->pd.DataFrame:\n",
    "        logging.info(\"Translating to tsv library for DiaNN/Spectronaut...\")\n",
    "        lib_settings = self._settings['library']\n",
    "\n",
    "        if 'proteins' not in self.spec_lib._precursor_df.columns:\n",
    "            self.spec_lib.append_protein_name()\n",
    "        \n",
    "        return speclib_to_single_df(\n",
    "            self.spec_lib, \n",
    "            translate_mod_dict=mod_to_unimod_dict,\n",
    "            keep_k_highest_fragments=lib_settings['output_tsv'][\n",
    "                'keep_higest_k_peaks'\n",
    "            ],\n",
    "            min_frag_intensity=lib_settings['output_tsv'][\n",
    "                'min_relative_intensity'\n",
    "            ],\n",
    "            min_frag_mz=lib_settings['output_tsv'][\n",
    "                'min_fragment_mz'\n",
    "            ],\n",
    "            max_frag_mz=lib_settings['output_tsv'][\n",
    "                'max_fragment_mz'\n",
    "            ],\n",
    "        )"
   ]
  },
  {
   "cell_type": "code",
   "execution_count": null,
   "metadata": {},
   "outputs": [],
   "source": [
    "#export\n",
    "from typing import Union\n",
    "\n",
    "class PrecursorLibraryMaker(PredictLibraryMakerBase):\n",
    "    \"\"\"For input dataframe of charged modified sequences\"\"\"\n",
    "    def _input(self, precursor_df:pd.DataFrame):\n",
    "        self.spec_lib._precursor_df = precursor_df\n",
    "        self.spec_lib.append_decoy_sequence()\n",
    "    \n",
    "    def _check_df(self):\n",
    "        if 'charge' not in self.spec_lib.precursor_df.columns:\n",
    "            raise ValueError('self.spec_lib.precursor_df must contain the \"charge\" column.')\n",
    "        (\n",
    "            self.spec_lib.precursor_df['charge']\n",
    "        ) = self.spec_lib.precursor_df['charge'].astype(np.int8)\n",
    "\n",
    "        if (\n",
    "            'mods' not in self.spec_lib.precursor_df.columns or \n",
    "            'mod_sites' not in self.spec_lib.precursor_df.columns\n",
    "        ):\n",
    "            self.spec_lib.precursor_df['mods'] = ''\n",
    "            self.spec_lib.precursor_df['mod_sites'] = ''\n",
    "        else:\n",
    "            (\n",
    "                self.spec_lib.precursor_df['mods']\n",
    "            ) = self.spec_lib.precursor_df['mods'].astype(str)\n",
    "            (\n",
    "                self.spec_lib.precursor_df['mod_sites']\n",
    "            ) = self.spec_lib.precursor_df['mod_sites'].astype(str)\n",
    "\n",
    "        self.spec_lib.protein_df = pd.DataFrame()\n",
    "\n",
    "class PeptideLibraryMaker(PrecursorLibraryMaker):\n",
    "    \"\"\"For input dataframe of modified sequences\"\"\"\n",
    "    def _input(self, peptide_df:pd.DataFrame):\n",
    "        self.spec_lib._precursor_df = peptide_df\n",
    "        self.spec_lib.append_decoy_sequence()\n",
    "        self.spec_lib.add_charge()\n",
    "\n",
    "class SequenceLibraryMaker(PeptideLibraryMaker):\n",
    "    \"\"\"For input dataframe of sequences\"\"\"\n",
    "    def _input(self, sequence_df:pd.DataFrame):\n",
    "        self.spec_lib._precursor_df = sequence_df\n",
    "        self.spec_lib.append_decoy_sequence()\n",
    "        self.spec_lib.add_modifications()\n",
    "        self.spec_lib.add_charge()\n",
    "\n",
    "class FastaLibraryMaker(PredictLibraryMakerBase):\n",
    "    \"\"\"For fasta or a list of fasta files\"\"\"\n",
    "    def _input(self, fasta:Union[str,list]):\n",
    "        self.spec_lib.from_fasta(fasta)\n",
    "        self.spec_lib.append_decoy_sequence()\n",
    "        self.spec_lib.add_modifications()\n",
    "        self.spec_lib.add_charge()"
   ]
  },
  {
   "cell_type": "code",
   "execution_count": null,
   "metadata": {},
   "outputs": [],
   "source": [
    "#export\n",
    "class LibraryMakerProvider:\n",
    "    def __init__(self):\n",
    "        self.library_maker_dict = {}\n",
    "    def register_maker(self, maker_name:str, maker_class):\n",
    "        self.library_maker_dict[maker_name.lower()] = maker_class\n",
    "    def get_maker(self, maker_name:str, *, \n",
    "        settings:dict = global_settings,\n",
    "        model_manager = None,\n",
    "    )->PredictLibraryMakerBase:\n",
    "        maker_name = maker_name.lower()\n",
    "        if maker_name in self.library_maker_dict:\n",
    "            return self.library_maker_dict[maker_name](settings, model_manager)\n",
    "        else:\n",
    "            raise ValueError(f'library maker \"{maker_name}\" is not registered.')\n",
    "library_maker_provider = LibraryMakerProvider()\n",
    "library_maker_provider.register_maker('precursor_table', PrecursorLibraryMaker)\n",
    "library_maker_provider.register_maker('precursor_library', PrecursorLibraryMaker)\n",
    "library_maker_provider.register_maker('peptide_table', PeptideLibraryMaker)\n",
    "library_maker_provider.register_maker('precursor_library', PeptideLibraryMaker)\n",
    "library_maker_provider.register_maker('sequence_table', SequenceLibraryMaker)\n",
    "library_maker_provider.register_maker('sequence_library', SequenceLibraryMaker)\n",
    "library_maker_provider.register_maker('fasta', FastaLibraryMaker)\n",
    "library_maker_provider.register_maker('fasta_library', FastaLibraryMaker)"
   ]
  },
  {
   "cell_type": "code",
   "execution_count": null,
   "metadata": {},
   "outputs": [
    {
     "name": "stdout",
     "output_type": "stream",
     "text": [
      "2022-04-03 16:39:46> predicting RT/IM/MS2 ...\n",
      "2022-04-03 16:39:46> Predicting RT ...\n"
     ]
    },
    {
     "name": "stderr",
     "output_type": "stream",
     "text": [
      "100%|██████████| 5/5 [00:00<00:00, 120.99it/s]"
     ]
    },
    {
     "name": "stdout",
     "output_type": "stream",
     "text": [
      "2022-04-03 16:39:46> Predicting mobility ...\n"
     ]
    },
    {
     "name": "stderr",
     "output_type": "stream",
     "text": [
      "\n",
      "100%|██████████| 5/5 [00:00<00:00, 110.72it/s]"
     ]
    },
    {
     "name": "stdout",
     "output_type": "stream",
     "text": [
      "2022-04-03 16:39:46> Predicting MS2 ...\n"
     ]
    },
    {
     "name": "stderr",
     "output_type": "stream",
     "text": [
      "\n",
      "100%|██████████| 5/5 [00:00<00:00, 43.41it/s]"
     ]
    },
    {
     "name": "stdout",
     "output_type": "stream",
     "text": [
      "2022-04-03 16:39:46> End Predicting RT/IM/MS2\n"
     ]
    },
    {
     "name": "stderr",
     "output_type": "stream",
     "text": [
      "\n"
     ]
    },
    {
     "name": "stdout",
     "output_type": "stream",
     "text": [
      "2022-04-03 16:39:48> predicting RT/IM/MS2 ...\n",
      "2022-04-03 16:39:48> Predicting RT ...\n"
     ]
    },
    {
     "name": "stderr",
     "output_type": "stream",
     "text": [
      "100%|██████████| 5/5 [00:00<00:00, 121.31it/s]"
     ]
    },
    {
     "name": "stdout",
     "output_type": "stream",
     "text": [
      "2022-04-03 16:39:49> Predicting mobility ...\n"
     ]
    },
    {
     "name": "stderr",
     "output_type": "stream",
     "text": [
      "\n",
      "100%|██████████| 5/5 [00:00<00:00, 112.35it/s]"
     ]
    },
    {
     "name": "stdout",
     "output_type": "stream",
     "text": [
      "2022-04-03 16:39:49> Predicting MS2 ...\n"
     ]
    },
    {
     "name": "stderr",
     "output_type": "stream",
     "text": [
      "\n",
      "100%|██████████| 5/5 [00:00<00:00, 46.88it/s]"
     ]
    },
    {
     "name": "stdout",
     "output_type": "stream",
     "text": [
      "2022-04-03 16:39:49> End Predicting RT/IM/MS2\n"
     ]
    },
    {
     "name": "stderr",
     "output_type": "stream",
     "text": [
      "\n"
     ]
    }
   ],
   "source": [
    "#hide\n",
    "from peptdeep.model.rt import irt_pep\n",
    "lib_maker = library_maker_provider.get_maker('peptide_table')\n",
    "lib_maker.make_library(irt_pep.copy())\n",
    "assert \"charge\" in lib_maker.precursor_df.columns\n",
    "\n",
    "lib_maker = library_maker_provider.get_maker('sequence_table')\n",
    "lib_maker.make_library(irt_pep.copy())\n",
    "assert \"charge\" in lib_maker.precursor_df.columns"
   ]
  },
  {
   "cell_type": "code",
   "execution_count": null,
   "metadata": {},
   "outputs": [],
   "source": [
    "#hide\n",
    "lib_maker = library_maker_provider.get_maker('precursor_table')\n",
    "try:\n",
    "    lib_maker.make_library(irt_pep.copy())\n",
    "except ValueError as e:\n",
    "    assert 'must contain the \"charge\" column' in str(e)"
   ]
  },
  {
   "cell_type": "code",
   "execution_count": null,
   "metadata": {},
   "outputs": [],
   "source": []
  }
 ],
 "metadata": {
  "kernelspec": {
   "display_name": "Python 3.8.3 ('base')",
   "language": "python",
   "name": "python3"
  }
 },
 "nbformat": 4,
 "nbformat_minor": 2
}
