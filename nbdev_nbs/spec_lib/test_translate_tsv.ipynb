{
 "cells": [
  {
   "cell_type": "markdown",
   "metadata": {},
   "source": [
    "### Testing translate_tsv()"
   ]
  },
  {
   "cell_type": "code",
   "execution_count": null,
   "metadata": {},
   "outputs": [
    {
     "data": {
      "text/html": [
       "<div>\n",
       "<style scoped>\n",
       "    .dataframe tbody tr th:only-of-type {\n",
       "        vertical-align: middle;\n",
       "    }\n",
       "\n",
       "    .dataframe tbody tr th {\n",
       "        vertical-align: top;\n",
       "    }\n",
       "\n",
       "    .dataframe thead th {\n",
       "        text-align: right;\n",
       "    }\n",
       "</style>\n",
       "<table border=\"1\" class=\"dataframe\">\n",
       "  <thead>\n",
       "    <tr style=\"text-align: right;\">\n",
       "      <th></th>\n",
       "      <th>b_z1</th>\n",
       "      <th>y_z1</th>\n",
       "      <th>y_modloss_z1</th>\n",
       "    </tr>\n",
       "  </thead>\n",
       "  <tbody>\n",
       "    <tr>\n",
       "      <th>0</th>\n",
       "      <td>72.044390</td>\n",
       "      <td>1376.527555</td>\n",
       "      <td>1278.550659</td>\n",
       "    </tr>\n",
       "    <tr>\n",
       "      <th>1</th>\n",
       "      <td>239.042750</td>\n",
       "      <td>1209.529195</td>\n",
       "      <td>0.000000</td>\n",
       "    </tr>\n",
       "    <tr>\n",
       "      <th>2</th>\n",
       "      <td>296.064213</td>\n",
       "      <td>1152.507732</td>\n",
       "      <td>0.000000</td>\n",
       "    </tr>\n",
       "    <tr>\n",
       "      <th>3</th>\n",
       "      <td>433.123125</td>\n",
       "      <td>1015.448820</td>\n",
       "      <td>0.000000</td>\n",
       "    </tr>\n",
       "    <tr>\n",
       "      <th>4</th>\n",
       "      <td>536.132310</td>\n",
       "      <td>912.439635</td>\n",
       "      <td>0.000000</td>\n",
       "    </tr>\n",
       "    <tr>\n",
       "      <th>...</th>\n",
       "      <td>...</td>\n",
       "      <td>...</td>\n",
       "      <td>...</td>\n",
       "    </tr>\n",
       "    <tr>\n",
       "      <th>105</th>\n",
       "      <td>585.208572</td>\n",
       "      <td>634.312978</td>\n",
       "      <td>0.000000</td>\n",
       "    </tr>\n",
       "    <tr>\n",
       "      <th>106</th>\n",
       "      <td>771.287885</td>\n",
       "      <td>448.233665</td>\n",
       "      <td>0.000000</td>\n",
       "    </tr>\n",
       "    <tr>\n",
       "      <th>107</th>\n",
       "      <td>902.328370</td>\n",
       "      <td>317.193180</td>\n",
       "      <td>0.000000</td>\n",
       "    </tr>\n",
       "    <tr>\n",
       "      <th>108</th>\n",
       "      <td>973.365484</td>\n",
       "      <td>246.156066</td>\n",
       "      <td>0.000000</td>\n",
       "    </tr>\n",
       "    <tr>\n",
       "      <th>109</th>\n",
       "      <td>1044.402598</td>\n",
       "      <td>175.118952</td>\n",
       "      <td>0.000000</td>\n",
       "    </tr>\n",
       "  </tbody>\n",
       "</table>\n",
       "<p>110 rows × 3 columns</p>\n",
       "</div>"
      ],
      "text/plain": [
       "            b_z1         y_z1  y_modloss_z1\n",
       "0      72.044390  1376.527555   1278.550659\n",
       "1     239.042750  1209.529195      0.000000\n",
       "2     296.064213  1152.507732      0.000000\n",
       "3     433.123125  1015.448820      0.000000\n",
       "4     536.132310   912.439635      0.000000\n",
       "..           ...          ...           ...\n",
       "105   585.208572   634.312978      0.000000\n",
       "106   771.287885   448.233665      0.000000\n",
       "107   902.328370   317.193180      0.000000\n",
       "108   973.365484   246.156066      0.000000\n",
       "109  1044.402598   175.118952      0.000000\n",
       "\n",
       "[110 rows x 3 columns]"
      ]
     },
     "execution_count": null,
     "metadata": {},
     "output_type": "execute_result"
    }
   ],
   "source": [
    "from alphabase.peptide.fragment import create_fragment_mz_dataframe\n",
    "import pandas as pd\n",
    "\n",
    "import os\n",
    "\n",
    "if not os.path.exists('sandbox'):\n",
    "    os.makedirs('sandbox')\n",
    "\n",
    "repeat = 10\n",
    "charged_frag_types = ['b_z1','y_z1','y_modloss_z1']\n",
    "precursor_df = pd.DataFrame({\n",
    "    'sequence': ['ASGHCEWMKYR']*repeat+['ASGHCEWMAAR'],\n",
    "    'mods': ['Acetyl@Protein N-term;Carbamidomethyl@C;Oxidation@M']*repeat+[''],\n",
    "    'mod_sites': ['0;4;8']*repeat+[''],\n",
    "    'nAA': 11,\n",
    "    'NCE': 20,\n",
    "    'instrument': 'QE',\n",
    "    'rt_pred': 10,\n",
    "    'charge': 2,\n",
    "    'protein_name': 'unknown',\n",
    "    'mobility_pred': 1,\n",
    "})\n",
    "precursor_df.loc[0,['mods','mod_sites']] = ['Phospho@S','2']\n",
    "frag_mass_df = create_fragment_mz_dataframe(precursor_df, charged_frag_types)\n",
    "frag_mass_df"
   ]
  },
  {
   "cell_type": "code",
   "execution_count": null,
   "metadata": {},
   "outputs": [],
   "source": [
    "from alphabase.spectral_library.library_base import SpecLibBase\n",
    "spec_lib = SpecLibBase(charged_frag_types)\n",
    "spec_lib._precursor_df = precursor_df\n",
    "spec_lib._fragment_intensity_df = frag_mass_df.copy()\n",
    "spec_lib._fragment_mz_df = frag_mass_df.copy()"
   ]
  },
  {
   "cell_type": "code",
   "execution_count": null,
   "metadata": {},
   "outputs": [
    {
     "name": "stderr",
     "output_type": "stream",
     "text": [
      "11it [00:01,  5.70it/s]\n",
      "100%|██████████| 6/6 [00:00<00:00, 51.14it/s]\n"
     ]
    },
    {
     "name": "stdout",
     "output_type": "stream",
     "text": [
      "Translation finished, it will take several minutes to export the rest precursors to the tsv file...\n"
     ]
    }
   ],
   "source": [
    "from peptdeep.spec_lib.translate import speclib_to_single_df, translate_to_tsv\n",
    "import numpy as np\n",
    "speclib_sdf = speclib_to_single_df(spec_lib)\n",
    "translate_to_tsv(spec_lib, 'sandbox/lib.tsv', batch_size=2, multiprocessing=True)\n",
    "ddf = pd.read_csv('sandbox/lib.tsv', sep=\"\\t\")\n",
    "assert len(ddf) == len(speclib_sdf)\n",
    "assert ddf.StrippedPeptide.values[0] == speclib_sdf.StrippedPeptide.values[0]\n",
    "assert ddf.StrippedPeptide.values[-1] == speclib_sdf.StrippedPeptide.values[-1]\n",
    "assert ddf.PrecursorCharge.dtype==np.int"
   ]
  },
  {
   "cell_type": "code",
   "execution_count": null,
   "metadata": {},
   "outputs": [],
   "source": []
  }
 ],
 "metadata": {
  "kernelspec": {
   "display_name": "Python 3.8.3 ('base')",
   "language": "python",
   "name": "python3"
  }
 },
 "nbformat": 4,
 "nbformat_minor": 2
}
