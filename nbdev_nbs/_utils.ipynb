{
 "cells": [
  {
   "cell_type": "code",
   "execution_count": 1,
   "source": [
    "#default_exp _utils"
   ],
   "outputs": [],
   "metadata": {}
  },
  {
   "cell_type": "code",
   "execution_count": 2,
   "source": [
    "#export\n",
    "import tqdm\n",
    "import functools\n",
    "import numba\n",
    "\n",
    "def tqdm_wrapper(pbar:tqdm.tqdm, update:float, epoch, nAA, batch, loss) -> None:\n",
    "    \"\"\"Update a qdm progress bar.\n",
    "    Args:\n",
    "        pbar (type): a tqd, .tqdm objet.\n",
    "        update (float): The new value for the progressbar.\n",
    "    \"\"\"\n",
    "    current_value = pbar.n\n",
    "    delta = update - current_value\n",
    "    pbar.update(delta)\n",
    "    pbar.set_description(f'Epoch={epoch+1}, nAA={nAA}, Batch={batch}, Loss={loss:.4f}' )\n",
    "\n",
    "def train_callback():\n",
    "    return functools.partial(tqdm_wrapper, tqdm.tqdm(total=1))\n"
   ],
   "outputs": [],
   "metadata": {}
  },
  {
   "cell_type": "code",
   "execution_count": 3,
   "source": [
    "import time\n",
    "def run(n, cb=train_callback()):\n",
    "    for i in range(n):\n",
    "        cb(i/n, i, 10, 2, 0.2)\n",
    "        time.sleep(0.02)\n",
    "run(100)"
   ],
   "outputs": [
    {
     "output_type": "stream",
     "name": "stderr",
     "text": [
      "Epoch=100, nAA=10, Batch=2, Loss=0.2000:  99%|█████████▉| 0.99/1 [00:02<00:00,  2.39s/it]"
     ]
    }
   ],
   "metadata": {}
  },
  {
   "cell_type": "code",
   "execution_count": 4,
   "source": [
    "import time\n",
    "run(100)"
   ],
   "outputs": [
    {
     "output_type": "stream",
     "name": "stderr",
     "text": [
      "Epoch=100, nAA=10, Batch=2, Loss=0.2000:  99%|█████████▉| 0.99/1 [00:04<00:00,  2.44s/it]"
     ]
    }
   ],
   "metadata": {}
  },
  {
   "cell_type": "code",
   "execution_count": 5,
   "source": [
    "#export\n",
    "@numba.njit\n",
    "def str_to_int(s):\n",
    "    if s.startswith('-'):\n",
    "        neg = True\n",
    "        s = s[1:]\n",
    "    else:\n",
    "        neg = False\n",
    "    final_index, result = len(s) - 1, 0\n",
    "    for i,v in enumerate(s):\n",
    "        result += (ord(v) - 48) * (10 ** (final_index - i))\n",
    "    if neg:\n",
    "        return -result\n",
    "    else:\n",
    "        return result"
   ],
   "outputs": [],
   "metadata": {}
  },
  {
   "cell_type": "code",
   "execution_count": 6,
   "source": [
    "#hide\n",
    "print(str_to_int(\"1\"))\n",
    "print(str_to_int(\"12\"))\n",
    "print(str_to_int(\"123\"))\n",
    "print(str_to_int(\"-1\"))"
   ],
   "outputs": [
    {
     "output_type": "stream",
     "name": "stdout",
     "text": [
      "1\n",
      "12\n",
      "123\n",
      "-1\n"
     ]
    }
   ],
   "metadata": {}
  }
 ],
 "metadata": {
  "orig_nbformat": 4,
  "language_info": {
   "name": "python",
   "version": "3.8.3",
   "mimetype": "text/x-python",
   "codemirror_mode": {
    "name": "ipython",
    "version": 3
   },
   "pygments_lexer": "ipython3",
   "nbconvert_exporter": "python",
   "file_extension": ".py"
  },
  "kernelspec": {
   "name": "python3",
   "display_name": "Python 3.8.3 64-bit ('base': conda)"
  },
  "interpreter": {
   "hash": "47571f5fdb57242938b1c768688b8dffd916e56712176e488a19312fe26ffb57"
  }
 },
 "nbformat": 4,
 "nbformat_minor": 2
}