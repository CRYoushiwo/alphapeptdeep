{
 "cells": [
  {
   "cell_type": "code",
   "execution_count": null,
   "metadata": {},
   "outputs": [],
   "source": [
    "#| default_exp psm_frag_reader.psm_frag_reader"
   ]
  },
  {
   "cell_type": "markdown",
   "metadata": {},
   "source": [
    "# PSM reader with fragments\n",
    "All psm_frag_reader modules (`psm_frag_reader`, `maxquant_frag_reader`, and `psmlabel_frag_reader`) are used to load fragment intensities to train the MS2 model.\n",
    "\n",
    "For users and developers, we recommend to use `peptdeep.mass_spec.match` to match the fragment information from the mass spec file. "
   ]
  },
  {
   "cell_type": "code",
   "execution_count": null,
   "metadata": {},
   "outputs": [],
   "source": [
    "#| hide\n",
    "%reload_ext autoreload\n",
    "%autoreload 2"
   ]
  },
  {
   "cell_type": "code",
   "execution_count": null,
   "metadata": {},
   "outputs": [],
   "source": [
    "#| export\n",
    "import typing\n",
    "import numpy as np\n",
    "import pandas as pd\n",
    "\n",
    "from alphabase.peptide.fragment import get_charged_frag_types\n",
    "from alphabase.io.psm_reader.psm_reader import PSMReaderBase\n",
    "\n",
    "\n",
    "class PSMReader_w_FragBase:\n",
    "    '''\n",
    "    Read PSMs and fragments\n",
    "    '''\n",
    "    def __init__(self,\n",
    "        *,\n",
    "        frag_types=['b','y','b_modloss','y_modloss'], \n",
    "        max_frag_charge=2,\n",
    "        **kwargs,\n",
    "    ):\n",
    "\n",
    "        self.charged_frag_types = get_charged_frag_types(\n",
    "            frag_types, max_frag_charge\n",
    "        )\n",
    "        self._fragment_intensity_df:pd.DataFrame = pd.DataFrame(\n",
    "            columns=self.charged_frag_types\n",
    "        )\n",
    "    \n",
    "    @property\n",
    "    def fragment_intensity_df(self):\n",
    "        return self._fragment_intensity_df\n"
   ]
  },
  {
   "cell_type": "code",
   "execution_count": null,
   "metadata": {},
   "outputs": [],
   "source": [
    "#| export\n",
    "class PSM_w_FragReaderProvider:\n",
    "    def __init__(self):\n",
    "        self.reader_dict = {}\n",
    "\n",
    "    def register_reader(self, reader_name, reader_class):\n",
    "        # for example, we can register the AlphaPept reader \n",
    "        self.reader_dict[reader_name.lower()] = reader_class\n",
    "\n",
    "    def get_reader(self, reader_name, \n",
    "        frag_types=['b','y','b_modloss','y_modloss'], \n",
    "        max_frag_charge=2, **kwargs,\n",
    "    )->PSMReader_w_FragBase:\n",
    "        return self.reader_dict[reader_name.lower()](\n",
    "            frag_types=frag_types, max_frag_charge=max_frag_charge, \n",
    "            **kwargs\n",
    "        )\n",
    "\n",
    "psm_w_frag_reader_provider = PSM_w_FragReaderProvider()"
   ]
  },
  {
   "cell_type": "code",
   "execution_count": null,
   "metadata": {},
   "outputs": [],
   "source": []
  }
 ],
 "metadata": {
  "kernelspec": {
   "display_name": "Python 3.8.3 ('base')",
   "language": "python",
   "name": "python3"
  },
  "language_info": {
   "name": "python",
   "version": "3.8.3"
  },
  "vscode": {
   "interpreter": {
    "hash": "8a3b27e141e49c996c9b863f8707e97aabd49c4a7e8445b9b783b34e4a21a9b2"
   }
  }
 },
 "nbformat": 4,
 "nbformat_minor": 2
}
