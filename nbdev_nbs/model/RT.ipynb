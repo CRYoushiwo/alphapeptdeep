{
 "cells": [
  {
   "cell_type": "code",
   "execution_count": null,
   "source": [
    "#default_exp model.RT"
   ],
   "outputs": [],
   "metadata": {}
  },
  {
   "cell_type": "code",
   "execution_count": null,
   "source": [
    "#hide\n",
    "%reload_ext autoreload\n",
    "%autoreload 2"
   ],
   "outputs": [],
   "metadata": {}
  },
  {
   "cell_type": "code",
   "execution_count": null,
   "source": [
    "#export\n",
    "import torch\n",
    "import pandas as pd\n",
    "import numpy as np\n",
    "\n",
    "from tqdm import tqdm\n",
    "\n",
    "from alphadeep.model.featurize import \\\n",
    "    parse_aa_indices, \\\n",
    "    get_batch_mod_feature\n",
    "\n",
    "from alphadeep._settings import model_const\n",
    "\n",
    "import alphadeep.model.base as model_base\n",
    "\n",
    "\n",
    "mod_feature_size = len(model_const['mod_elements'])\n"
   ],
   "outputs": [],
   "metadata": {}
  },
  {
   "cell_type": "code",
   "execution_count": null,
   "source": [
    "#export\n",
    "class EncDecModelRT(torch.nn.Module):\n",
    "    def __init__(self, \n",
    "        mod_feature_size,\n",
    "        dropout=0.2\n",
    "    ):\n",
    "        super().__init__()\n",
    "        self.aa_embedding_size = 27\n",
    "        \n",
    "        self.dropout = torch.nn.Dropout(dropout)\n",
    "        \n",
    "        hidden = 256\n",
    "        self.encoder = model_base.SeqEncoder(\n",
    "            self.aa_embedding_size+mod_feature_size, \n",
    "            hidden,\n",
    "            dropout=0,\n",
    "            rnn_layer=2\n",
    "        )\n",
    "\n",
    "        self.decoder = model_base.LinearDecoder(\n",
    "            hidden,\n",
    "            1\n",
    "        )\n",
    "\n",
    "    def forward(self, \n",
    "        aa_indices, \n",
    "        mod_x,\n",
    "    ):\n",
    "        aa_x = torch.nn.functional.one_hot(\n",
    "            aa_indices, self.aa_embedding_size\n",
    "        )\n",
    "\n",
    "        x = torch.cat((aa_x, mod_x), 2)\n",
    "        x = self.encoder(x)\n",
    "        x = self.dropout(x)\n",
    "\n",
    "        return self.decoder(x).squeeze(1)"
   ],
   "outputs": [],
   "metadata": {}
  },
  {
   "cell_type": "code",
   "execution_count": null,
   "source": [
    "#export\n",
    "class AlphaRTModel(model_base.ModelImplBase):\n",
    "    def __init__(self, dropout=0.2, lr=0.001):\n",
    "        super().__init__()\n",
    "        self.build(\n",
    "            EncDecModelRT, lr=lr, \n",
    "            dropout=dropout, \n",
    "            mod_feature_size=mod_feature_size\n",
    "        )\n",
    "        self.loss_func = torch.nn.L1Loss()\n",
    "    \n",
    "    def train(self, \n",
    "        precursor_df: pd.DataFrame,\n",
    "        epoch=10,\n",
    "        batch_size=1024,\n",
    "        verbose=False,\n",
    "        verbose_each_epoch=False,\n",
    "    ):\n",
    "        self.model.train()\n",
    "\n",
    "        for epoch in range(epoch):\n",
    "            batch_cost = []\n",
    "            _grouped = list(precursor_df.sample(frac=1).groupby('nAA'))\n",
    "            rnd_nAA = np.random.permutation(len(_grouped))\n",
    "            if verbose_each_epoch:\n",
    "                batch_tqdm = tqdm(rnd_nAA)\n",
    "            else:\n",
    "                batch_tqdm = rnd_nAA\n",
    "            for i_group in batch_tqdm:\n",
    "                nAA, df_group = _grouped[i_group]\n",
    "                df_group = df_group.reset_index(drop=True)\n",
    "                for i in range(0, len(df_group), batch_size):\n",
    "                    batch_end = i+batch_size-1 # DataFrame.loc[start:end] inlcudes the end\n",
    "\n",
    "                    aa_indices = torch.LongTensor(\n",
    "                        parse_aa_indices(\n",
    "                            df_group.loc[i:batch_end, 'sequence'].values.astype('U')\n",
    "                        )\n",
    "                    )\n",
    "\n",
    "                    mod_x_batch = get_batch_mod_feature(df_group.loc[i:batch_end,:], nAA)\n",
    "                    mod_x = torch.Tensor(mod_x_batch)\n",
    "\n",
    "                    RTs = torch.Tensor(df_group.loc[i:batch_end,'RT'].values)\n",
    "\n",
    "                    cost = self._train_one_batch(\n",
    "                        RTs,\n",
    "                        aa_indices, mod_x\n",
    "                    )\n",
    "                    batch_cost.append(cost.item())\n",
    "                if verbose_each_epoch:\n",
    "                    batch_tqdm.set_description(\n",
    "                        f'Epoch={epoch+1}, nAA={nAA}, Batch={len(batch_cost)}, Loss={cost.item():.4f}'\n",
    "                    )\n",
    "            if verbose: print(f'[MS/MS training] Epoch={epoch+1}, Mean Loss={np.mean(batch_cost)}')\n",
    "\n",
    "    def predict(self, precursor_df, batch_size=1024, verbose=False):\n",
    "        self.model.eval()\n",
    "\n",
    "        precursor_df['predict_RT'] = 0\n",
    "\n",
    "        _grouped = precursor_df.groupby('nAA')\n",
    "        df_list = []\n",
    "        if verbose:\n",
    "            batch_tqdm = tqdm(_grouped)\n",
    "        else:\n",
    "            batch_tqdm = _grouped\n",
    "        for nAA, df_group in batch_tqdm:\n",
    "            df_group = df_group.reset_index(drop=True)\n",
    "            for i in range(0, len(df_group), batch_size):\n",
    "                batch_end = i+batch_size-1 # DataFrame.loc[start:end] inlcudes the end\n",
    "\n",
    "                mod_x_batch = get_batch_mod_feature(df_group.loc[i:batch_end,:], nAA)\n",
    "\n",
    "                aa_indices = torch.LongTensor(parse_aa_indices(\n",
    "                    df_group.loc[i:batch_end, 'sequence'].values.astype('U')\n",
    "                ))\n",
    "                mod_x = torch.Tensor(mod_x_batch)\n",
    "\n",
    "                predicts = self.model(\n",
    "                    *[fea.to(self.device) for fea in\n",
    "                    [aa_indices, mod_x]\n",
    "                ]).cpu().detach().numpy()\n",
    "\n",
    "                predicts[predicts<0] = 0\n",
    "\n",
    "                df_group.loc[i:batch_end, 'predict_RT'] = predicts\n",
    "            df_list.append(df_group)\n",
    "\n",
    "        return pd.concat(df_list).reset_index(drop=True)"
   ],
   "outputs": [],
   "metadata": {}
  },
  {
   "cell_type": "code",
   "execution_count": null,
   "source": [
    "model = AlphaRTModel()\r\n",
    "model.device = torch.device('cpu')\r\n",
    "model.model.to(model.device)\r\n",
    "model.model(torch.LongTensor([[1,2,3,4,5,6]]), torch.tensor([[[0.0]*8]*6]))"
   ],
   "outputs": [
    {
     "output_type": "execute_result",
     "data": {
      "text/plain": [
       "tensor([0.0373], grad_fn=<SqueezeBackward1>)"
      ]
     },
     "metadata": {},
     "execution_count": null
    }
   ],
   "metadata": {}
  },
  {
   "cell_type": "code",
   "execution_count": null,
   "source": [
    "model.model"
   ],
   "outputs": [
    {
     "output_type": "execute_result",
     "data": {
      "text/plain": [
       "EncDecModelRT(\n",
       "  (dropout): Dropout(p=0.2, inplace=False)\n",
       "  (encoder): SeqEncoder(\n",
       "    (dropout): Dropout(p=0, inplace=False)\n",
       "    (input_cnn): SeqCNN(\n",
       "      (cnn_short): Conv1d(35, 35, kernel_size=(3,), stride=(1,), padding=(1,))\n",
       "      (cnn_medium): Conv1d(35, 35, kernel_size=(5,), stride=(1,), padding=(2,))\n",
       "      (cnn_long): Conv1d(35, 35, kernel_size=(7,), stride=(1,), padding=(3,))\n",
       "    )\n",
       "    (hidden_nn): SeqLSTM(\n",
       "      (rnn): LSTM(140, 128, num_layers=2, batch_first=True, bidirectional=True)\n",
       "    )\n",
       "    (attn_sum): SeqAttentionSum(\n",
       "      (attn): Sequential(\n",
       "        (0): Linear(in_features=256, out_features=1, bias=False)\n",
       "        (1): Softmax(dim=1)\n",
       "      )\n",
       "    )\n",
       "  )\n",
       "  (decoder): LinearDecoder(\n",
       "    (nn): Sequential(\n",
       "      (0): Linear(in_features=256, out_features=64, bias=True)\n",
       "      (1): PReLU(num_parameters=1)\n",
       "      (2): Linear(in_features=64, out_features=1, bias=True)\n",
       "    )\n",
       "  )\n",
       ")"
      ]
     },
     "metadata": {},
     "execution_count": null
    }
   ],
   "metadata": {}
  },
  {
   "cell_type": "code",
   "execution_count": null,
   "source": [
    "#export\r\n",
    "import statsmodels.api as sm\r\n",
    "import matplotlib.pyplot as plt\r\n",
    "import seaborn as sns\r\n",
    "\r\n",
    "def evaluate_linear_regression(df, x='predict_RT', y='RT', ci=0.95):\r\n",
    "    gls = sm.GLS(df[y], sm.add_constant(df[x]))\r\n",
    "    res = gls.fit()\r\n",
    "    summary = res.summary(alpha=1-ci)\r\n",
    "    return summary\r\n",
    "\r\n",
    "def evaluate_linear_regression_plot(df, x='predict_RT', y='RT', ci=95):\r\n",
    "    sns.regplot(data=df, x=x, y=y, color='r', ci=ci, scatter_kws={'s':0.05, 'alpha':0.05, 'color':'b'})\r\n",
    "    plt.show()"
   ],
   "outputs": [],
   "metadata": {}
  },
  {
   "cell_type": "code",
   "execution_count": null,
   "source": [
    "import pandas as pd\r\n",
    "import numpy as np\r\n",
    "df = pd.DataFrame({'RT':np.arange(10), 'predict_RT':np.arange(10)+np.random.normal(0,0.3,10)})\r\n",
    "evaluate_linear_regression_plot(df)"
   ],
   "outputs": [
    {
     "output_type": "display_data",
     "data": {
      "image/png": "[encoded data removed]",
      "text/plain": [
       "<Figure size 432x288 with 1 Axes>"
      ]
     },
     "metadata": {
      "needs_background": "light"
     }
    }
   ],
   "metadata": {}
  },
  {
   "cell_type": "code",
   "execution_count": null,
   "source": [],
   "outputs": [],
   "metadata": {}
  }
 ],
 "metadata": {
  "kernelspec": {
   "display_name": "Python 3.8.0 64-bit ('py38': conda)",
   "name": "python380jvsc74a57bd0842a34f062b255d2b2c25a1951f23b7b15edc17c264f3c83e93f17685f7fad17"
  }
 },
 "nbformat": 4,
 "nbformat_minor": 2
}