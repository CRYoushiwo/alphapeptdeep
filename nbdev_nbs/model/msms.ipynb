{
 "cells": [
  {
   "cell_type": "code",
   "execution_count": 1,
   "metadata": {},
   "outputs": [],
   "source": [
    "#default_exp model.msms"
   ]
  },
  {
   "cell_type": "code",
   "execution_count": 2,
   "metadata": {},
   "outputs": [],
   "source": [
    "#hide\n",
    "%reload_ext autoreload\n",
    "%autoreload 2"
   ]
  },
  {
   "cell_type": "code",
   "execution_count": 3,
   "metadata": {},
   "outputs": [],
   "source": [
    "#export\r\n",
    "import torch\r\n",
    "import pandas as pd\r\n",
    "import numpy as np\r\n",
    "\r\n",
    "import typing\r\n",
    "\r\n",
    "from tqdm import tqdm\r\n",
    "\r\n",
    "from alphabase.peptide.fragment import \\\r\n",
    "    init_fragment_by_precursor_dataframe, \\\r\n",
    "    set_sliced_fragment_dataframe, \\\r\n",
    "    get_sliced_fragment_dataframe, \\\r\n",
    "    get_charged_frag_types\r\n",
    "\r\n",
    "from alphadeep.model.featurize import \\\r\n",
    "    parse_aa_indices, parse_instrument_indices, \\\r\n",
    "    get_batch_mod_feature\r\n",
    "\r\n",
    "from alphadeep._settings import \\\r\n",
    "    global_settings as settings, \\\r\n",
    "    const_settings\r\n",
    "\r\n",
    "import alphadeep.model.base as model_base\r\n",
    "\r\n",
    "class ModelMSMSpDeep3(torch.nn.Module):\r\n",
    "    def __init__(self,\r\n",
    "        mod_feature_size,\r\n",
    "        num_ion_types,\r\n",
    "        max_instrument_num,\r\n",
    "        dropout=0.2\r\n",
    "    ):\r\n",
    "        super().__init__()\r\n",
    "        BiRNN = True\r\n",
    "        self.aa_embedding_size = 27\r\n",
    "        hidden=128\r\n",
    "        ins_nce_embed_size = 3\r\n",
    "        hidden_rnn_layer=2\r\n",
    "\r\n",
    "        self.max_instrument_num = max_instrument_num\r\n",
    "        self.instrument_nce_embed = torch.nn.Linear(max_instrument_num+1,ins_nce_embed_size)\r\n",
    "        # ins_nce_embed_size = conf.max_instrument_num+1\r\n",
    "        # self.instrument_nce_embed = torch.nn.Identity()\r\n",
    "\r\n",
    "        output_hidden_size = hidden*(2 if BiRNN else 1) + ins_nce_embed_size + 1\r\n",
    "\r\n",
    "        # mod_embed_size = 8\r\n",
    "        # self.mod_embed_weights = torch.nn.Parameter(\r\n",
    "            # torch.empty(mod_size, mod_embed_size),\r\n",
    "            # requires_grad = True\r\n",
    "        # )\r\n",
    "        self.dropout = torch.nn.Dropout(dropout)\r\n",
    "\r\n",
    "        self.input = model_base.SeqLSTM(\r\n",
    "            self.aa_embedding_size+mod_feature_size+ins_nce_embed_size+1,\r\n",
    "            hidden,\r\n",
    "            rnn_layer=1, bidirectional=BiRNN\r\n",
    "        )\r\n",
    "\r\n",
    "        self.hidden = model_base.SeqLSTM(\r\n",
    "            output_hidden_size,\r\n",
    "            hidden,\r\n",
    "            rnn_layer=hidden_rnn_layer, bidirectional=BiRNN\r\n",
    "        )\r\n",
    "\r\n",
    "        self.output = model_base.SeqLSTM(\r\n",
    "            output_hidden_size,\r\n",
    "            num_ion_types,\r\n",
    "            rnn_layer=1, bidirectional=False\r\n",
    "        )\r\n",
    "\r\n",
    "    def forward(self,\r\n",
    "        aa_indices,\r\n",
    "        mod_x,\r\n",
    "        charges:torch.Tensor,\r\n",
    "        NCEs:torch.Tensor,\r\n",
    "        instrument_indices,\r\n",
    "    ):\r\n",
    "        aa_x = torch.nn.functional.one_hot(aa_indices, self.aa_embedding_size)\r\n",
    "        inst_x = torch.nn.functional.one_hot(instrument_indices, self.max_instrument_num)\r\n",
    "\r\n",
    "        ins_nce = torch.cat((inst_x, NCEs), 1)\r\n",
    "        ins_nce = self.instrument_nce_embed(ins_nce)\r\n",
    "        ins_nce_charge = torch.cat((ins_nce, charges), 1)\r\n",
    "        ins_nce_charge = ins_nce_charge.unsqueeze(1).repeat(1, aa_x.size(1), 1)\r\n",
    "\r\n",
    "        x = torch.cat((aa_x, mod_x, ins_nce_charge), 2)\r\n",
    "        x = self.input(x)\r\n",
    "        x = self.dropout(x)\r\n",
    "\r\n",
    "        x = torch.cat((x, ins_nce_charge), 2)\r\n",
    "        x = self.hidden(x)\r\n",
    "        x = self.dropout(x)\r\n",
    "\r\n",
    "        x = torch.cat((x, ins_nce_charge), 2)\r\n",
    "\r\n",
    "        return self.output(x)[:,1:-2,:]\r\n"
   ]
  },
  {
   "cell_type": "code",
   "execution_count": 4,
   "metadata": {},
   "outputs": [],
   "source": [
    "#export\r\n",
    "class EncDecModelMSMS(torch.nn.Module):\r\n",
    "    def __init__(self, \r\n",
    "        mod_feature_size,\r\n",
    "        num_ion_types,\r\n",
    "        max_instrument_num,\r\n",
    "        dropout=0.2\r\n",
    "    ):\r\n",
    "        super().__init__()\r\n",
    "        self.aa_embedding = 27\r\n",
    "        self.instrument_embedding = max_instrument_num\r\n",
    "        \r\n",
    "        self.dropout = torch.nn.Dropout(dropout)\r\n",
    "        \r\n",
    "        hidden = 256\r\n",
    "        self.encoder = model_base.SeqEncoder(\r\n",
    "            self.aa_embedding+mod_feature_size, \r\n",
    "            hidden,\r\n",
    "            dropout=0,\r\n",
    "            rnn_layer=2\r\n",
    "        )\r\n",
    "\r\n",
    "        self.decoder = model_base.SeqDecoder(\r\n",
    "            hidden+self.instrument_embedding+2,\r\n",
    "            num_ion_types\r\n",
    "        )\r\n",
    "\r\n",
    "    def forward(self, \r\n",
    "        aa_indices:torch.LongTensor, \r\n",
    "        mod_x:torch.Tensor, \r\n",
    "        charges:torch.Tensor,\r\n",
    "        NCEs:torch.Tensor, \r\n",
    "        instrument_indices:torch.LongTensor,\r\n",
    "    ):\r\n",
    "        aa_x = torch.nn.functional.one_hot(\r\n",
    "            aa_indices, self.aa_embedding\r\n",
    "        )\r\n",
    "        inst_x = torch.nn.functional.one_hot(\r\n",
    "            instrument_indices, self.instrument_embedding\r\n",
    "        )\r\n",
    "\r\n",
    "        x = torch.cat((aa_x, mod_x), 2)\r\n",
    "        x = self.encoder(x)\r\n",
    "        x = self.dropout(x)\r\n",
    "\r\n",
    "        x = torch.cat((x, charges, NCEs, inst_x), 1)\r\n",
    "\r\n",
    "        x = x.unsqueeze(1).repeat(1,aa_x.size(1)-3,1)\r\n",
    "\r\n",
    "        return self.decoder(x)"
   ]
  },
  {
   "cell_type": "code",
   "execution_count": 5,
   "metadata": {},
   "outputs": [],
   "source": [
    "import numpy as np\n",
    "sequence = 'ACDEFGIK'\n",
    "max_instrument_num = 4\n",
    "num_ion_types=2\n",
    "mod_feature_size=2\n",
    "aa_indices = torch.LongTensor(parse_aa_indices([sequence]))\n",
    "aa_indices = torch.nn.functional.pad(aa_indices, (1,1))\n",
    "charges = torch.tensor([[2]])\n",
    "instrument_indices = torch.LongTensor([1])\n",
    "NCEs = torch.tensor([[0.3]])\n",
    "mod_x = torch.zeros((1, aa_indices.size(1), mod_feature_size))"
   ]
  },
  {
   "cell_type": "code",
   "execution_count": 6,
   "metadata": {},
   "outputs": [
    {
     "data": {
      "text/plain": "EncDecModelMSMS(\n  (dropout): Dropout(p=0.2, inplace=False)\n  (encoder): SeqEncoder(\n    (dropout): Dropout(p=0, inplace=False)\n    (input_cnn): SeqCNN(\n      (cnn_short): Conv1d(29, 29, kernel_size=(3,), stride=(1,), padding=(1,))\n      (cnn_medium): Conv1d(29, 29, kernel_size=(5,), stride=(1,), padding=(2,))\n      (cnn_long): Conv1d(29, 29, kernel_size=(7,), stride=(1,), padding=(3,))\n    )\n    (hidden_nn): SeqLSTM(\n      (rnn): LSTM(116, 128, num_layers=2, batch_first=True, bidirectional=True)\n    )\n    (attn_sum): SeqAttentionSum(\n      (attn): Sequential(\n        (0): Linear(in_features=256, out_features=1, bias=False)\n        (1): Softmax(dim=1)\n      )\n    )\n  )\n  (decoder): SeqDecoder(\n    (rnn): GRU(262, 128, batch_first=True)\n    (output_nn): Linear(in_features=128, out_features=2, bias=False)\n  )\n)"
     },
     "execution_count": 6,
     "metadata": {},
     "output_type": "execute_result"
    }
   ],
   "source": [
    "msms_model = EncDecModelMSMS(mod_feature_size, num_ion_types, max_instrument_num)\r\n",
    "msms_model"
   ]
  },
  {
   "cell_type": "code",
   "execution_count": 7,
   "metadata": {},
   "outputs": [
    {
     "data": {
      "text/plain": "tensor([[[-0.0493, -0.0374],\n         [-0.0458, -0.0705],\n         [-0.0483, -0.0866],\n         [-0.0525, -0.0944],\n         [-0.0565, -0.0982],\n         [-0.0596, -0.1001],\n         [-0.0619, -0.1011],\n         [-0.0635, -0.1016],\n         [-0.0646, -0.1018]]], grad_fn=<SqueezeBackward1>)"
     },
     "execution_count": 7,
     "metadata": {},
     "output_type": "execute_result"
    }
   ],
   "source": [
    "msms_model.eval()\n",
    "msms_model(aa_indices, mod_x, charges, NCEs, instrument_indices)"
   ]
  },
  {
   "cell_type": "markdown",
   "metadata": {},
   "source": [
    "# pDeepModel for MS/MS prediction"
   ]
  },
  {
   "cell_type": "code",
   "execution_count": 8,
   "metadata": {},
   "outputs": [],
   "source": [
    "#export\r\n",
    "class IntenAwareLoss(torch.nn.Module):\r\n",
    "    def __init__(self, base_weight=0.2):\r\n",
    "        super().__init__()\r\n",
    "        self.w = base_weight\r\n",
    "    \r\n",
    "    def forward(self, pred, target):\r\n",
    "        x = pred.reshape(-1)\r\n",
    "        y = target.reshape(-1)\r\n",
    "        return torch.mean((y+self.w)*torch.abs(x-y))"
   ]
  },
  {
   "cell_type": "code",
   "execution_count": 9,
   "metadata": {},
   "outputs": [],
   "source": [
    "#export\r\n",
    "mod_feature_size = len(const_settings['mod_elements'])\r\n",
    "max_instrument_num = const_settings['max_instrument_num']\r\n",
    "frag_types = settings['model']['frag_types']\r\n",
    "max_frag_charge = settings['model']['max_frag_charge']\r\n",
    "num_ion_types = len(frag_types)*max_frag_charge\r\n",
    "nce_factor = const_settings['nce_factor']\r\n",
    "charge_factor = const_settings['charge_factor']\r\n",
    "\r\n",
    "class pDeepModel(model_base.ModelImplBase):\r\n",
    "    def __init__(self,\r\n",
    "        dropout=0.2,\r\n",
    "        lr=0.001,\r\n",
    "    ):\r\n",
    "        super().__init__()\r\n",
    "        self.charged_frag_types = get_charged_frag_types(\r\n",
    "            frag_types, max_frag_charge\r\n",
    "        )\r\n",
    "        self.charge_factor = charge_factor\r\n",
    "        self.NCE_factor = nce_factor\r\n",
    "        self.build(\r\n",
    "            ModelMSMSpDeep3, \r\n",
    "            mod_feature_size = mod_feature_size,\r\n",
    "            num_ion_types = len(self.charged_frag_types),\r\n",
    "            max_instrument_num = max_instrument_num,\r\n",
    "            dropout=dropout,\r\n",
    "            lr=lr\r\n",
    "        )\r\n",
    "        self.loss_func = IntenAwareLoss()\r\n",
    "        # self.loss_func = torch.nn.L1Loss()\r\n",
    "        self.min_inten = 1e-4\r\n",
    "\r\n",
    "    def train(self, \r\n",
    "        precursor_df: pd.DataFrame, \r\n",
    "        fragment_inten_df: pd.DataFrame, \r\n",
    "        epoch=10, \r\n",
    "        batch_size=1024,\r\n",
    "        verbose=False,\r\n",
    "        verbose_each_epoch=True,\r\n",
    "    ):\r\n",
    "        self.model.train()\r\n",
    "\r\n",
    "        fragment_inten_df = fragment_inten_df[self.charged_frag_types]\r\n",
    "\r\n",
    "        if np.all(precursor_df['NCE'].values > 1):\r\n",
    "            precursor_df['NCE'] = precursor_df['NCE']*self.NCE_factor\r\n",
    "\r\n",
    "        for epoch in range(epoch):\r\n",
    "            batch_cost = []\r\n",
    "            _grouped = list(precursor_df.sample(frac=1).groupby('nAA'))\r\n",
    "            rnd_nAA = np.random.permutation(len(_grouped))\r\n",
    "            if verbose_each_epoch:\r\n",
    "                batch_tqdm = tqdm(rnd_nAA)\r\n",
    "            else:\r\n",
    "                batch_tqdm = rnd_nAA\r\n",
    "            for i_group in batch_tqdm:\r\n",
    "                nAA, df_group = _grouped[i_group]\r\n",
    "                df_group = df_group.reset_index(drop=True)\r\n",
    "                for i in range(0, len(df_group), batch_size):\r\n",
    "                    batch_end = i+batch_size-1 # DataFrame.loc[start:end] inlcudes the end\r\n",
    "\r\n",
    "                    aa_indices = torch.LongTensor(\r\n",
    "                        parse_aa_indices(\r\n",
    "                            df_group.loc[i:batch_end, 'sequence'].values.astype('U')\r\n",
    "                        )\r\n",
    "                    )\r\n",
    "\r\n",
    "                    mod_x_batch = get_batch_mod_feature(df_group.loc[i:batch_end,:], nAA)\r\n",
    "                    mod_x = torch.Tensor(mod_x_batch)\r\n",
    "\r\n",
    "                    charges = torch.Tensor(\r\n",
    "                        df_group.loc[i:batch_end, 'charge'].values\r\n",
    "                    ).unsqueeze(1)*self.charge_factor\r\n",
    "\r\n",
    "                    nces = torch.Tensor(df_group.loc[i:batch_end, 'NCE'].values).unsqueeze(1)\r\n",
    "\r\n",
    "                    instrument_indices = torch.LongTensor(\r\n",
    "                        parse_instrument_indices(df_group.loc[i:batch_end, 'instrument'])\r\n",
    "                    )\r\n",
    "                    intens = torch.Tensor(\r\n",
    "                        get_sliced_fragment_dataframe(\r\n",
    "                            fragment_inten_df, \r\n",
    "                            df_group.loc[\r\n",
    "                                i:batch_end, ['frag_start_idx','frag_end_idx']\r\n",
    "                            ].values\r\n",
    "                        ).values\r\n",
    "                    ).view(-1, nAA-1, len(self.charged_frag_types))\r\n",
    "                    \r\n",
    "                    cost = self._train_one_batch(\r\n",
    "                        intens, \r\n",
    "                        aa_indices, mod_x, charges,\r\n",
    "                        nces, instrument_indices\r\n",
    "                    )\r\n",
    "                    batch_cost.append(cost.item())\r\n",
    "                if verbose_each_epoch:\r\n",
    "                    batch_tqdm.set_description(\r\n",
    "                        f'Epoch={epoch+1}, nAA={nAA}, Batch={len(batch_cost)}, Loss={cost.item():.4f}'\r\n",
    "                    )\r\n",
    "            if verbose: print(f'[MS/MS training] Epoch={epoch+1}, Mean Loss={np.mean(batch_cost)}')\r\n",
    "\r\n",
    "    def predict(self, \r\n",
    "        precursor_df: pd.DataFrame,\r\n",
    "        reference_frag_df: pd.DataFrame = None,\r\n",
    "        batch_size: int=1024,\r\n",
    "        verbose=False,\r\n",
    "    )->pd.DataFrame:\r\n",
    "\r\n",
    "        self.model.eval()\r\n",
    "        \r\n",
    "        predict_inten_df = init_fragment_by_precursor_dataframe(\r\n",
    "            precursor_df, self.charged_frag_types, reference_frag_df\r\n",
    "        )\r\n",
    "\r\n",
    "        if np.all(precursor_df['NCE'].values > 1):\r\n",
    "            precursor_df['NCE'] = precursor_df['NCE']*self.NCE_factor\r\n",
    "\r\n",
    "        _grouped = precursor_df.groupby('nAA')\r\n",
    "\r\n",
    "        if verbose:\r\n",
    "            batch_tqdm = tqdm(_grouped)\r\n",
    "        else:\r\n",
    "            batch_tqdm = _grouped\r\n",
    "\r\n",
    "        for nAA, df_group in batch_tqdm:\r\n",
    "            df_group = df_group.reset_index(drop=True)\r\n",
    "            for i in range(0, len(df_group), batch_size):\r\n",
    "                batch_end = i+batch_size-1 # DataFrame.loc[start:end] inlcudes the end\r\n",
    "                \r\n",
    "                mod_x_batch = get_batch_mod_feature(df_group.loc[i:batch_end,:], nAA)\r\n",
    "\r\n",
    "                aa_indices = torch.LongTensor(parse_aa_indices(\r\n",
    "                    df_group.loc[i:batch_end, 'sequence'].values.astype('U')\r\n",
    "                ))\r\n",
    "                mod_x = torch.Tensor(mod_x_batch)\r\n",
    "                charges = torch.Tensor(\r\n",
    "                    df_group.loc[i:batch_end, 'charge'].values\r\n",
    "                ).view(-1,1)*self.charge_factor\r\n",
    "                \r\n",
    "                nces = torch.Tensor(df_group.loc[i:batch_end, 'NCE'].values).view(-1,1)\r\n",
    "                instrument_indices = torch.LongTensor(\r\n",
    "                    parse_instrument_indices(df_group.loc[i:batch_end, 'instrument'])\r\n",
    "                )\r\n",
    "\r\n",
    "                predicts = self.model(\r\n",
    "                    *[fea.to(self.device) for fea in \r\n",
    "                    [aa_indices, mod_x, charges, nces, instrument_indices]\r\n",
    "                ]).cpu().detach().numpy()\r\n",
    "                predicts[predicts>1] = 1\r\n",
    "                predicts[predicts<self.min_inten] = 0\r\n",
    "\r\n",
    "                set_sliced_fragment_dataframe(\r\n",
    "                    predict_inten_df,\r\n",
    "                    predicts.reshape((-1, len(self.charged_frag_types))),\r\n",
    "                    df_group.loc[\r\n",
    "                        i:batch_end, \r\n",
    "                        ['frag_start_idx','frag_end_idx']\r\n",
    "                    ].values,\r\n",
    "                    self.charged_frag_types\r\n",
    "                )\r\n",
    "\r\n",
    "        return predict_inten_df"
   ]
  },
  {
   "cell_type": "code",
   "execution_count": 10,
   "metadata": {},
   "outputs": [],
   "source": [
    "#export\n",
    "from scipy.stats import pearsonr\n",
    "from scipy.stats import spearmanr\n",
    "from scipy.spatial.distance import cosine\n",
    "\n",
    "def cosine(x1, x2, eps=1e-8):\n",
    "    _cos = np.dot(x1,x2)/(np.linalg.norm(x1)*np.linalg.norm(x2)+eps)\n",
    "    if _cos > 1: _cos = 1\n",
    "    return _cos\n",
    "\n",
    "def spectral_angle(x1, x2, eps=1e-8):\n",
    "    return 1 - 2 * np.arccos(cosine(x1,x2,eps)) / np.pi\n",
    "\n",
    "def pearson(x1, x2):\n",
    "    ret = pearsonr(x1, x2)[0]\n",
    "    if np.isnan(ret):\n",
    "        return 0\n",
    "    else: return ret\n",
    "\n",
    "def spearman(x1, x2):\n",
    "    ret = spearmanr(x1, x2)[0]\n",
    "    if np.isnan(ret):\n",
    "        return 0\n",
    "    else: return ret\n",
    "\n",
    "def get_metric_fuc(metric):\n",
    "    metric = metric.upper()\n",
    "    if metric == 'COS':\n",
    "        return cosine\n",
    "    elif metric == 'PCC':\n",
    "        return pearson\n",
    "    elif metric == 'SPC':\n",
    "        return spearman\n",
    "    elif metric == 'SA':\n",
    "        return spectral_angle\n",
    "    else:\n",
    "        raise NotImplementedError(f'Unknown metric \"{metric}\".')\n",
    "\n",
    "def batch_metric(batch1, batch2, frag_start_end_list, metric_func):\n",
    "    sim_list = []\n",
    "    for start, end in frag_start_end_list:\n",
    "        sim_list.append(\n",
    "            metric_func(\n",
    "                batch1[start:end].reshape(-1), \n",
    "                batch2[start:end].reshape(-1)\n",
    "            )\n",
    "        )\n",
    "    return sim_list\n",
    "\n",
    "def evaluate_msms(\n",
    "    precursor_df: pd.DataFrame,\n",
    "    predict_inten_df: pd.DataFrame,\n",
    "    fragment_inten_df: pd.DataFrame,\n",
    "    charged_frag_types: typing.List,\n",
    "    metrics = ['PCC','COS','SA'], #+['SPC']\n",
    ")->pd.DataFrame:\n",
    "    ret = pd.DataFrame(\n",
    "        np.zeros((len(precursor_df), len(metrics))), \n",
    "        columns=metrics\n",
    "    )\n",
    "\n",
    "    for metric in tqdm(metrics):\n",
    "        ret[metric] = batch_metric(\n",
    "            predict_inten_df[charged_frag_types].values,\n",
    "            fragment_inten_df[charged_frag_types].values,\n",
    "            precursor_df[['frag_start_idx','frag_end_idx']].values,\n",
    "            get_metric_fuc(metric)\n",
    "        )\n",
    "    return ret\n",
    "\n",
    "def add_cutoff_metric(\n",
    "    metrics_describ, metrics_df, thres=0.9\n",
    "):\n",
    "    vals = []\n",
    "    for col in metrics_describ.columns.values:\n",
    "        vals.append(metrics_df.loc[metrics_df[col]>thres, col].count()/len(metrics_df))\n",
    "    metrics_describ.loc[f'>{thres:.2f}'] = vals\n",
    "    return metrics_describ"
   ]
  },
  {
   "cell_type": "markdown",
   "metadata": {},
   "source": [
    "### Examples"
   ]
  },
  {
   "cell_type": "code",
   "execution_count": 11,
   "metadata": {},
   "outputs": [
    {
     "data": {
      "text/html": "<div>\n<style scoped>\n    .dataframe tbody tr th:only-of-type {\n        vertical-align: middle;\n    }\n\n    .dataframe tbody tr th {\n        vertical-align: top;\n    }\n\n    .dataframe thead th {\n        text-align: right;\n    }\n</style>\n<table border=\"1\" class=\"dataframe\">\n  <thead>\n    <tr style=\"text-align: right;\">\n      <th></th>\n      <th>sequence</th>\n      <th>mods</th>\n      <th>mod_sites</th>\n      <th>nAA</th>\n      <th>NCE</th>\n      <th>instrument</th>\n      <th>charge</th>\n      <th>frag_start_idx</th>\n      <th>frag_end_idx</th>\n    </tr>\n  </thead>\n  <tbody>\n    <tr>\n      <th>0</th>\n      <td>AGHCEWQMKYR</td>\n      <td>Acetyl@Protein N-term;Carbamidomethyl@C;Oxidat...</td>\n      <td>0;4;8</td>\n      <td>11</td>\n      <td>20</td>\n      <td>QE</td>\n      <td>1</td>\n      <td>0</td>\n      <td>10</td>\n    </tr>\n    <tr>\n      <th>1</th>\n      <td>AGHCEWQMKYR</td>\n      <td>Acetyl@Protein N-term;Carbamidomethyl@C;Oxidat...</td>\n      <td>0;4;8</td>\n      <td>11</td>\n      <td>20</td>\n      <td>QE</td>\n      <td>2</td>\n      <td>10</td>\n      <td>20</td>\n    </tr>\n    <tr>\n      <th>2</th>\n      <td>AGHCEWQMKYR</td>\n      <td>Acetyl@Protein N-term;Carbamidomethyl@C;Oxidat...</td>\n      <td>0;4;8</td>\n      <td>11</td>\n      <td>20</td>\n      <td>QE</td>\n      <td>3</td>\n      <td>20</td>\n      <td>30</td>\n    </tr>\n    <tr>\n      <th>3</th>\n      <td>AGHCEWQMKYR</td>\n      <td>Acetyl@Protein N-term;Carbamidomethyl@C;Oxidat...</td>\n      <td>0;4;8</td>\n      <td>11</td>\n      <td>20</td>\n      <td>QE</td>\n      <td>4</td>\n      <td>30</td>\n      <td>40</td>\n    </tr>\n    <tr>\n      <th>4</th>\n      <td>AGHCEWQMKYR</td>\n      <td>Acetyl@Protein N-term;Carbamidomethyl@C;Oxidat...</td>\n      <td>0;4;8</td>\n      <td>11</td>\n      <td>20</td>\n      <td>QE</td>\n      <td>5</td>\n      <td>40</td>\n      <td>50</td>\n    </tr>\n    <tr>\n      <th>5</th>\n      <td>AGHCEWQMKYR</td>\n      <td>Acetyl@Protein N-term;Carbamidomethyl@C;Oxidat...</td>\n      <td>0;4;8</td>\n      <td>11</td>\n      <td>20</td>\n      <td>QE</td>\n      <td>6</td>\n      <td>50</td>\n      <td>60</td>\n    </tr>\n    <tr>\n      <th>6</th>\n      <td>AGHCEWQMKYR</td>\n      <td>Acetyl@Protein N-term;Carbamidomethyl@C;Oxidat...</td>\n      <td>0;4;8</td>\n      <td>11</td>\n      <td>20</td>\n      <td>QE</td>\n      <td>7</td>\n      <td>60</td>\n      <td>70</td>\n    </tr>\n    <tr>\n      <th>7</th>\n      <td>AGHCEWQMKYR</td>\n      <td>Acetyl@Protein N-term;Carbamidomethyl@C;Oxidat...</td>\n      <td>0;4;8</td>\n      <td>11</td>\n      <td>20</td>\n      <td>QE</td>\n      <td>8</td>\n      <td>70</td>\n      <td>80</td>\n    </tr>\n    <tr>\n      <th>8</th>\n      <td>AGHCEWQMKYR</td>\n      <td>Acetyl@Protein N-term;Carbamidomethyl@C;Oxidat...</td>\n      <td>0;4;8</td>\n      <td>11</td>\n      <td>20</td>\n      <td>QE</td>\n      <td>9</td>\n      <td>80</td>\n      <td>90</td>\n    </tr>\n    <tr>\n      <th>9</th>\n      <td>AGHCEWQMKYR</td>\n      <td>Acetyl@Protein N-term;Carbamidomethyl@C;Oxidat...</td>\n      <td>0;4;8</td>\n      <td>11</td>\n      <td>20</td>\n      <td>QE</td>\n      <td>10</td>\n      <td>90</td>\n      <td>100</td>\n    </tr>\n  </tbody>\n</table>\n</div>",
      "text/plain": "      sequence                                               mods mod_sites  \\\n0  AGHCEWQMKYR  Acetyl@Protein N-term;Carbamidomethyl@C;Oxidat...     0;4;8   \n1  AGHCEWQMKYR  Acetyl@Protein N-term;Carbamidomethyl@C;Oxidat...     0;4;8   \n2  AGHCEWQMKYR  Acetyl@Protein N-term;Carbamidomethyl@C;Oxidat...     0;4;8   \n3  AGHCEWQMKYR  Acetyl@Protein N-term;Carbamidomethyl@C;Oxidat...     0;4;8   \n4  AGHCEWQMKYR  Acetyl@Protein N-term;Carbamidomethyl@C;Oxidat...     0;4;8   \n5  AGHCEWQMKYR  Acetyl@Protein N-term;Carbamidomethyl@C;Oxidat...     0;4;8   \n6  AGHCEWQMKYR  Acetyl@Protein N-term;Carbamidomethyl@C;Oxidat...     0;4;8   \n7  AGHCEWQMKYR  Acetyl@Protein N-term;Carbamidomethyl@C;Oxidat...     0;4;8   \n8  AGHCEWQMKYR  Acetyl@Protein N-term;Carbamidomethyl@C;Oxidat...     0;4;8   \n9  AGHCEWQMKYR  Acetyl@Protein N-term;Carbamidomethyl@C;Oxidat...     0;4;8   \n\n   nAA  NCE instrument  charge  frag_start_idx  frag_end_idx  \n0   11   20         QE       1               0            10  \n1   11   20         QE       2              10            20  \n2   11   20         QE       3              20            30  \n3   11   20         QE       4              30            40  \n4   11   20         QE       5              40            50  \n5   11   20         QE       6              50            60  \n6   11   20         QE       7              60            70  \n7   11   20         QE       8              70            80  \n8   11   20         QE       9              80            90  \n9   11   20         QE      10              90           100  "
     },
     "execution_count": 11,
     "metadata": {},
     "output_type": "execute_result"
    }
   ],
   "source": [
    "fragment_inten_df = pd.DataFrame({'b':np.arange(100)/100, 'y':np.arange(100)/100})\n",
    "repeat = 10\n",
    "precursor_df = pd.DataFrame({\n",
    "    'sequence': ['AGHCEWQMKYR']*repeat,\n",
    "    'mods': ['Acetyl@Protein N-term;Carbamidomethyl@C;Oxidation@M']*repeat,\n",
    "    'mod_sites': ['0;4;8']*repeat,\n",
    "    'nAA': [11]*repeat,\n",
    "    'NCE': [20]*repeat,\n",
    "    'instrument': 'QE',\n",
    "    'charge': np.arange(1,repeat+1),\n",
    "    'frag_start_idx':np.arange(10, dtype=int)*10,\n",
    "    'frag_end_idx':np.arange(10, dtype=int)*10+10,\n",
    "})\n",
    "precursor_df"
   ]
  },
  {
   "cell_type": "code",
   "execution_count": 12,
   "metadata": {},
   "outputs": [
    {
     "data": {
      "text/html": "<div>\n<style scoped>\n    .dataframe tbody tr th:only-of-type {\n        vertical-align: middle;\n    }\n\n    .dataframe tbody tr th {\n        vertical-align: top;\n    }\n\n    .dataframe thead th {\n        text-align: right;\n    }\n</style>\n<table border=\"1\" class=\"dataframe\">\n  <thead>\n    <tr style=\"text-align: right;\">\n      <th></th>\n      <th>b</th>\n      <th>y</th>\n    </tr>\n  </thead>\n  <tbody>\n    <tr>\n      <th>0</th>\n      <td>0.00</td>\n      <td>0.00</td>\n    </tr>\n    <tr>\n      <th>1</th>\n      <td>0.01</td>\n      <td>0.01</td>\n    </tr>\n    <tr>\n      <th>2</th>\n      <td>0.02</td>\n      <td>0.02</td>\n    </tr>\n    <tr>\n      <th>3</th>\n      <td>0.03</td>\n      <td>0.03</td>\n    </tr>\n    <tr>\n      <th>4</th>\n      <td>0.04</td>\n      <td>0.04</td>\n    </tr>\n    <tr>\n      <th>...</th>\n      <td>...</td>\n      <td>...</td>\n    </tr>\n    <tr>\n      <th>95</th>\n      <td>0.95</td>\n      <td>0.95</td>\n    </tr>\n    <tr>\n      <th>96</th>\n      <td>0.96</td>\n      <td>0.96</td>\n    </tr>\n    <tr>\n      <th>97</th>\n      <td>0.97</td>\n      <td>0.97</td>\n    </tr>\n    <tr>\n      <th>98</th>\n      <td>0.98</td>\n      <td>0.98</td>\n    </tr>\n    <tr>\n      <th>99</th>\n      <td>0.99</td>\n      <td>0.99</td>\n    </tr>\n  </tbody>\n</table>\n<p>100 rows × 2 columns</p>\n</div>",
      "text/plain": "       b     y\n0   0.00  0.00\n1   0.01  0.01\n2   0.02  0.02\n3   0.03  0.03\n4   0.04  0.04\n..   ...   ...\n95  0.95  0.95\n96  0.96  0.96\n97  0.97  0.97\n98  0.98  0.98\n99  0.99  0.99\n\n[100 rows x 2 columns]"
     },
     "execution_count": 12,
     "metadata": {},
     "output_type": "execute_result"
    }
   ],
   "source": [
    "fragment_inten_df"
   ]
  },
  {
   "cell_type": "markdown",
   "metadata": {},
   "source": [
    "### Train an MSMS model"
   ]
  },
  {
   "cell_type": "code",
   "execution_count": 13,
   "metadata": {},
   "outputs": [
    {
     "name": "stderr",
     "output_type": "stream",
     "text": [
      "Epoch=1, nAA=11, Batch=4, Loss=0.1910: 100%|██████████| 1/1 [00:02<00:00,  2.04s/it]\n",
      "Epoch=2, nAA=11, Batch=4, Loss=0.5607: 100%|██████████| 1/1 [00:00<00:00, 13.69it/s]\n",
      "Epoch=3, nAA=11, Batch=4, Loss=0.2974: 100%|██████████| 1/1 [00:00<00:00, 11.49it/s]\n",
      "Epoch=4, nAA=11, Batch=4, Loss=0.0882: 100%|██████████| 1/1 [00:00<00:00, 13.15it/s]\n",
      "Epoch=5, nAA=11, Batch=4, Loss=0.0666: 100%|██████████| 1/1 [00:00<00:00, 11.36it/s]\n"
     ]
    }
   ],
   "source": [
    "pdeep = pDeepModel()\n",
    "pdeep.charged_frag_types=['b','y']\n",
    "pdeep.build(\n",
    "    ModelMSMSpDeep3, \n",
    "    mod_feature_size = mod_feature_size,\n",
    "    num_ion_types = len(pdeep.charged_frag_types),\n",
    "    max_instrument_num = max_instrument_num,\n",
    "    dropout=0.2,\n",
    "    lr=1e-3\n",
    ")\n",
    "pdeep.train(precursor_df, fragment_inten_df, epoch=5, batch_size=3)"
   ]
  },
  {
   "cell_type": "markdown",
   "metadata": {},
   "source": [
    "### Predict from the model"
   ]
  },
  {
   "cell_type": "code",
   "execution_count": 14,
   "metadata": {},
   "outputs": [
    {
     "name": "stderr",
     "output_type": "stream",
     "text": [
      "c:\\workspace\\alphabase\\alphabase\\peptide\\fragment.py:173: RuntimeWarning: `precursor_df` contains the 'frag_start_idx' column, it is better to provide `reference_fragment_df`\n",
      "  warnings.warn(\n"
     ]
    },
    {
     "data": {
      "text/html": "<div>\n<style scoped>\n    .dataframe tbody tr th:only-of-type {\n        vertical-align: middle;\n    }\n\n    .dataframe tbody tr th {\n        vertical-align: top;\n    }\n\n    .dataframe thead th {\n        text-align: right;\n    }\n</style>\n<table border=\"1\" class=\"dataframe\">\n  <thead>\n    <tr style=\"text-align: right;\">\n      <th></th>\n      <th>b</th>\n      <th>y</th>\n    </tr>\n  </thead>\n  <tbody>\n    <tr>\n      <th>0</th>\n      <td>0.317683</td>\n      <td>0.516347</td>\n    </tr>\n    <tr>\n      <th>1</th>\n      <td>0.284266</td>\n      <td>0.544481</td>\n    </tr>\n    <tr>\n      <th>2</th>\n      <td>0.263161</td>\n      <td>0.571217</td>\n    </tr>\n    <tr>\n      <th>3</th>\n      <td>0.246342</td>\n      <td>0.590469</td>\n    </tr>\n    <tr>\n      <th>4</th>\n      <td>0.240950</td>\n      <td>0.604563</td>\n    </tr>\n    <tr>\n      <th>...</th>\n      <td>...</td>\n      <td>...</td>\n    </tr>\n    <tr>\n      <th>95</th>\n      <td>0.789837</td>\n      <td>0.708579</td>\n    </tr>\n    <tr>\n      <th>96</th>\n      <td>0.788393</td>\n      <td>0.704921</td>\n    </tr>\n    <tr>\n      <th>97</th>\n      <td>0.784436</td>\n      <td>0.694760</td>\n    </tr>\n    <tr>\n      <th>98</th>\n      <td>0.779462</td>\n      <td>0.675841</td>\n    </tr>\n    <tr>\n      <th>99</th>\n      <td>0.767734</td>\n      <td>0.643828</td>\n    </tr>\n  </tbody>\n</table>\n<p>100 rows × 2 columns</p>\n</div>",
      "text/plain": "           b         y\n0   0.317683  0.516347\n1   0.284266  0.544481\n2   0.263161  0.571217\n3   0.246342  0.590469\n4   0.240950  0.604563\n..       ...       ...\n95  0.789837  0.708579\n96  0.788393  0.704921\n97  0.784436  0.694760\n98  0.779462  0.675841\n99  0.767734  0.643828\n\n[100 rows x 2 columns]"
     },
     "execution_count": 14,
     "metadata": {},
     "output_type": "execute_result"
    }
   ],
   "source": [
    "predict_inten_df = pdeep.predict(precursor_df)\n",
    "predict_inten_df"
   ]
  },
  {
   "cell_type": "markdown",
   "metadata": {},
   "source": [
    "### Metrics"
   ]
  },
  {
   "cell_type": "code",
   "execution_count": 15,
   "metadata": {},
   "outputs": [
    {
     "name": "stderr",
     "output_type": "stream",
     "text": [
      "100%|██████████| 3/3 [00:00<00:00, 428.56it/s]\n"
     ]
    },
    {
     "data": {
      "text/html": "<div>\n<style scoped>\n    .dataframe tbody tr th:only-of-type {\n        vertical-align: middle;\n    }\n\n    .dataframe tbody tr th {\n        vertical-align: top;\n    }\n\n    .dataframe thead th {\n        text-align: right;\n    }\n</style>\n<table border=\"1\" class=\"dataframe\">\n  <thead>\n    <tr style=\"text-align: right;\">\n      <th></th>\n      <th>PCC</th>\n      <th>COS</th>\n      <th>SA</th>\n    </tr>\n  </thead>\n  <tbody>\n    <tr>\n      <th>0</th>\n      <td>0.091008</td>\n      <td>0.807603</td>\n      <td>0.598471</td>\n    </tr>\n    <tr>\n      <th>1</th>\n      <td>0.102358</td>\n      <td>0.943352</td>\n      <td>0.784692</td>\n    </tr>\n    <tr>\n      <th>2</th>\n      <td>0.119458</td>\n      <td>0.967678</td>\n      <td>0.837699</td>\n    </tr>\n    <tr>\n      <th>3</th>\n      <td>0.146852</td>\n      <td>0.981803</td>\n      <td>0.878364</td>\n    </tr>\n    <tr>\n      <th>4</th>\n      <td>0.194580</td>\n      <td>0.990991</td>\n      <td>0.914481</td>\n    </tr>\n    <tr>\n      <th>5</th>\n      <td>0.287545</td>\n      <td>0.996400</td>\n      <td>0.945966</td>\n    </tr>\n    <tr>\n      <th>6</th>\n      <td>0.473701</td>\n      <td>0.998880</td>\n      <td>0.969863</td>\n    </tr>\n    <tr>\n      <th>7</th>\n      <td>0.545277</td>\n      <td>0.999319</td>\n      <td>0.976505</td>\n    </tr>\n    <tr>\n      <th>8</th>\n      <td>0.357077</td>\n      <td>0.998560</td>\n      <td>0.965831</td>\n    </tr>\n    <tr>\n      <th>9</th>\n      <td>0.243648</td>\n      <td>0.997278</td>\n      <td>0.953016</td>\n    </tr>\n  </tbody>\n</table>\n</div>",
      "text/plain": "        PCC       COS        SA\n0  0.091008  0.807603  0.598471\n1  0.102358  0.943352  0.784692\n2  0.119458  0.967678  0.837699\n3  0.146852  0.981803  0.878364\n4  0.194580  0.990991  0.914481\n5  0.287545  0.996400  0.945966\n6  0.473701  0.998880  0.969863\n7  0.545277  0.999319  0.976505\n8  0.357077  0.998560  0.965831\n9  0.243648  0.997278  0.953016"
     },
     "execution_count": 15,
     "metadata": {},
     "output_type": "execute_result"
    }
   ],
   "source": [
    "metrics = evaluate_msms(precursor_df, predict_inten_df, fragment_inten_df, ['b','y'])\n",
    "metrics"
   ]
  },
  {
   "cell_type": "code",
   "execution_count": 16,
   "metadata": {},
   "outputs": [
    {
     "data": {
      "text/html": "<div>\n<style scoped>\n    .dataframe tbody tr th:only-of-type {\n        vertical-align: middle;\n    }\n\n    .dataframe tbody tr th {\n        vertical-align: top;\n    }\n\n    .dataframe thead th {\n        text-align: right;\n    }\n</style>\n<table border=\"1\" class=\"dataframe\">\n  <thead>\n    <tr style=\"text-align: right;\">\n      <th></th>\n      <th>PCC</th>\n      <th>COS</th>\n      <th>SA</th>\n    </tr>\n  </thead>\n  <tbody>\n    <tr>\n      <th>count</th>\n      <td>10.000000</td>\n      <td>10.000000</td>\n      <td>10.000000</td>\n    </tr>\n    <tr>\n      <th>mean</th>\n      <td>0.256150</td>\n      <td>0.968186</td>\n      <td>0.882489</td>\n    </tr>\n    <tr>\n      <th>std</th>\n      <td>0.159024</td>\n      <td>0.059241</td>\n      <td>0.118181</td>\n    </tr>\n    <tr>\n      <th>min</th>\n      <td>0.091008</td>\n      <td>0.807603</td>\n      <td>0.598471</td>\n    </tr>\n    <tr>\n      <th>25%</th>\n      <td>0.126306</td>\n      <td>0.971209</td>\n      <td>0.847865</td>\n    </tr>\n    <tr>\n      <th>50%</th>\n      <td>0.219114</td>\n      <td>0.993696</td>\n      <td>0.930223</td>\n    </tr>\n    <tr>\n      <th>75%</th>\n      <td>0.339694</td>\n      <td>0.998239</td>\n      <td>0.962627</td>\n    </tr>\n    <tr>\n      <th>max</th>\n      <td>0.545277</td>\n      <td>0.999319</td>\n      <td>0.976505</td>\n    </tr>\n    <tr>\n      <th>&gt;0.90</th>\n      <td>0.000000</td>\n      <td>0.900000</td>\n      <td>0.600000</td>\n    </tr>\n    <tr>\n      <th>&gt;0.00</th>\n      <td>1.000000</td>\n      <td>1.000000</td>\n      <td>1.000000</td>\n    </tr>\n  </tbody>\n</table>\n</div>",
      "text/plain": "             PCC        COS         SA\ncount  10.000000  10.000000  10.000000\nmean    0.256150   0.968186   0.882489\nstd     0.159024   0.059241   0.118181\nmin     0.091008   0.807603   0.598471\n25%     0.126306   0.971209   0.847865\n50%     0.219114   0.993696   0.930223\n75%     0.339694   0.998239   0.962627\nmax     0.545277   0.999319   0.976505\n>0.90   0.000000   0.900000   0.600000\n>0.00   1.000000   1.000000   1.000000"
     },
     "execution_count": 16,
     "metadata": {},
     "output_type": "execute_result"
    }
   ],
   "source": [
    "metrics_describ = metrics.describe()\n",
    "add_cutoff_metric(metrics_describ, metrics, thres=0.9)\n",
    "add_cutoff_metric(metrics_describ, metrics, thres=0.0)"
   ]
  }
 ],
 "metadata": {
  "kernelspec": {
   "display_name": "Python 3.8.3 64-bit ('base': conda)",
   "name": "python3"
  },
  "language_info": {}
 },
 "nbformat": 4,
 "nbformat_minor": 2
}