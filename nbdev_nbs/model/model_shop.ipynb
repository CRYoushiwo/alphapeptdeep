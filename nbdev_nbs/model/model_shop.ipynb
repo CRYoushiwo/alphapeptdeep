{
 "cells": [
  {
   "cell_type": "code",
   "execution_count": null,
   "metadata": {},
   "outputs": [],
   "source": [
    "#default_exp model.model_shop"
   ]
  },
  {
   "cell_type": "markdown",
   "metadata": {},
   "source": [
    "#legacy notebook, replaces now by `generic_property_prediction.ipynb`"
   ]
  },
  {
   "cell_type": "code",
   "execution_count": 2,
   "metadata": {},
   "outputs": [],
   "source": [
    "#export\n",
    "from peptdeep.model.generic_property_prediction import *"
   ]
  }
 ],
 "metadata": {
  "interpreter": {
   "hash": "931024bdde5a0139e842e686d0aa86179bbd98c103c57a8c1ff07e7a4f076145"
  },
  "kernelspec": {
   "display_name": "Python 3.8.13 ('alphaquant')",
   "language": "python",
   "name": "python3"
  },
  "language_info": {
   "codemirror_mode": {
    "name": "ipython",
    "version": 3
   },
   "file_extension": ".py",
   "mimetype": "text/x-python",
   "name": "python",
   "nbconvert_exporter": "python",
   "pygments_lexer": "ipython3",
   "version": "3.8.13"
  },
  "orig_nbformat": 4
 },
 "nbformat": 4,
 "nbformat_minor": 2
}
