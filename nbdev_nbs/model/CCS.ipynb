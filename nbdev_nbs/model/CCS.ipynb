{
 "cells": [
  {
   "cell_type": "code",
   "execution_count": null,
   "metadata": {},
   "outputs": [],
   "source": [
    "#default_exp model.CCS"
   ]
  },
  {
   "cell_type": "code",
   "execution_count": null,
   "metadata": {},
   "outputs": [],
   "source": [
    "#hide\n",
    "%reload_ext autoreload\n",
    "%autoreload 2"
   ]
  },
  {
   "cell_type": "code",
   "execution_count": null,
   "metadata": {},
   "outputs": [],
   "source": [
    "#export\r\n",
    "import torch\r\n",
    "import pandas as pd\r\n",
    "import numpy as np\r\n",
    "\r\n",
    "from tqdm import tqdm\r\n",
    "\r\n",
    "from alphadeep.model.featurize import \\\r\n",
    "    parse_aa_indices, \\\r\n",
    "    get_batch_mod_feature\r\n",
    "\r\n",
    "from alphadeep._settings import const_settings\r\n",
    "\r\n",
    "import alphadeep.model.base as model_base\r\n",
    "\r\n",
    "from alphadeep.model.RT import evaluate_linear_regression, evaluate_linear_regression_plot\r\n",
    "\r\n",
    "\r\n",
    "mod_feature_size = len(const_settings['mod_elements'])"
   ]
  },
  {
   "cell_type": "code",
   "execution_count": null,
   "metadata": {},
   "outputs": [],
   "source": [
    "#export\r\n",
    "class EncDecModelCCS(torch.nn.Module):\r\n",
    "    def __init__(self, \r\n",
    "        mod_feature_size,\r\n",
    "        dropout=0.2\r\n",
    "    ):\r\n",
    "        super().__init__()\r\n",
    "        self.aa_embedding_size = 27\r\n",
    "        \r\n",
    "        self.dropout = torch.nn.Dropout(dropout)\r\n",
    "        \r\n",
    "        hidden = 256\r\n",
    "        self.encoder = model_base.SeqEncoder(\r\n",
    "            self.aa_embedding_size+mod_feature_size+1, \r\n",
    "            hidden,\r\n",
    "            dropout=0,\r\n",
    "            rnn_layer=2\r\n",
    "        )\r\n",
    "\r\n",
    "        self.decoder = model_base.LinearDecoder(\r\n",
    "            hidden+1,\r\n",
    "            1\r\n",
    "        )\r\n",
    "\r\n",
    "    def forward(self, \r\n",
    "        aa_indices, \r\n",
    "        mod_x,\r\n",
    "        charges,\r\n",
    "    ):\r\n",
    "        aa_x = torch.nn.functional.one_hot(\r\n",
    "            aa_indices, self.aa_embedding_size\r\n",
    "        ).float()\r\n",
    "\r\n",
    "        x = torch.cat((\r\n",
    "            aa_x, mod_x, charges.unsqueeze(1).repeat(1, aa_x.size(1), 1)\r\n",
    "        ), 2)\r\n",
    "        x = self.encoder(x)\r\n",
    "        x = self.dropout(x)\r\n",
    "        x = torch.cat((x, charges),1)\r\n",
    "\r\n",
    "        return self.decoder(x).squeeze(1)"
   ]
  },
  {
   "cell_type": "code",
   "execution_count": null,
   "metadata": {},
   "outputs": [],
   "source": [
    "#export\r\n",
    "class AlphaCCSModel(model_base.ModelImplBase):\r\n",
    "    def __init__(self, dropout=0.2, lr=0.001):\r\n",
    "        super().__init__()\r\n",
    "        self.build(\r\n",
    "            EncDecModelCCS, lr=lr, \r\n",
    "            dropout=dropout, \r\n",
    "            mod_feature_size=mod_feature_size\r\n",
    "        )\r\n",
    "        self.loss_func = torch.nn.L1Loss()\r\n",
    "    \r\n",
    "    def train(self, \r\n",
    "        precursor_df: pd.DataFrame,\r\n",
    "        epoch=10,\r\n",
    "        batch_size=1024,\r\n",
    "        verbose=False,\r\n",
    "        verbose_each_epoch=False,\r\n",
    "    ):\r\n",
    "        self.model.train()\r\n",
    "\r\n",
    "        for epoch in range(epoch):\r\n",
    "            batch_cost = []\r\n",
    "            _grouped = list(precursor_df.sample(frac=1).groupby('nAA'))\r\n",
    "            rnd_nAA = np.random.permutation(len(_grouped))\r\n",
    "            if verbose_each_epoch:\r\n",
    "                batch_tqdm = tqdm(rnd_nAA)\r\n",
    "            else:\r\n",
    "                batch_tqdm = rnd_nAA\r\n",
    "            for i_group in batch_tqdm:\r\n",
    "                nAA, df_group = _grouped[i_group]\r\n",
    "                df_group = df_group.reset_index(drop=True)\r\n",
    "                for i in range(0, len(df_group), batch_size):\r\n",
    "                    batch_end = i+batch_size-1 # DataFrame.loc[start:end] inlcudes the end\r\n",
    "\r\n",
    "                    aa_indices = torch.LongTensor(\r\n",
    "                        parse_aa_indices(\r\n",
    "                            df_group.loc[i:batch_end, 'sequence'].values.astype('U')\r\n",
    "                        )\r\n",
    "                    )\r\n",
    "\r\n",
    "                    mod_x_batch = get_batch_mod_feature(df_group.loc[i:batch_end,:], nAA)\r\n",
    "                    mod_x = torch.Tensor(mod_x_batch)\r\n",
    "\r\n",
    "                    CCSs = torch.Tensor(df_group.loc[i:batch_end,'CCS'].values)\r\n",
    "\r\n",
    "                    cost = self._train_one_batch(\r\n",
    "                        CCSs,\r\n",
    "                        aa_indices, mod_x\r\n",
    "                    )\r\n",
    "                    batch_cost.append(cost.item())\r\n",
    "                if verbose_each_epoch:\r\n",
    "                    batch_tqdm.set_description(\r\n",
    "                        f'Epoch={epoch+1}, nAA={nAA}, Batch={len(batch_cost)}, Loss={cost.item():.4f}'\r\n",
    "                    )\r\n",
    "            if verbose: print(f'[MS/MS training] epoch={epoch+1}, mean Loss={np.mean(batch_cost)}')\r\n",
    "\r\n",
    "    def predict(self, precursor_df, batch_size=1024, verbose=False):\r\n",
    "        self.model.eval()\r\n",
    "\r\n",
    "        precursor_df['predict_CCS'] = 0\r\n",
    "\r\n",
    "        _grouped = precursor_df.groupby('nAA')\r\n",
    "        df_list = []\r\n",
    "        if verbose:\r\n",
    "            batch_tqdm = tqdm(_grouped)\r\n",
    "        else:\r\n",
    "            batch_tqdm = _grouped\r\n",
    "        for nAA, df_group in batch_tqdm:\r\n",
    "            df_group = df_group.reset_index(drop=True)\r\n",
    "            for i in range(0, len(df_group), batch_size):\r\n",
    "                batch_end = i+batch_size-1 # DataFrame.loc[start:end] inlcudes the end\r\n",
    "\r\n",
    "                mod_x_batch = get_batch_mod_feature(df_group.loc[i:batch_end,:], nAA)\r\n",
    "\r\n",
    "                aa_indices = torch.LongTensor(parse_aa_indices(\r\n",
    "                    df_group.loc[i:batch_end, 'sequence'].values.astype('U')\r\n",
    "                ))\r\n",
    "                mod_x = torch.Tensor(mod_x_batch)\r\n",
    "\r\n",
    "                predicts = self.model(\r\n",
    "                    *[fea.to(self.device) for fea in\r\n",
    "                    [aa_indices, mod_x]\r\n",
    "                ]).cpu().detach().numpy()\r\n",
    "\r\n",
    "                predicts[predicts<0] = 0\r\n",
    "\r\n",
    "                df_group.loc[i:batch_end, 'predict_CCS'] = predicts\r\n",
    "            df_list.append(df_group)\r\n",
    "\r\n",
    "        return pd.concat(df_list).reset_index(drop=True)"
   ]
  },
  {
   "cell_type": "code",
   "execution_count": null,
   "metadata": {},
   "outputs": [
    {
     "data": {
      "text/plain": "tensor([0.0019], grad_fn=<SqueezeBackward1>)"
     },
     "execution_count": null,
     "metadata": {},
     "output_type": "execute_result"
    }
   ],
   "source": [
    "model = AlphaCCSModel()\r\n",
    "model.device = torch.device('cpu')\r\n",
    "model.model.to(model.device)\r\n",
    "model.model(torch.LongTensor([[1,2,3,4,5,6]]), torch.tensor([[[0.0]*8]*6]), torch.tensor([[1]]))"
   ]
  },
  {
   "cell_type": "code",
   "execution_count": null,
   "metadata": {},
   "outputs": [
    {
     "data": {
      "text/plain": "EncDecModelCCS(\n  (dropout): Dropout(p=0.2, inplace=False)\n  (encoder): SeqEncoder(\n    (dropout): Dropout(p=0, inplace=False)\n    (input_cnn): SeqCNN(\n      (cnn_short): Conv1d(36, 36, kernel_size=(3,), stride=(1,), padding=(1,))\n      (cnn_medium): Conv1d(36, 36, kernel_size=(5,), stride=(1,), padding=(2,))\n      (cnn_long): Conv1d(36, 36, kernel_size=(7,), stride=(1,), padding=(3,))\n    )\n    (hidden_nn): SeqLSTM(\n      (rnn): LSTM(144, 128, num_layers=2, batch_first=True, bidirectional=True)\n    )\n    (attn_sum): SeqAttentionSum(\n      (attn): Sequential(\n        (0): Linear(in_features=256, out_features=1, bias=False)\n        (1): Softmax(dim=1)\n      )\n    )\n  )\n  (decoder): LinearDecoder(\n    (nn): Sequential(\n      (0): Linear(in_features=257, out_features=64, bias=True)\n      (1): PReLU(num_parameters=1)\n      (2): Linear(in_features=64, out_features=1, bias=True)\n    )\n  )\n)"
     },
     "execution_count": null,
     "metadata": {},
     "output_type": "execute_result"
    }
   ],
   "source": [
    "model.model"
   ]
  },
  {
   "cell_type": "code",
   "execution_count": null,
   "metadata": {},
   "outputs": [],
   "source": []
  }
 ],
 "metadata": {
  "kernelspec": {
   "display_name": "Python 3.8.0 64-bit ('py38': conda)",
   "name": "python38064bitpy38conda1cf83f5af1f145399fd13141a6eec8c4"
  }
 },
 "nbformat": 4,
 "nbformat_minor": 2
}
