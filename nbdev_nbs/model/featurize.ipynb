{
 "cells": [
  {
   "cell_type": "code",
   "execution_count": 1,
   "metadata": {},
   "outputs": [],
   "source": [
    "#default_exp model.featurize"
   ]
  },
  {
   "cell_type": "code",
   "execution_count": 2,
   "metadata": {},
   "outputs": [],
   "source": [
    "#export\n",
    "import numpy as np\n",
    "import pandas as pd\n",
    "from typing import List, Union\n",
    "\n",
    "from alphadeep._settings import model_const\n",
    "from alphabase.constants.modification import MOD_CHEM"
   ]
  },
  {
   "cell_type": "code",
   "execution_count": 3,
   "metadata": {},
   "outputs": [],
   "source": [
    "#export\n",
    "mod_elements = model_const['mod_elements']\n",
    "mod_feature_size = len(mod_elements)\n",
    "\n",
    "mod_elem_to_idx = dict(zip(mod_elements, range(mod_feature_size)))\n",
    "\n",
    "def _parse_mod_formula(formula):\n",
    "    '''\n",
    "    Parse a modification formula to a feature vector\n",
    "    '''\n",
    "    feature = np.zeros(mod_feature_size)\n",
    "    elems = formula.strip(')').split(')')\n",
    "    for elem in elems:\n",
    "        chem, num = elem.split('(')\n",
    "        num  = int(num)\n",
    "        if chem in mod_elem_to_idx:\n",
    "            feature[mod_elem_to_idx[chem]] = num\n",
    "        else:\n",
    "            feature[-1] += num\n",
    "    return feature\n",
    "\n",
    "MOD_TO_FEATURE = {}\n",
    "for modname, formula in MOD_CHEM.items():\n",
    "    MOD_TO_FEATURE[modname] = _parse_mod_formula(formula)\n",
    "        "
   ]
  },
  {
   "cell_type": "code",
   "execution_count": 4,
   "metadata": {},
   "outputs": [
    {
     "data": {
      "text/plain": [
       "array([0., 1., 0., 3., 1., 0., 0., 0., 0., 0., 0., 0., 0., 0., 0., 0., 0.,\n",
       "       0., 0., 0., 0., 0., 0., 0., 0., 0., 0., 0., 0., 0., 0., 0., 0., 0.,\n",
       "       0., 0., 0., 0., 0., 0., 0., 0., 0., 0., 0., 0., 0., 0., 0., 0., 0.,\n",
       "       0., 0., 0., 0., 0., 0., 0., 0., 0., 0., 0., 0., 0., 0., 0., 0., 0.,\n",
       "       0., 0., 0., 0., 0., 0., 0., 0., 0., 0., 0., 0., 0., 0., 0., 0., 0.,\n",
       "       0., 0., 0., 0., 0., 0., 0., 0., 0., 0., 0., 0., 0., 0., 0., 0., 0.,\n",
       "       0., 0., 0., 0., 0., 0., 0.])"
      ]
     },
     "execution_count": 4,
     "metadata": {},
     "output_type": "execute_result"
    }
   ],
   "source": [
    "MOD_TO_FEATURE['Phospho@S']"
   ]
  },
  {
   "cell_type": "code",
   "execution_count": 5,
   "metadata": {},
   "outputs": [],
   "source": [
    "#export\n",
    "def parse_mod_feature(\n",
    "    nAA:int, \n",
    "    mod_names:List[str], \n",
    "    mod_sites:List[int]\n",
    ")->np.array:\n",
    "    '''\n",
    "    Get modification feature of a given peptide (len=nAA). \n",
    "    Note that `site=0` is for peptide N-term modification, \n",
    "    `site=1` is for peptide C-term modification, and \n",
    "    `1<=site<=nAA` is for residue modifications on the peptide.\n",
    "    Args:\n",
    "        nAA (int): the lenght of the peptide sequence\n",
    "        mod_names (List[str]): the modification names\n",
    "        mod_sites (List[str]): the modification sites corresponding\n",
    "            to `mod_names` on the peptide\n",
    "    Returns:\n",
    "        np.array: 2-D feature array with shape `(nAA+2,mod_feature_size)`\n",
    "    '''\n",
    "    mod_x = np.zeros((nAA+2,mod_feature_size))\n",
    "    if mod_names:\n",
    "        mod_x[mod_sites] = [MOD_TO_FEATURE[mod] for mod in mod_names]\n",
    "    return mod_x"
   ]
  },
  {
   "cell_type": "code",
   "execution_count": 6,
   "metadata": {},
   "outputs": [],
   "source": [
    "#hide\n",
    "x = parse_mod_feature(5, ['Acetyl@Protein N-term','Phospho@S','Oxidation@M'], [0,-1,1])\n",
    "assert x.shape == (7, mod_feature_size)\n",
    "assert np.all(x[1,:]==MOD_TO_FEATURE['Oxidation@M'])\n",
    "assert np.all(x[0,:]==MOD_TO_FEATURE['Acetyl@Protein N-term'])\n",
    "assert np.all(x[-1,:]==MOD_TO_FEATURE['Phospho@S'])\n",
    "assert np.all(x[(2,3,4,5),:]==0)"
   ]
  },
  {
   "cell_type": "code",
   "execution_count": 7,
   "metadata": {},
   "outputs": [],
   "source": [
    "#hide\n",
    "x = parse_mod_feature(5, [], [])\n",
    "assert x.shape == (7, mod_feature_size)\n",
    "assert np.all(x==0)"
   ]
  },
  {
   "cell_type": "code",
   "execution_count": 8,
   "metadata": {},
   "outputs": [],
   "source": [
    "#export\n",
    "def get_batch_mod_feature(\n",
    "    df_batch: pd.DataFrame, nAA: int\n",
    ")->List[np.array]:\n",
    "    '''\n",
    "    Args:\n",
    "        df_batch (pd.DataFrame): dataframe with same-length peptides ('sequence'), \n",
    "            which contains 'mods' and 'mod_sites' columns\n",
    "        nAA (int): the length of the same-length peptides\n",
    "    Returns:\n",
    "        List[np.array]: a list of 2-D array features\n",
    "    '''\n",
    "    mod_x_batch = []\n",
    "    for mod_names, mod_sites in df_batch[\n",
    "        ['mods', 'mod_sites']\n",
    "    ].values:\n",
    "        if mod_names:\n",
    "            mod_names = mod_names.split(';')\n",
    "            mod_sites = [int(site) for site in mod_sites.split(';')]\n",
    "        else:\n",
    "            mod_names = []\n",
    "            mod_sites = []\n",
    "        mod_x_batch.append(parse_mod_feature(nAA, mod_names, mod_sites))\n",
    "    return mod_x_batch"
   ]
  },
  {
   "cell_type": "code",
   "execution_count": 9,
   "metadata": {},
   "outputs": [],
   "source": [
    "#export\n",
    "def parse_aa_indices(\n",
    "    seq_array: Union[List, np.array]\n",
    ")->np.array:\n",
    "    '''\n",
    "    Convert peptide sequences into AA ID array. ID=0 is reserved for masking, \n",
    "    so ID of 'A' is 1, ID of 'B' is 2, ..., ID of 'Z' is 27. Zeros is padded \n",
    "    into the N- and C-term of each sequence after this conversion. \n",
    "    Args:\n",
    "        seq_array (Union[List,np.array]): \n",
    "            list or 1-D array of sequences with the same length\n",
    "    Returns:\n",
    "        np.array: 2-D `np.int32` array with the shape \n",
    "        `(len(seq_array), len(seq_array[0])+2)`. Zeros is padded into the \n",
    "        N- and C-term of each sequence, so the 1st-D is `len(seq_array[0])+2`. \n",
    "    '''\n",
    "    x = np.array(seq_array).view(np.int32).reshape(\n",
    "            -1, len(seq_array[0])\n",
    "        )-ord('A')+1\n",
    "    # padding zeros at the N- and C-term\n",
    "    return np.pad(x, [(0,0)]*(len(x.shape)-1)+[(1,1)])"
   ]
  },
  {
   "cell_type": "code",
   "execution_count": 10,
   "metadata": {},
   "outputs": [],
   "source": [
    "#hide\n",
    "assert np.all(parse_aa_indices(['ABCDE'])==np.array([[0, 1, 2, 3, 4, 5, 0]]))"
   ]
  },
  {
   "cell_type": "code",
   "execution_count": 11,
   "metadata": {},
   "outputs": [],
   "source": [
    "assert np.all(parse_aa_indices(['ABCDE','ABCDE'])==np.array([[0, 1, 2, 3, 4, 5, 0],\n",
    "       [0, 1, 2, 3, 4, 5, 0]]))"
   ]
  },
  {
   "cell_type": "code",
   "execution_count": 12,
   "metadata": {},
   "outputs": [],
   "source": [
    "#export\n",
    "instrument_dict = dict(\n",
    "    zip(\n",
    "        [inst.upper() for inst in model_const['instruments']], \n",
    "        range(len(model_const['instruments']))\n",
    "    )\n",
    ")\n",
    "unknown_inst_index = model_const['max_instrument_num']-1"
   ]
  },
  {
   "cell_type": "code",
   "execution_count": 13,
   "metadata": {},
   "outputs": [],
   "source": [
    "#export\n",
    "def parse_instrument_indices(instrument_list):\n",
    "    instrument_list = [inst.upper() for inst in instrument_list]\n",
    "    return [\n",
    "        instrument_dict[inst] if inst in instrument_dict\n",
    "        else unknown_inst_index for inst in instrument_list\n",
    "    ]"
   ]
  },
  {
   "cell_type": "code",
   "execution_count": 14,
   "metadata": {},
   "outputs": [
    {
     "data": {
      "text/plain": [
       "{'QE': 0, 'LUMOS': 1, 'TIMSTOF': 2, 'SCIEXTOF': 3}"
      ]
     },
     "execution_count": 14,
     "metadata": {},
     "output_type": "execute_result"
    }
   ],
   "source": [
    "#hide\n",
    "instrument_dict"
   ]
  },
  {
   "cell_type": "code",
   "execution_count": 15,
   "metadata": {},
   "outputs": [
    {
     "data": {
      "text/plain": [
       "[0, 1, 2, 3, 7]"
      ]
     },
     "execution_count": 15,
     "metadata": {},
     "output_type": "execute_result"
    }
   ],
   "source": [
    "#hide\n",
    "parse_instrument_indices([key for key in instrument_dict.keys()]+['Unknown'])"
   ]
  }
 ],
 "metadata": {
  "interpreter": {
   "hash": "8a3b27e141e49c996c9b863f8707e97aabd49c4a7e8445b9b783b34e4a21a9b2"
  },
  "kernelspec": {
   "display_name": "Python 3.8.3 64-bit ('base': conda)",
   "name": "python3"
  },
  "language_info": {
   "codemirror_mode": {
    "name": "ipython",
    "version": 3
   },
   "file_extension": ".py",
   "mimetype": "text/x-python",
   "name": "python",
   "nbconvert_exporter": "python",
   "pygments_lexer": "ipython3",
   "version": "3.8.3"
  }
 },
 "nbformat": 4,
 "nbformat_minor": 2
}
