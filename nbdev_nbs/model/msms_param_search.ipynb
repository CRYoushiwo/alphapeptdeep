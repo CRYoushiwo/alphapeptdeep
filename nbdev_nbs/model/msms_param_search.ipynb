{
 "cells": [
  {
   "cell_type": "code",
   "execution_count": 1,
   "metadata": {},
   "outputs": [],
   "source": [
    "#default_exp model.msms_param_search"
   ]
  },
  {
   "cell_type": "code",
   "execution_count": 2,
   "metadata": {},
   "outputs": [],
   "source": [
    "#export\n",
    "import torch\n",
    "import alphadeep.model.msms as msms\n",
    "import alphadeep.model.base as model_base\n",
    "\n",
    "class ModelMSMSTest(torch.nn.Module):\n",
    "    def __init__(self,\n",
    "        mod_feature_size,\n",
    "        num_ion_types,\n",
    "        max_instrument_num,\n",
    "        dropout=0.1,\n",
    "        hidden_layer=2,\n",
    "        hidden_nn = 'lstm',\n",
    "        output_nn = 'lstm',\n",
    "        cat_meta_first=True,\n",
    "        output_transform = None,\n",
    "    ):\n",
    "        super().__init__()\n",
    "        hidden_size=512\n",
    "\n",
    "        self.cat_meta_first=cat_meta_first\n",
    "        self.output_transform = output_transform\n",
    "\n",
    "        self.meta_nn = msms.MetaNet(\n",
    "            max_instrument_num, hidden_size\n",
    "        )\n",
    "\n",
    "        self.dropout = torch.nn.Dropout(dropout)\n",
    "\n",
    "        self.input = msms.InputLSTM(\n",
    "            mod_feature_size, hidden_size\n",
    "        )\n",
    "\n",
    "        if hidden_nn == 'transformer':\n",
    "            self.hidden = msms.HiddenTransformer(\n",
    "                hidden_size, dropout,\n",
    "                hidden_layer\n",
    "            )\n",
    "        else:\n",
    "            self.hidden = model_base.SeqLSTM(\n",
    "                hidden_size, hidden_size,\n",
    "                rnn_layer=hidden_layer, bidirectional=True\n",
    "            )\n",
    "\n",
    "        if output_nn == 'linear':\n",
    "            self.output = torch.nn.Linear(\n",
    "                hidden_size,\n",
    "                num_ion_types,\n",
    "                bias=False\n",
    "            )\n",
    "        else:\n",
    "            self.output = model_base.SeqLSTM(\n",
    "                hidden_size, num_ion_types,\n",
    "                rnn_layer=1, bidirectional=False\n",
    "            )\n",
    "\n",
    "    def forward(self,\n",
    "        aa_indices,\n",
    "        mod_x,\n",
    "        charges:torch.Tensor,\n",
    "        NCEs:torch.Tensor,\n",
    "        instrument_indices,\n",
    "    ):\n",
    "        x = self.input(aa_indices, mod_x)\n",
    "        meta_x = self.meta_nn(charges, NCEs, instrument_indices)\n",
    "\n",
    "        if self.cat_meta_first:\n",
    "            x = x*meta_x.unsqueeze(1).repeat(1, x.size(1), 1)\n",
    "        x = self.dropout(x)\n",
    "\n",
    "        x = self.hidden(x)\n",
    "        x = self.dropout(x)\n",
    "        \n",
    "        if not self.cat_meta_first:\n",
    "            x = x*meta_x.unsqueeze(1).repeat(1, x.size(1), 1)\n",
    "\n",
    "        x = self.output(x[:,3:,:])\n",
    "\n",
    "        if self.output_transform == 'sigmoid':\n",
    "            return torch.sigmoid(x)\n",
    "        else:\n",
    "            return x\n",
    "\n",
    "class ParamSearchModel(msms.pDeepModel):\n",
    "    def __init__(self,\n",
    "        dropout=0.1,\n",
    "        lr=0.001,\n",
    "        model_class:torch.nn.Module=ModelMSMSTest,\n",
    "        hidden_layer=2,\n",
    "        hidden_nn = 'lstm',\n",
    "        output_nn = 'lstm',\n",
    "        cat_meta_first=True,\n",
    "        output_transform = None,\n",
    "        loss='L1', #or 'IA'\n",
    "        IA_weight_pred = False\n",
    "    ):\n",
    "        super().__init__(\n",
    "            dropout=dropout,\n",
    "            lr = lr,\n",
    "            model_class = model_class,\n",
    "            hidden_layer=hidden_layer,\n",
    "            hidden_nn = hidden_nn,\n",
    "            output_nn = output_nn,\n",
    "            cat_meta_first=cat_meta_first,\n",
    "            output_transform=output_transform\n",
    "        )\n",
    "        if loss == 'L1':\n",
    "            self.loss_func = torch.nn.L1Loss()\n",
    "        else:\n",
    "            self.loss_func = msms.IntenAwareLoss(weight_pred=IA_weight_pred)\n",
    "        self.save_as = f'msms_h={hidden_nn}_o={output_nn}_mf={cat_meta_first}_'\\\n",
    "            f'ot={output_transform}_l={loss}'\n",
    "        if loss != 'L1':\n",
    "            self.save_as += f'_IAw={IA_weight_pred}'\n",
    "        self.save_as += '.pth'"
   ]
  },
  {
   "cell_type": "code",
   "execution_count": 27,
   "metadata": {},
   "outputs": [],
   "source": [
    "#export\n",
    "import itertools\n",
    "def product_dict(**kwargs):\n",
    "    keys = kwargs.keys()\n",
    "    vals = kwargs.values()\n",
    "    for instance in itertools.product(*vals):\n",
    "        _dict = dict(zip(keys, instance))\n",
    "        if _dict['IA_weight_pred']:\n",
    "            if _dict['loss'] == 'L1' or not _dict['output_transform']:\n",
    "                continue\n",
    "        yield _dict\n",
    "        "
   ]
  },
  {
   "cell_type": "code",
   "execution_count": 28,
   "metadata": {},
   "outputs": [],
   "source": [
    "#export\n",
    "def get_param_iter():\n",
    "    return product_dict(\n",
    "        hidden_nn = ['lstm','transformer'],\n",
    "        output_nn = ['lstm','linear'],\n",
    "        cat_meta_first=[True,False],\n",
    "        output_transform = [None,'sigmoid'],\n",
    "        loss=['L1','IA'],\n",
    "        IA_weight_pred = [True,False],\n",
    "    )"
   ]
  },
  {
   "cell_type": "code",
   "execution_count": 29,
   "metadata": {},
   "outputs": [
    {
     "data": {
      "text/plain": [
       "40"
      ]
     },
     "execution_count": 29,
     "metadata": {},
     "output_type": "execute_result"
    }
   ],
   "source": [
    "len(list(get_param_iter()))"
   ]
  },
  {
   "cell_type": "code",
   "execution_count": 30,
   "metadata": {},
   "outputs": [
    {
     "data": {
      "text/plain": [
       "{'hidden_nn': 'lstm',\n",
       " 'output_nn': 'lstm',\n",
       " 'cat_meta_first': True,\n",
       " 'output_transform': None,\n",
       " 'loss': 'L1',\n",
       " 'IA_weight_pred': False}"
      ]
     },
     "execution_count": 30,
     "metadata": {},
     "output_type": "execute_result"
    }
   ],
   "source": [
    "next(get_param_iter())"
   ]
  },
  {
   "cell_type": "code",
   "execution_count": null,
   "metadata": {},
   "outputs": [],
   "source": []
  }
 ],
 "metadata": {
  "interpreter": {
   "hash": "8a3b27e141e49c996c9b863f8707e97aabd49c4a7e8445b9b783b34e4a21a9b2"
  },
  "kernelspec": {
   "display_name": "Python 3.8.3 64-bit ('base': conda)",
   "name": "python3"
  },
  "language_info": {
   "codemirror_mode": {
    "name": "ipython",
    "version": 3
   },
   "file_extension": ".py",
   "mimetype": "text/x-python",
   "name": "python",
   "nbconvert_exporter": "python",
   "pygments_lexer": "ipython3",
   "version": "3.8.3"
  },
  "orig_nbformat": 4
 },
 "nbformat": 4,
 "nbformat_minor": 2
}
