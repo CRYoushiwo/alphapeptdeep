{
 "cells": [
  {
   "cell_type": "markdown",
   "metadata": {},
   "source": [
    "# Testing GUI"
   ]
  },
  {
   "cell_type": "code",
   "execution_count": null,
   "metadata": {},
   "outputs": [
    {
     "name": "stderr",
     "output_type": "stream",
     "text": [
      "2023-02-07 12:06:31.478 WARNING streamlit.runtime.state.session_state_proxy: Session state does not function when running a script without `streamlit run`\n"
     ]
    },
    {
     "ename": "AttributeError",
     "evalue": "st.session_state has no attribute \"global_settings\". Did you forget to initialize it? More info: https://docs.streamlit.io/library/advanced-features/session-state#initialization",
     "output_type": "error",
     "traceback": [
      "\u001b[0;31m---------------------------------------------------------------------------\u001b[0m",
      "\u001b[0;31mKeyError\u001b[0m                                  Traceback (most recent call last)",
      "File \u001b[0;32m~/opt/anaconda3/lib/python3.8/site-packages/streamlit/runtime/state/session_state.py:437\u001b[0m, in \u001b[0;36mSessionState.__getitem__\u001b[0;34m(self, key)\u001b[0m\n\u001b[1;32m    436\u001b[0m \u001b[39mtry\u001b[39;00m:\n\u001b[0;32m--> 437\u001b[0m     \u001b[39mreturn\u001b[39;00m \u001b[39mself\u001b[39;49m\u001b[39m.\u001b[39;49m_getitem(widget_id, key)\n\u001b[1;32m    438\u001b[0m \u001b[39mexcept\u001b[39;00m \u001b[39mKeyError\u001b[39;00m:\n",
      "File \u001b[0;32m~/opt/anaconda3/lib/python3.8/site-packages/streamlit/runtime/state/session_state.py:482\u001b[0m, in \u001b[0;36mSessionState._getitem\u001b[0;34m(self, widget_id, user_key)\u001b[0m\n\u001b[1;32m    481\u001b[0m \u001b[39m# We'll never get here\u001b[39;00m\n\u001b[0;32m--> 482\u001b[0m \u001b[39mraise\u001b[39;00m \u001b[39mKeyError\u001b[39;00m\n",
      "\u001b[0;31mKeyError\u001b[0m: ",
      "\nDuring handling of the above exception, another exception occurred:\n",
      "\u001b[0;31mKeyError\u001b[0m                                  Traceback (most recent call last)",
      "File \u001b[0;32m~/opt/anaconda3/lib/python3.8/site-packages/streamlit/runtime/state/session_state_proxy.py:118\u001b[0m, in \u001b[0;36mSessionStateProxy.__getattr__\u001b[0;34m(self, key)\u001b[0m\n\u001b[1;32m    117\u001b[0m \u001b[39mtry\u001b[39;00m:\n\u001b[0;32m--> 118\u001b[0m     \u001b[39mreturn\u001b[39;00m \u001b[39mself\u001b[39;49m[key]\n\u001b[1;32m    119\u001b[0m \u001b[39mexcept\u001b[39;00m \u001b[39mKeyError\u001b[39;00m:\n",
      "File \u001b[0;32m~/opt/anaconda3/lib/python3.8/site-packages/streamlit/runtime/state/session_state_proxy.py:89\u001b[0m, in \u001b[0;36mSessionStateProxy.__getitem__\u001b[0;34m(self, key)\u001b[0m\n\u001b[1;32m     88\u001b[0m require_valid_user_key(key)\n\u001b[0;32m---> 89\u001b[0m \u001b[39mreturn\u001b[39;00m get_session_state()[key]\n",
      "File \u001b[0;32m~/opt/anaconda3/lib/python3.8/site-packages/streamlit/runtime/state/safe_session_state.py:110\u001b[0m, in \u001b[0;36mSafeSessionState.__getitem__\u001b[0;34m(self, key)\u001b[0m\n\u001b[1;32m    108\u001b[0m     \u001b[39mraise\u001b[39;00m \u001b[39mKeyError\u001b[39;00m(key)\n\u001b[0;32m--> 110\u001b[0m \u001b[39mreturn\u001b[39;00m \u001b[39mself\u001b[39;49m\u001b[39m.\u001b[39;49m_state[key]\n",
      "File \u001b[0;32m~/opt/anaconda3/lib/python3.8/site-packages/streamlit/runtime/state/session_state.py:439\u001b[0m, in \u001b[0;36mSessionState.__getitem__\u001b[0;34m(self, key)\u001b[0m\n\u001b[1;32m    438\u001b[0m \u001b[39mexcept\u001b[39;00m \u001b[39mKeyError\u001b[39;00m:\n\u001b[0;32m--> 439\u001b[0m     \u001b[39mraise\u001b[39;00m \u001b[39mKeyError\u001b[39;00m(_missing_key_error_message(key))\n",
      "\u001b[0;31mKeyError\u001b[0m: 'st.session_state has no key \"global_settings\". Did you forget to initialize it? More info: https://docs.streamlit.io/library/advanced-features/session-state#initialization'",
      "\nDuring handling of the above exception, another exception occurred:\n",
      "\u001b[0;31mAttributeError\u001b[0m                            Traceback (most recent call last)",
      "\u001b[1;32m/Users/zengwenfeng/Workspace/alphapeptdeep/nbdev_nbs/test_ui.ipynb Cell 2\u001b[0m in \u001b[0;36m<cell line: 3>\u001b[0;34m()\u001b[0m\n\u001b[1;32m      <a href='vscode-notebook-cell:/Users/zengwenfeng/Workspace/alphapeptdeep/nbdev_nbs/test_ui.ipynb#W1sZmlsZQ%3D%3D?line=0'>1</a>\u001b[0m \u001b[39mimport\u001b[39;00m \u001b[39mos\u001b[39;00m\n\u001b[1;32m      <a href='vscode-notebook-cell:/Users/zengwenfeng/Workspace/alphapeptdeep/nbdev_nbs/test_ui.ipynb#W1sZmlsZQ%3D%3D?line=1'>2</a>\u001b[0m \u001b[39m__file__\u001b[39m \u001b[39m=\u001b[39m os\u001b[39m.\u001b[39mpath\u001b[39m.\u001b[39mabspath(\u001b[39m'\u001b[39m\u001b[39m./test_ui.py\u001b[39m\u001b[39m'\u001b[39m)\n\u001b[0;32m----> <a href='vscode-notebook-cell:/Users/zengwenfeng/Workspace/alphapeptdeep/nbdev_nbs/test_ui.ipynb#W1sZmlsZQ%3D%3D?line=2'>3</a>\u001b[0m \u001b[39mimport\u001b[39;00m \u001b[39mpeptdeep\u001b[39;00m\u001b[39m.\u001b[39;00m\u001b[39mwebui\u001b[39;00m\u001b[39m.\u001b[39;00m\u001b[39mlibrary_ui\u001b[39;00m\n\u001b[1;32m      <a href='vscode-notebook-cell:/Users/zengwenfeng/Workspace/alphapeptdeep/nbdev_nbs/test_ui.ipynb#W1sZmlsZQ%3D%3D?line=3'>4</a>\u001b[0m \u001b[39mimport\u001b[39;00m \u001b[39mpeptdeep\u001b[39;00m\u001b[39m.\u001b[39;00m\u001b[39mwebui\u001b[39;00m\u001b[39m.\u001b[39;00m\u001b[39mmain_ui\u001b[39;00m\n\u001b[1;32m      <a href='vscode-notebook-cell:/Users/zengwenfeng/Workspace/alphapeptdeep/nbdev_nbs/test_ui.ipynb#W1sZmlsZQ%3D%3D?line=4'>5</a>\u001b[0m \u001b[39mimport\u001b[39;00m \u001b[39mpeptdeep\u001b[39;00m\u001b[39m.\u001b[39;00m\u001b[39mwebui\u001b[39;00m\u001b[39m.\u001b[39;00m\u001b[39mmodel_ui\u001b[39;00m\n",
      "File \u001b[0;32m~/Workspace/alphapeptdeep/peptdeep/webui/library_ui.py:19\u001b[0m, in \u001b[0;36m<module>\u001b[0;34m\u001b[0m\n\u001b[1;32m     15\u001b[0m \u001b[39mfrom\u001b[39;00m \u001b[39mpeptdeep\u001b[39;00m\u001b[39m.\u001b[39;00m\u001b[39mwebui\u001b[39;00m\u001b[39m.\u001b[39;00m\u001b[39mserver\u001b[39;00m \u001b[39mimport\u001b[39;00m queue_folder\n\u001b[1;32m     17\u001b[0m \u001b[39mfrom\u001b[39;00m \u001b[39mpeptdeep\u001b[39;00m\u001b[39m.\u001b[39;00m\u001b[39mconstants\u001b[39;00m\u001b[39m.\u001b[39;00m\u001b[39m_const\u001b[39;00m \u001b[39mimport\u001b[39;00m CONST_FOLDER\n\u001b[0;32m---> 19\u001b[0m global_ui_settings \u001b[39m=\u001b[39m st\u001b[39m.\u001b[39;49msession_state\u001b[39m.\u001b[39;49mglobal_settings\n\u001b[1;32m     21\u001b[0m \u001b[39mdef\u001b[39;00m \u001b[39mmod_options\u001b[39m():\n\u001b[1;32m     22\u001b[0m     \u001b[39mwith\u001b[39;00m st\u001b[39m.\u001b[39mform(key\u001b[39m=\u001b[39m\u001b[39m\"\u001b[39m\u001b[39mSelect modifications\u001b[39m\u001b[39m\"\u001b[39m):\n",
      "File \u001b[0;32m~/opt/anaconda3/lib/python3.8/site-packages/streamlit/runtime/state/session_state_proxy.py:120\u001b[0m, in \u001b[0;36mSessionStateProxy.__getattr__\u001b[0;34m(self, key)\u001b[0m\n\u001b[1;32m    118\u001b[0m     \u001b[39mreturn\u001b[39;00m \u001b[39mself\u001b[39m[key]\n\u001b[1;32m    119\u001b[0m \u001b[39mexcept\u001b[39;00m \u001b[39mKeyError\u001b[39;00m:\n\u001b[0;32m--> 120\u001b[0m     \u001b[39mraise\u001b[39;00m \u001b[39mAttributeError\u001b[39;00m(_missing_attr_error_message(key))\n",
      "\u001b[0;31mAttributeError\u001b[0m: st.session_state has no attribute \"global_settings\". Did you forget to initialize it? More info: https://docs.streamlit.io/library/advanced-features/session-state#initialization"
     ]
    }
   ],
   "source": [
    "# import os\n",
    "# __file__ = os.path.abspath('./test_ui.py')\n",
    "# import peptdeep.webui.library_ui\n",
    "# import peptdeep.webui.main_ui\n",
    "# import peptdeep.webui.model_ui\n",
    "# import peptdeep.webui.rescore_ui\n",
    "# import peptdeep.webui.startpage\n",
    "# import peptdeep.webui.transfer_ui\n",
    "# import peptdeep.webui.settings_ui\n",
    "# # import peptdeep.webui.server_ui\n",
    "\n",
    "# peptdeep.webui.library_ui.show()\n",
    "# peptdeep.webui.model_ui.show()\n",
    "# peptdeep.webui.rescore_ui.show()\n",
    "# peptdeep.webui.transfer_ui.show()\n",
    "# peptdeep.webui.settings_ui.show()\n",
    "# # peptdeep.webui.server_ui.show()"
   ]
  },
  {
   "cell_type": "code",
   "execution_count": null,
   "metadata": {},
   "outputs": [],
   "source": []
  }
 ],
 "metadata": {
  "kernelspec": {
   "display_name": "base",
   "language": "python",
   "name": "python3"
  }
 },
 "nbformat": 4,
 "nbformat_minor": 2
}
