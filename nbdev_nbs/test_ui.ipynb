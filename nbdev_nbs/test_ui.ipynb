{
 "cells": [
  {
   "cell_type": "code",
   "execution_count": null,
   "metadata": {},
   "outputs": [
    {
     "name": "stderr",
     "output_type": "stream",
     "text": [
      "2022-07-22 09:09:17.053 INFO    numexpr.utils: NumExpr defaulting to 8 threads.\n"
     ]
    },
    {
     "name": "stdout",
     "output_type": "stream",
     "text": [
      "2022-07-22 09:09:42> \n",
      "  \u001b[33m\u001b[1mWarning:\u001b[0m to view this Streamlit app on a browser, run it with the following\n",
      "  command:\n",
      "\n",
      "    streamlit run /Users/zengwenfeng/opt/anaconda3/lib/python3.8/site-packages/ipykernel_launcher.py [ARGUMENTS]\n"
     ]
    },
    {
     "name": "stderr",
     "output_type": "stream",
     "text": [
      "2022-07-22 09:09:42.894 \n",
      "  \u001b[33m\u001b[1mWarning:\u001b[0m to view this Streamlit app on a browser, run it with the following\n",
      "  command:\n",
      "\n",
      "    streamlit run /Users/zengwenfeng/opt/anaconda3/lib/python3.8/site-packages/ipykernel_launcher.py [ARGUMENTS]\n"
     ]
    }
   ],
   "source": [
    "#hide\n",
    "import os\n",
    "__file__ = os.path.abspath('./test_ui.py')\n",
    "import peptdeep.webui.library_ui\n",
    "import peptdeep.webui.main_ui\n",
    "import peptdeep.webui.model_ui\n",
    "import peptdeep.webui.rescore_ui\n",
    "import peptdeep.webui.startpage\n",
    "import peptdeep.webui.transfer_ui\n",
    "\n",
    "peptdeep.webui.library_ui.show()\n",
    "peptdeep.webui.model_ui.show()\n",
    "peptdeep.webui.rescore_ui.show()\n",
    "peptdeep.webui.transfer_ui.show()"
   ]
  },
  {
   "cell_type": "code",
   "execution_count": null,
   "metadata": {},
   "outputs": [],
   "source": []
  }
 ],
 "metadata": {
  "kernelspec": {
   "display_name": "Python 3.8.3 ('base')",
   "language": "python",
   "name": "python3"
  }
 },
 "nbformat": 4,
 "nbformat_minor": 2
}
