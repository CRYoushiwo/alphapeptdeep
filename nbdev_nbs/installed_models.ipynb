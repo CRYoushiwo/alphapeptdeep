{
 "cells": [
  {
   "cell_type": "code",
   "execution_count": 1,
   "metadata": {},
   "outputs": [],
   "source": [
    "#default_exp installed_models"
   ]
  },
  {
   "cell_type": "code",
   "execution_count": 2,
   "metadata": {},
   "outputs": [],
   "source": [
    "#hide\n",
    "__file__ = '../alphadeep/installed_models.py'"
   ]
  },
  {
   "cell_type": "code",
   "execution_count": 15,
   "metadata": {},
   "outputs": [],
   "source": [
    "#export\n",
    "import os\n",
    "import wget\n",
    "from zipfile import ZipFile\n",
    "\n",
    "sandbox_dir = os.path.join(\n",
    "    os.path.dirname(\n",
    "        os.path.abspath(__file__)\n",
    "    ),\n",
    "    'sandbox'\n",
    ")\n",
    "\n",
    "if not os.path.exists(sandbox_dir):\n",
    "    os.makedirs(sandbox_dir)\n",
    "\n",
    "model_zip = os.path.join(\n",
    "    sandbox_dir,\n",
    "    'released_models/alphadeep_models.zip'\n",
    ")\n",
    "\n",
    "def download_models(\n",
    "    url='https://datashare.biochem.mpg.de/s/ABnQuD2KkXfIGF3/download',\n",
    "    overwrite=True\n",
    "):\n",
    "    downloaded_zip = os.path.join(\n",
    "        sandbox_dir,'released_models.zip'\n",
    "    )\n",
    "    if os.path.exists(model_zip):\n",
    "        if overwrite:\n",
    "            os.remove(model_zip)\n",
    "        else:\n",
    "            return\n",
    "    \n",
    "    print('[Start] Downloading alphadeep_models.zip ...')\n",
    "    wget.download(url, downloaded_zip)\n",
    "    _zip = ZipFile(downloaded_zip)\n",
    "    _zip.extract('released_models/alphadeep_models.zip', sandbox_dir)\n",
    "    _zip.close()\n",
    "    os.remove(downloaded_zip)\n",
    "    print('[Done] Downloading alphadeep_models.zip')\n",
    "\n",
    "if not os.path.exists(model_zip):\n",
    "    download_models()"
   ]
  },
  {
   "cell_type": "code",
   "execution_count": 16,
   "metadata": {},
   "outputs": [],
   "source": [
    "#export\n",
    "from alphadeep.model.ms2 import pDeepModel\n",
    "from alphadeep.model.rt import AlphaRTModel\n",
    "from alphadeep.model.ccs import AlphaCCSModel\n",
    "\n",
    "def load_phos_models(mask_phos_modloss=False):\n",
    "    ms2_model = pDeepModel(mask_modloss=mask_phos_modloss)\n",
    "    ms2_model.load(model_zip, model_path_in_zip='phospho/ms2_phos.pth')\n",
    "    rt_model = AlphaRTModel()\n",
    "    rt_model.load(model_zip, model_path_in_zip='phospho/irt_phos.pth')\n",
    "    ccs_model = AlphaCCSModel()\n",
    "    ccs_model.load(model_zip, model_path_in_zip='regular/ccs.pth')\n",
    "    return ms2_model, rt_model, ccs_model\n",
    "\n",
    "def load_models():\n",
    "    ms2_model = pDeepModel()\n",
    "    ms2_model.load(model_zip, model_path_in_zip='regular/ms2.pth')\n",
    "    rt_model = AlphaRTModel()\n",
    "    rt_model.load(model_zip, model_path_in_zip='regular/rt.pth')\n",
    "    ccs_model = AlphaCCSModel()\n",
    "    ccs_model.load(model_zip, model_path_in_zip='regular/ccs.pth')\n",
    "    return ms2_model, rt_model, ccs_model"
   ]
  },
  {
   "cell_type": "code",
   "execution_count": 17,
   "metadata": {},
   "outputs": [
    {
     "data": {
      "text/plain": [
       "(<alphadeep.model.ms2.pDeepModel at 0x7ffab82a8040>,\n",
       " <alphadeep.model.rt.AlphaRTModel at 0x7ffa784f5fd0>,\n",
       " <alphadeep.model.ccs.AlphaCCSModel at 0x7ffa786d9a60>)"
      ]
     },
     "execution_count": 17,
     "metadata": {},
     "output_type": "execute_result"
    }
   ],
   "source": [
    "#hide\n",
    "load_models()\n",
    "load_phos_models()"
   ]
  },
  {
   "cell_type": "code",
   "execution_count": null,
   "metadata": {},
   "outputs": [],
   "source": []
  }
 ],
 "metadata": {
  "interpreter": {
   "hash": "8a3b27e141e49c996c9b863f8707e97aabd49c4a7e8445b9b783b34e4a21a9b2"
  },
  "kernelspec": {
   "display_name": "Python 3.8.3 64-bit ('base': conda)",
   "language": "python",
   "name": "python3"
  },
  "language_info": {
   "codemirror_mode": {
    "name": "ipython",
    "version": 3
   },
   "file_extension": ".py",
   "mimetype": "text/x-python",
   "name": "python",
   "nbconvert_exporter": "python",
   "pygments_lexer": "ipython3",
   "version": "3.8.3"
  },
  "orig_nbformat": 4
 },
 "nbformat": 4,
 "nbformat_minor": 2
}
