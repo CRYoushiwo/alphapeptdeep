{
 "cells": [
  {
   "cell_type": "code",
   "execution_count": null,
   "metadata": {},
   "outputs": [],
   "source": [
    "#default_exp reader.spectronaut_reader"
   ]
  },
  {
   "cell_type": "code",
   "execution_count": null,
   "metadata": {},
   "outputs": [],
   "source": [
    "#export\n",
    "import pandas as pd\n",
    "import numpy as np\n",
    "\n",
    "from alphadeep.reader.psm_reader import \\\n",
    "    psm_reader_provider\n",
    "\n",
    "from alphadeep.reader.maxquant_reader import parse_mq, \\\n",
    "    MaxQuantReader\n",
    "\n",
    "class SpectronautReader(MaxQuantReader):\n",
    "    def __init__(self):\n",
    "        super().__init__(None)\n",
    "        self.mod_sep = '[]'\n",
    "    \n",
    "    def _load_file(self, filename):\n",
    "        df = pd.read_csv(filename, sep='\\t')\n",
    "        df.drop_duplicates([\n",
    "            'ReferenceRun','ModifiedPeptide', 'PrecursorCharge'\n",
    "        ], inplace=True)\n",
    "        df.reset_index(drop=True, inplace=True)\n",
    "        psm_df = pd.DataFrame()\n",
    "        psm_df['sequence'] = df['StrippedPeptide']\n",
    "        df['nAA'] = df['StrippedPeptide'].str.len() # place holder for future\n",
    "        psm_df['nAA'] = df['nAA']\n",
    "        psm_df['mods'], psm_df['mod_sites'] = zip(\n",
    "            *df['ModifiedPeptide'].apply(\n",
    "                parse_mq, mod_sep=self.mod_sep\n",
    "            )\n",
    "        )\n",
    "        psm_df['charge'] = df['PrecursorCharge']\n",
    "        \n",
    "        psm_df['RT'] = df['iRT']\n",
    "        min_rt = psm_df.RT.min()\n",
    "        psm_df.RT = (\n",
    "            psm_df.RT - min_rt\n",
    "        )/(psm_df.RT.max() - min_rt)\n",
    "\n",
    "        if 'K0' in df.columns:\n",
    "            psm_df['mobility'] = 1/df['K0']\n",
    "        elif 'IonMobility' in df.columns:\n",
    "            psm_df['mobility'] = df['IonMobility']\n",
    "        else:\n",
    "            psm_df['mobility'] = pd.NA\n",
    "\n",
    "        if 'CCS' in df.columns:\n",
    "            psm_df['CCS'] = df['CCS']\n",
    "        else:\n",
    "            psm_df['CCS'] = pd.NA\n",
    "\n",
    "        psm_df['proteins'] = df['Protein Name']\n",
    "        if 'Genes' in df.columns:\n",
    "            psm_df['genes'] = df['Genes']\n",
    "        else:\n",
    "            psm_df['genes'] = ''\n",
    "        self._psm_df = psm_df\n",
    "\n",
    "psm_reader_provider.register_reader(\n",
    "    'spectronaut', SpectronautReader\n",
    ")"
   ]
  }
 ],
 "metadata": {
  "language_info": {
   "name": "python"
  },
  "orig_nbformat": 4
 },
 "nbformat": 4,
 "nbformat_minor": 2
}
