{
 "cells": [
  {
   "cell_type": "code",
   "execution_count": null,
   "metadata": {},
   "outputs": [],
   "source": [
    "#| default_exp mass_spec.mass_calibration"
   ]
  },
  {
   "cell_type": "markdown",
   "metadata": {},
   "source": [
    "# Mass calibration"
   ]
  },
  {
   "cell_type": "code",
   "execution_count": null,
   "metadata": {},
   "outputs": [],
   "source": [
    "#| export\n",
    "from sklearn.neighbors import KNeighborsRegressor\n",
    "import pandas as pd\n",
    "import numpy as np"
   ]
  },
  {
   "cell_type": "code",
   "execution_count": null,
   "metadata": {},
   "outputs": [],
   "source": [
    "#| export\n",
    "\n",
    "def get_fragment_median(start_end_idxes:tuple, frag_df:pd.DataFrame):\n",
    "    start_idx, end_idx = start_end_idxes\n",
    "    ret = np.nanmedian(frag_df.values[start_idx:end_idx])\n",
    "    if np.isnan(ret): return 0.0\n",
    "    else: return ret\n",
    "\n",
    "def calibrate_one(start_end_shift, frag_df):\n",
    "    start_idx, end_idx, mass_shift = start_end_shift\n",
    "    frag_df.values[int(start_idx):int(end_idx)] -= mass_shift\n",
    "\n",
    "class MassCalibratorForRT_KNN:\n",
    "    def __init__(self, n_neighbors=5):\n",
    "        self._n_neighbors = n_neighbors\n",
    "        self.model = KNeighborsRegressor(n_neighbors)\n",
    "    \n",
    "    def fit(self, psm_df:pd.DataFrame, mass_error_df:pd.DataFrame):\n",
    "        mass_error_df = mass_error_df.replace(np.inf, np.nan)\n",
    "        mean_merrs = psm_df[['frag_start_idx','frag_end_idx']].apply(\n",
    "            get_fragment_median, axis=1, frag_df=mass_error_df\n",
    "        ).values\n",
    "        self.model.fit(psm_df.rt.values.reshape((-1,1)), mean_merrs.reshape(-1,1))\n",
    "\n",
    "    def calibrate(self, \n",
    "        psm_df:pd.DataFrame, mass_error_df:pd.DataFrame\n",
    "    )->pd.DataFrame:\n",
    "        psm_df['frag_mass_shift'] = self.model.predict(\n",
    "            psm_df.rt.values.reshape((-1,1))\n",
    "        ).reshape(-1)\n",
    "        psm_df[['frag_start_idx','frag_end_idx','frag_mass_shift']].apply(\n",
    "            calibrate_one, axis=1, frag_df=mass_error_df\n",
    "        ).values\n",
    "        return mass_error_df"
   ]
  },
  {
   "cell_type": "code",
   "execution_count": null,
   "metadata": {},
   "outputs": [
    {
     "data": {
      "text/html": [
       "<div>\n",
       "<style scoped>\n",
       "    .dataframe tbody tr th:only-of-type {\n",
       "        vertical-align: middle;\n",
       "    }\n",
       "\n",
       "    .dataframe tbody tr th {\n",
       "        vertical-align: top;\n",
       "    }\n",
       "\n",
       "    .dataframe thead th {\n",
       "        text-align: right;\n",
       "    }\n",
       "</style>\n",
       "<table border=\"1\" class=\"dataframe\">\n",
       "  <thead>\n",
       "    <tr style=\"text-align: right;\">\n",
       "      <th></th>\n",
       "      <th>b</th>\n",
       "      <th>y</th>\n",
       "    </tr>\n",
       "  </thead>\n",
       "  <tbody>\n",
       "    <tr>\n",
       "      <th>0</th>\n",
       "      <td>0.4</td>\n",
       "      <td>-0.4</td>\n",
       "    </tr>\n",
       "    <tr>\n",
       "      <th>1</th>\n",
       "      <td>0.0</td>\n",
       "      <td>inf</td>\n",
       "    </tr>\n",
       "    <tr>\n",
       "      <th>2</th>\n",
       "      <td>1.0</td>\n",
       "      <td>0.0</td>\n",
       "    </tr>\n",
       "    <tr>\n",
       "      <th>3</th>\n",
       "      <td>1.0</td>\n",
       "      <td>-1.0</td>\n",
       "    </tr>\n",
       "    <tr>\n",
       "      <th>4</th>\n",
       "      <td>0.0</td>\n",
       "      <td>-1.0</td>\n",
       "    </tr>\n",
       "    <tr>\n",
       "      <th>5</th>\n",
       "      <td>1.0</td>\n",
       "      <td>0.0</td>\n",
       "    </tr>\n",
       "    <tr>\n",
       "      <th>6</th>\n",
       "      <td>-1.0</td>\n",
       "      <td>0.0</td>\n",
       "    </tr>\n",
       "    <tr>\n",
       "      <th>7</th>\n",
       "      <td>0.0</td>\n",
       "      <td>1.0</td>\n",
       "    </tr>\n",
       "  </tbody>\n",
       "</table>\n",
       "</div>"
      ],
      "text/plain": [
       "     b    y\n",
       "0  0.4 -0.4\n",
       "1  0.0  inf\n",
       "2  1.0  0.0\n",
       "3  1.0 -1.0\n",
       "4  0.0 -1.0\n",
       "5  1.0  0.0\n",
       "6 -1.0  0.0\n",
       "7  0.0  1.0"
      ]
     },
     "execution_count": null,
     "metadata": {},
     "output_type": "execute_result"
    }
   ],
   "source": [
    "psm_df = pd.DataFrame({\n",
    "    'rt': [1.0,2.0,3.0,4.0,5.0],\n",
    "    'frag_start_idx': [0,1,3,4,6],\n",
    "    'frag_end_idx': [1,3,4,6,8],\n",
    "})\n",
    "frag_df = pd.DataFrame({\n",
    "    'b': [1.0,2,3,4,5,6,7,8],\n",
    "    'y':[0.2,np.inf,2,2,4,5,8,9],\n",
    "})\n",
    "calibrator = MassCalibratorForRT_KNN(1)\n",
    "calibrator.fit(psm_df, frag_df)\n",
    "frag_df = calibrator.calibrate(psm_df, frag_df)\n",
    "frag_df"
   ]
  },
  {
   "cell_type": "code",
   "execution_count": null,
   "metadata": {},
   "outputs": [],
   "source": []
  }
 ],
 "metadata": {
  "kernelspec": {
   "display_name": "Python 3.8.3 ('base')",
   "language": "python",
   "name": "python3"
  }
 },
 "nbformat": 4,
 "nbformat_minor": 2
}
