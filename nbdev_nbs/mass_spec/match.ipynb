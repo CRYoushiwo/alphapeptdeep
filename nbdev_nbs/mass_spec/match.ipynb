{
 "cells": [
  {
   "cell_type": "code",
   "execution_count": null,
   "metadata": {},
   "outputs": [],
   "source": [
    "#default_exp mass_spec.match"
   ]
  },
  {
   "cell_type": "code",
   "execution_count": 1,
   "metadata": {},
   "outputs": [],
   "source": [
    "#export\n",
    "\n",
    "import numpy as np\n",
    "import numba\n",
    "\n",
    "@numba.njit\n",
    "def mass_match(\n",
    "    spec_masses:np.array, \n",
    "    query_masses:np.array, \n",
    "    Da_tols:np.array\n",
    ")->np.array:\n",
    "    \"\"\"\n",
    "    Matched query masses against sorted MS2/spec masses.\n",
    "    Args:\n",
    "        spec_masses (np.array): MS2 or spec masses, 1-D float array\n",
    "        query_masses (np.array): query masses, n-D float array\n",
    "        Da_tols (np.array): Da tolerance array, same shape as spec_mass\n",
    "\n",
    "    Returns:\n",
    "        np.array: np.array of int32, the shape is the same as query_masses.\n",
    "          -1 means no peaks are matched for the query mass\n",
    "    \"\"\"\n",
    "    idxes = np.searchsorted(spec_masses, query_masses)\n",
    "    ret_indices = np.empty_like(query_masses, dtype=np.int32)\n",
    "    # ret_indices[:] = -1\n",
    "    for i,idx in np.ndenumerate(idxes):\n",
    "        if abs(spec_masses[idx-1]-query_masses[i]) <= Da_tols[idx-1]: \n",
    "            ret_indices[i] = idx-1\n",
    "        elif idx == len(spec_masses): \n",
    "            ret_indices[i] = -1\n",
    "        elif abs(spec_masses[idx]-query_masses[i]) <= Da_tols[idx]: \n",
    "            ret_indices[i] = idx\n",
    "        else: \n",
    "            ret_indices[i] = -1\n",
    "    return ret_indices\n"
   ]
  },
  {
   "cell_type": "code",
   "execution_count": 16,
   "metadata": {},
   "outputs": [
    {
     "data": {
      "text/plain": [
       "array([0.   , 0.002, 0.004, 0.006, 0.008, 0.01 , 0.012, 0.014, 0.016,\n",
       "       0.018])"
      ]
     },
     "execution_count": 16,
     "metadata": {},
     "output_type": "execute_result"
    }
   ],
   "source": [
    "#hide\n",
    "spec_masses = np.arange(10)*100\n",
    "Da_tols = spec_masses*20*1e-6\n",
    "Da_tols"
   ]
  },
  {
   "cell_type": "code",
   "execution_count": 17,
   "metadata": {},
   "outputs": [],
   "source": [
    "#hide\n",
    "#unittests\n",
    "\n",
    "query_masses = spec_masses\n",
    "assert np.all(\n",
    "    np.arange(10, dtype=np.int32)==\n",
    "    mass_match(spec_masses, query_masses, Da_tols)\n",
    ")"
   ]
  },
  {
   "cell_type": "code",
   "execution_count": 18,
   "metadata": {},
   "outputs": [],
   "source": [
    "#hide\n",
    "#unittests\n",
    "query_masses = np.arange(20).reshape((10,2))*100\n",
    "target = np.arange(20, dtype=np.int32)\n",
    "target[10:] = -1\n",
    "assert np.all(\n",
    "    target.reshape((10,2))==\n",
    "    mass_match(spec_masses, query_masses, Da_tols)\n",
    ")"
   ]
  },
  {
   "cell_type": "code",
   "execution_count": 20,
   "metadata": {},
   "outputs": [
    {
     "name": "stdout",
     "output_type": "stream",
     "text": [
      "4.89 µs ± 8.18 ns per loop (mean ± std. dev. of 7 runs, 100000 loops each)\n"
     ]
    }
   ],
   "source": [
    "#hide\n",
    "spec_masses = np.sort(np.random.uniform(100,1000,400))\n",
    "Da_tols = spec_masses*20*1e-6\n",
    "query_masses = np.random.uniform(100,1200,240).reshape((30,8))\n",
    "%timeit mass_match(spec_masses, query_masses, Da_tols)"
   ]
  },
  {
   "cell_type": "code",
   "execution_count": null,
   "metadata": {},
   "outputs": [],
   "source": []
  }
 ],
 "metadata": {
  "interpreter": {
   "hash": "8a3b27e141e49c996c9b863f8707e97aabd49c4a7e8445b9b783b34e4a21a9b2"
  },
  "kernelspec": {
   "display_name": "Python 3.8.3 64-bit ('base': conda)",
   "name": "python3"
  },
  "language_info": {
   "codemirror_mode": {
    "name": "ipython",
    "version": 3
   },
   "file_extension": ".py",
   "mimetype": "text/x-python",
   "name": "python",
   "nbconvert_exporter": "python",
   "pygments_lexer": "ipython3",
   "version": "3.8.3"
  },
  "orig_nbformat": 4
 },
 "nbformat": 4,
 "nbformat_minor": 2
}
