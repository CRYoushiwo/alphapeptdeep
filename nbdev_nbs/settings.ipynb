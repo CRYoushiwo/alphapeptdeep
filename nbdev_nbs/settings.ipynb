{
 "cells": [
  {
   "cell_type": "code",
   "execution_count": null,
   "metadata": {},
   "outputs": [],
   "source": [
    "#| default_exp settings"
   ]
  },
  {
   "cell_type": "code",
   "execution_count": null,
   "metadata": {},
   "outputs": [],
   "source": [
    "#| export\n",
    "# for nbdev_build_docs\n",
    "# import os\n",
    "# __file__ = os.path.expanduser('~/Workspace/alphapeptdeep/peptdeep/settings.py')"
   ]
  },
  {
   "cell_type": "markdown",
   "metadata": {},
   "source": [
    "# All global settings for peptdeep"
   ]
  },
  {
   "cell_type": "code",
   "execution_count": null,
   "metadata": {},
   "outputs": [],
   "source": [
    "#| export\n",
    "import os\n",
    "import collections\n",
    "\n",
    "from alphabase.yaml_utils import load_yaml\n",
    "from alphabase.constants.modification import (\n",
    "    load_mod_df, keep_modloss_by_importance\n",
    ")"
   ]
  },
  {
   "cell_type": "code",
   "execution_count": null,
   "metadata": {},
   "outputs": [],
   "source": [
    "#| hide\n",
    "import peptdeep.settings\n",
    "__file__ = peptdeep.settings.__file__"
   ]
  },
  {
   "cell_type": "code",
   "execution_count": null,
   "metadata": {},
   "outputs": [],
   "source": [
    "#| export\n",
    "\n",
    "_base_dir = os.path.dirname(__file__)\n",
    "\n",
    "global_settings = load_yaml(\n",
    "    os.path.join(_base_dir, 'constants/default_settings.yaml')\n",
    ")\n",
    "for key, val in list(global_settings['model_mgr'][\n",
    "    'instrument_group'\n",
    "].items()):\n",
    "    global_settings['model_mgr'][\n",
    "        'instrument_group'\n",
    "    ][key.upper()] = val\n",
    "\n",
    "model_const = load_yaml(\n",
    "    os.path.join(_base_dir, 'constants/model_const.yaml')\n",
    ")\n",
    "\n",
    "def update_settings(dict_, new_dict):\n",
    "    for k, v in new_dict.items():\n",
    "        if isinstance(v, collections.abc.Mapping):\n",
    "            dict_[k] = update_settings(dict_.get(k, {}), v)\n",
    "        else:\n",
    "            dict_[k] = v\n",
    "    return dict_\n",
    "\n",
    "def update_modifications(tsv:str=\"\", \n",
    "    modloss_importance_level:bool=global_settings[\n",
    "        'common']['modloss_importance_level'\n",
    "    ]\n",
    "):\n",
    "    if os.path.isfile(tsv):\n",
    "        load_mod_df(tsv, modloss_importance_level=modloss_importance_level)\n",
    "        \n",
    "        from peptdeep.model.featurize import get_all_mod_features\n",
    "\n",
    "        get_all_mod_features()\n",
    "    else:\n",
    "        keep_modloss_by_importance(modloss_importance_level)\n",
    "\n",
    "update_modifications()"
   ]
  },
  {
   "cell_type": "code",
   "execution_count": null,
   "metadata": {},
   "outputs": [
    {
     "data": {
      "text/plain": [
       "{'Lumos': 'Lumos',\n",
       " 'QE': 'QE',\n",
       " 'timsTOF': 'timsTOF',\n",
       " 'SciexTOF': 'SciexTOF',\n",
       " 'Fusion': 'Lumos',\n",
       " 'Eclipse': 'Lumos',\n",
       " 'Velos': 'Lumos',\n",
       " 'Elite': 'Lumos',\n",
       " 'OrbitrapTribrid': 'Lumos',\n",
       " 'ThermoTribrid': 'Lumos',\n",
       " 'QE+': 'QE',\n",
       " 'QEHF': 'QE',\n",
       " 'QEHFX': 'QE',\n",
       " 'Exploris': 'QE',\n",
       " 'Exploris480': 'QE',\n",
       " 'LUMOS': 'Lumos',\n",
       " 'TIMSTOF': 'timsTOF',\n",
       " 'SCIEXTOF': 'SciexTOF',\n",
       " 'FUSION': 'Lumos',\n",
       " 'ECLIPSE': 'Lumos',\n",
       " 'VELOS': 'Lumos',\n",
       " 'ELITE': 'Lumos',\n",
       " 'ORBITRAPTRIBRID': 'Lumos',\n",
       " 'THERMOTRIBRID': 'Lumos',\n",
       " 'EXPLORIS': 'QE',\n",
       " 'EXPLORIS480': 'QE'}"
      ]
     },
     "execution_count": null,
     "metadata": {},
     "output_type": "execute_result"
    }
   ],
   "source": [
    "#| hide\n",
    "global_settings['model_mgr'][\n",
    "    'instrument_group'\n",
    "]"
   ]
  },
  {
   "cell_type": "code",
   "execution_count": null,
   "metadata": {},
   "outputs": [],
   "source": []
  }
 ],
 "metadata": {
  "kernelspec": {
   "display_name": "Python 3.8.3 ('base')",
   "language": "python",
   "name": "python3"
  },
  "language_info": {
   "name": "python",
   "version": "3.8.3"
  },
  "vscode": {
   "interpreter": {
    "hash": "8a3b27e141e49c996c9b863f8707e97aabd49c4a7e8445b9b783b34e4a21a9b2"
   }
  }
 },
 "nbformat": 4,
 "nbformat_minor": 2
}
