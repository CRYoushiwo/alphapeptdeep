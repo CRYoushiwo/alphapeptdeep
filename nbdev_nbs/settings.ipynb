{
 "cells": [
  {
   "cell_type": "code",
   "execution_count": null,
   "metadata": {},
   "outputs": [],
   "source": [
    "#default_exp settings"
   ]
  },
  {
   "cell_type": "code",
   "execution_count": null,
   "metadata": {},
   "outputs": [],
   "source": [
    "#hide\n",
    "import alphadeep.settings\n",
    "__file__ = alphadeep.settings.__file__"
   ]
  },
  {
   "cell_type": "code",
   "execution_count": null,
   "metadata": {},
   "outputs": [],
   "source": [
    "#export\n",
    "import os\n",
    "import collections\n",
    "\n",
    "from alphabase.yaml_utils import load_yaml\n",
    "\n",
    "_base_dir = os.path.dirname(__file__)\n",
    "\n",
    "global_settings = load_yaml(\n",
    "    os.path.join(_base_dir, 'constants/default_settings.yaml')\n",
    ")\n",
    "\n",
    "model_const = load_yaml(\n",
    "    os.path.join(_base_dir, 'constants/model_const.yaml')\n",
    ")\n",
    "\n",
    "def update_settings(dict_, new_dict):\n",
    "    for k, v in new_dict.items():\n",
    "        if isinstance(v, collections.abc.Mapping):\n",
    "            dict_[k] = update_settings(dict_.get(k, {}), v)\n",
    "        else:\n",
    "            dict_[k] = v\n",
    "    return dict_"
   ]
  }
 ],
 "metadata": {
  "kernelspec": {
   "display_name": "Python 3.8.3 64-bit ('base': conda)",
   "name": "python3"
  }
 },
 "nbformat": 4,
 "nbformat_minor": 2
}
