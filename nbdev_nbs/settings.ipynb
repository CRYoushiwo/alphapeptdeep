{
 "cells": [
  {
   "cell_type": "code",
   "execution_count": null,
   "metadata": {},
   "outputs": [],
   "source": [
    "#default_exp settings"
   ]
  },
  {
   "cell_type": "code",
   "execution_count": null,
   "metadata": {},
   "outputs": [],
   "source": [
    "#hide\n",
    "import peptdeep.settings\n",
    "__file__ = peptdeep.settings.__file__"
   ]
  },
  {
   "cell_type": "code",
   "execution_count": null,
   "metadata": {},
   "outputs": [],
   "source": [
    "#export\n",
    "import os\n",
    "import collections\n",
    "\n",
    "from alphabase.yaml_utils import load_yaml\n",
    "from alphabase.constants.modification import (\n",
    "    load_mod_df, _keep_only_important_modloss\n",
    ")\n",
    "\n",
    "_base_dir = os.path.dirname(__file__)\n",
    "\n",
    "global_settings = load_yaml(\n",
    "    os.path.join(_base_dir, 'constants/default_settings.yaml')\n",
    ")\n",
    "for key, val in list(global_settings['model_mgr'][\n",
    "    'instrument_group'\n",
    "].items()):\n",
    "    global_settings['model_mgr'][\n",
    "        'instrument_group'\n",
    "    ][key.upper()] = val.upper()\n",
    "\n",
    "model_const = load_yaml(\n",
    "    os.path.join(_base_dir, 'constants/model_const.yaml')\n",
    ")\n",
    "\n",
    "def update_settings(dict_, new_dict):\n",
    "    for k, v in new_dict.items():\n",
    "        if isinstance(v, collections.abc.Mapping):\n",
    "            dict_[k] = update_settings(dict_.get(k, {}), v)\n",
    "        else:\n",
    "            dict_[k] = v\n",
    "    return dict_\n",
    "\n",
    "def update_modifications(tsv:str=\"\", \n",
    "    keep_only_important_modloss:bool=global_settings['common']['keep_only_important_modloss']\n",
    "):\n",
    "    if os.path.isfile(tsv):\n",
    "        load_mod_df(tsv, keep_only_important_modloss=keep_only_important_modloss)\n",
    "        \n",
    "        from peptdeep.model.featurize import get_all_mod_features\n",
    "        get_all_mod_features()\n",
    "    else:\n",
    "        if keep_only_important_modloss:\n",
    "            _keep_only_important_modloss()\n",
    "\n",
    "update_modifications()"
   ]
  },
  {
   "cell_type": "code",
   "execution_count": null,
   "metadata": {},
   "outputs": [
    {
     "data": {
      "text/plain": [
       "{'Lumos': 'Lumos',\n",
       " 'QE': 'QE',\n",
       " 'timsTOF': 'timsTOF',\n",
       " 'SciexTOF': 'SciexTOF',\n",
       " 'Fusion': 'Lumos',\n",
       " 'Eclipse': 'Lumos',\n",
       " 'Velos': 'Lumos',\n",
       " 'Elite': 'Lumos',\n",
       " 'OrbitrapTribrid': 'Lumos',\n",
       " 'ThermoTribrid': 'Lumos',\n",
       " 'QEHF': 'QE',\n",
       " 'QEHFX': 'QE',\n",
       " 'Exploris': 'QE',\n",
       " 'Exploris480': 'QE',\n",
       " 'LUMOS': 'LUMOS',\n",
       " 'TIMSTOF': 'TIMSTOF',\n",
       " 'SCIEXTOF': 'SCIEXTOF',\n",
       " 'FUSION': 'LUMOS',\n",
       " 'ECLIPSE': 'LUMOS',\n",
       " 'VELOS': 'LUMOS',\n",
       " 'ELITE': 'LUMOS',\n",
       " 'ORBITRAPTRIBRID': 'LUMOS',\n",
       " 'THERMOTRIBRID': 'LUMOS',\n",
       " 'EXPLORIS': 'QE',\n",
       " 'EXPLORIS480': 'QE'}"
      ]
     },
     "execution_count": null,
     "metadata": {},
     "output_type": "execute_result"
    }
   ],
   "source": [
    "#hide\n",
    "global_settings['model_mgr'][\n",
    "    'instrument_group'\n",
    "]"
   ]
  },
  {
   "cell_type": "code",
   "execution_count": null,
   "metadata": {},
   "outputs": [],
   "source": []
  }
 ],
 "metadata": {
  "kernelspec": {
   "display_name": "Python 3.8.3 64-bit ('base': conda)",
   "name": "python3"
  }
 },
 "nbformat": 4,
 "nbformat_minor": 2
}
