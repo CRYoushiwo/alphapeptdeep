{
 "cells": [
  {
   "cell_type": "code",
   "execution_count": null,
   "metadata": {},
   "outputs": [],
   "source": [
    "#---#| default_exp settings"
   ]
  },
  {
   "cell_type": "markdown",
   "metadata": {},
   "source": [
    "# Settings"
   ]
  },
  {
   "cell_type": "markdown",
   "metadata": {},
   "source": [
    "All global settings for peptdeep"
   ]
  },
  {
   "cell_type": "code",
   "execution_count": null,
   "metadata": {},
   "outputs": [],
   "source": [
    "from peptdeep.settings import *"
   ]
  },
  {
   "cell_type": "code",
   "execution_count": null,
   "metadata": {},
   "outputs": [
    {
     "data": {
      "text/plain": [
       "{'Lumos': 'Lumos',\n",
       " 'QE': 'QE',\n",
       " 'timsTOF': 'timsTOF',\n",
       " 'SciexTOF': 'SciexTOF',\n",
       " 'Fusion': 'Lumos',\n",
       " 'Eclipse': 'Lumos',\n",
       " 'Velos': 'Lumos',\n",
       " 'Elite': 'Lumos',\n",
       " 'OrbitrapTribrid': 'Lumos',\n",
       " 'ThermoTribrid': 'Lumos',\n",
       " 'QE+': 'QE',\n",
       " 'QEHF': 'QE',\n",
       " 'QEHFX': 'QE',\n",
       " 'Exploris': 'QE',\n",
       " 'Exploris480': 'QE',\n",
       " 'LUMOS': 'Lumos',\n",
       " 'TIMSTOF': 'timsTOF',\n",
       " 'SCIEXTOF': 'SciexTOF',\n",
       " 'FUSION': 'Lumos',\n",
       " 'ECLIPSE': 'Lumos',\n",
       " 'VELOS': 'Lumos',\n",
       " 'ELITE': 'Lumos',\n",
       " 'ORBITRAPTRIBRID': 'Lumos',\n",
       " 'THERMOTRIBRID': 'Lumos',\n",
       " 'EXPLORIS': 'QE',\n",
       " 'EXPLORIS480': 'QE'}"
      ]
     },
     "execution_count": null,
     "metadata": {},
     "output_type": "execute_result"
    }
   ],
   "source": [
    "#| hide\n",
    "global_settings['model_mgr'][\n",
    "    'instrument_group'\n",
    "]"
   ]
  },
  {
   "cell_type": "code",
   "execution_count": null,
   "metadata": {},
   "outputs": [],
   "source": []
  }
 ],
 "metadata": {
  "kernelspec": {
   "display_name": "Python 3.8.3 ('base')",
   "language": "python",
   "name": "python3"
  },
  "language_info": {
   "name": "python",
   "version": "3.8.3"
  },
  "vscode": {
   "interpreter": {
    "hash": "8a3b27e141e49c996c9b863f8707e97aabd49c4a7e8445b9b783b34e4a21a9b2"
   }
  }
 },
 "nbformat": 4,
 "nbformat_minor": 2
}
