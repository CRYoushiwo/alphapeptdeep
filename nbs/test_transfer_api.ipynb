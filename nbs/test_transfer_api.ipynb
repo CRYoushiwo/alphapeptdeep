{
 "cells": [
  {
   "cell_type": "code",
   "execution_count": null,
   "metadata": {},
   "outputs": [],
   "source": [
    "#hide\n",
    "%reload_ext autoreload\n",
    "%autoreload 2"
   ]
  },
  {
   "cell_type": "code",
   "execution_count": null,
   "metadata": {},
   "outputs": [
    {
     "name": "stdout",
     "output_type": "stream",
     "text": [
      "2022-07-13 07:20:22> Loading PSMs and extracting fragments ...\n"
     ]
    },
    {
     "name": "stderr",
     "output_type": "stream",
     "text": [
      "100%|██████████| 1/1 [00:11<00:00, 11.57s/it]"
     ]
    },
    {
     "name": "stdout",
     "output_type": "stream",
     "text": [
      "2022-07-13 07:20:47> Training CCS model ...\n"
     ]
    },
    {
     "name": "stderr",
     "output_type": "stream",
     "text": [
      "\n"
     ]
    },
    {
     "name": "stdout",
     "output_type": "stream",
     "text": [
      "[Training] Epoch=1, lr=0.0001, loss=14.417239643278576\n",
      "[Training] Epoch=2, lr=0.0, loss=11.818413870675224\n",
      "2022-07-13 07:21:16> Finished training CCS model\n",
      "2022-07-13 07:21:16> Training RT model ...\n",
      "[Training] Epoch=1, lr=0.0001, loss=0.04520535522273609\n",
      "[Training] Epoch=2, lr=0.0, loss=0.04135202093138581\n",
      "2022-07-13 07:21:49> Finished training RT model\n",
      "2022-07-13 07:21:49> Training MS2 model ...\n",
      "[Training] Epoch=1, lr=0.0001, loss=0.038223996331604816\n",
      "[Training] Epoch=2, lr=0.0, loss=0.02673135957835863\n",
      "2022-07-13 07:26:47> Finished training MS2 model\n",
      "2022-07-13 07:26:47> Models were saved in /Users/zengwenfeng/peptdeep/transfer_models\n"
     ]
    }
   ],
   "source": [
    "#hide\n",
    "from peptdeep.pipeline_api import transfer_learn\n",
    "from peptdeep.settings import global_settings\n",
    "import os\n",
    "\n",
    "mgr_settings = global_settings['model_mgr']\n",
    "mgr_settings['transfer']['psm_type'] = 'alphapept'\n",
    "mgr_settings['transfer']['psm_files'] = [\n",
    "    os.path.expanduser('~/Workspace/Data/HeLa_500ng/HeLa_DDA_tims.ms_data.hdf')\n",
    "]\n",
    "mgr_settings['transfer']['ms_file_type'] = 'alphapept'\n",
    "mgr_settings['transfer']['ms_files'] = [\n",
    "    os.path.expanduser('~/Workspace/Data/HeLa_500ng/HeLa_DDA_tims.ms_data.hdf')\n",
    "]\n",
    "\n",
    "mgr_settings['transfer']['epoch_ms2'] = 2\n",
    "mgr_settings['transfer']['warmup_epoch_ms2'] = 1\n",
    "mgr_settings['transfer']['epoch_rt_ccs'] = 2\n",
    "mgr_settings['transfer']['warmup_epoch_rt_ccs'] = 1\n",
    "mgr_settings['transfer']['grid_nce_search'] = False\n",
    "\n",
    "transfer_learn()"
   ]
  },
  {
   "cell_type": "code",
   "execution_count": null,
   "metadata": {},
   "outputs": [],
   "source": []
  }
 ],
 "metadata": {
  "kernelspec": {
   "display_name": "Python 3.8.3 ('base')",
   "language": "python",
   "name": "python3"
  }
 },
 "nbformat": 4,
 "nbformat_minor": 2
}
