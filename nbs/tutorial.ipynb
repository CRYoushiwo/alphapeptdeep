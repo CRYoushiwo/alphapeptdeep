{
 "cells": [
  {
   "cell_type": "code",
   "execution_count": 1,
   "metadata": {},
   "outputs": [],
   "source": [
    "%reload_ext autoreload\n",
    "%autoreload 2"
   ]
  },
  {
   "cell_type": "markdown",
   "metadata": {},
   "source": [
    "# 1. Downlad and Load AlphaDeep models"
   ]
  },
  {
   "cell_type": "code",
   "execution_count": 2,
   "metadata": {},
   "outputs": [],
   "source": [
    "import os\n",
    "import wget\n",
    "if not os.path.exists('sandbox/test_files'):\n",
    "    os.makedirs('sandbox/test_files')\n",
    "def download_data(url, file_path):\n",
    "    if not os.path.exists(file_path):\n",
    "        wget.download(url, file_path)\n",
    "\n",
    "from alphadeep.model.rt import evaluate_linear_regression, evaluate_linear_regression_plot\n",
    "\n",
    "from alphadeep.pretrained_models import AlphaDeepModels\n",
    "\n",
    "models = AlphaDeepModels()\n",
    "models.load_installed_models()"
   ]
  },
  {
   "cell_type": "code",
   "execution_count": 3,
   "metadata": {},
   "outputs": [
    {
     "data": {
      "text/plain": [
       "5351690"
      ]
     },
     "execution_count": 3,
     "metadata": {},
     "output_type": "execute_result"
    }
   ],
   "source": [
    "ms2_model = models.ms2_model\n",
    "ms2_model.get_parameter_num()"
   ]
  },
  {
   "cell_type": "code",
   "execution_count": 4,
   "metadata": {},
   "outputs": [
    {
     "data": {
      "text/plain": [
       "708224"
      ]
     },
     "execution_count": 4,
     "metadata": {},
     "output_type": "execute_result"
    }
   ],
   "source": [
    "rt_model = models.rt_model\n",
    "rt_model.get_parameter_num()"
   ]
  },
  {
   "cell_type": "code",
   "execution_count": 5,
   "metadata": {},
   "outputs": [
    {
     "data": {
      "text/plain": [
       "713452"
      ]
     },
     "execution_count": 5,
     "metadata": {},
     "output_type": "execute_result"
    }
   ],
   "source": [
    "ccs_model = models.ccs_model\n",
    "ccs_model.get_parameter_num()"
   ]
  },
  {
   "cell_type": "markdown",
   "metadata": {},
   "source": [
    "# 2. Test ccs_model"
   ]
  },
  {
   "cell_type": "code",
   "execution_count": 6,
   "metadata": {},
   "outputs": [
    {
     "name": "stderr",
     "output_type": "stream",
     "text": [
      "D:\\miniconda3\\lib\\site-packages\\IPython\\core\\interactiveshell.py:3437: DtypeWarning: Columns (61) have mixed types.Specify dtype option on import or set low_memory=False.\n",
      "  exec(code_obj, self.user_global_ns, self.user_ns)\n"
     ]
    }
   ],
   "source": [
    "from alphadeep.psm_reader.psm_reader import psm_reader_provider\n",
    "import alphadeep.psm_reader.maxquant_reader\n",
    "ccs_url = 'https://datashare.biochem.mpg.de/s/uTGa7PliZzRJU4g/download'\n",
    "ccs = 'sandbox/test_files/PXD019086_Celegant_evidence.txt'\n",
    "download_data(ccs_url, ccs)\n",
    "mq_reader = psm_reader_provider.get_reader('maxquant')\n",
    "mq_reader.load(ccs)"
   ]
  },
  {
   "cell_type": "markdown",
   "metadata": {},
   "source": [
    "## CCS prediction is very good"
   ]
  },
  {
   "cell_type": "code",
   "execution_count": 7,
   "metadata": {},
   "outputs": [
    {
     "data": {
      "image/png": "[encoded data removed]",
      "text/plain": [
       "<Figure size 432x288 with 1 Axes>"
      ]
     },
     "metadata": {
      "needs_background": "light"
     },
     "output_type": "display_data"
    },
    {
     "data": {
      "text/html": [
       "<div>\n",
       "<style scoped>\n",
       "    .dataframe tbody tr th:only-of-type {\n",
       "        vertical-align: middle;\n",
       "    }\n",
       "\n",
       "    .dataframe tbody tr th {\n",
       "        vertical-align: top;\n",
       "    }\n",
       "\n",
       "    .dataframe thead th {\n",
       "        text-align: right;\n",
       "    }\n",
       "</style>\n",
       "<table border=\"1\" class=\"dataframe\">\n",
       "  <thead>\n",
       "    <tr style=\"text-align: right;\">\n",
       "      <th></th>\n",
       "      <th>R_square</th>\n",
       "      <th>R</th>\n",
       "      <th>slope</th>\n",
       "      <th>intercept</th>\n",
       "      <th>n_sample</th>\n",
       "    </tr>\n",
       "  </thead>\n",
       "  <tbody>\n",
       "    <tr>\n",
       "      <th>0</th>\n",
       "      <td>0.97</td>\n",
       "      <td>0.984886</td>\n",
       "      <td>0.9591</td>\n",
       "      <td>-4.9418</td>\n",
       "      <td>141263.0</td>\n",
       "    </tr>\n",
       "  </tbody>\n",
       "</table>\n",
       "</div>"
      ],
      "text/plain": [
       "   R_square         R   slope  intercept  n_sample\n",
       "0      0.97  0.984886  0.9591    -4.9418  141263.0"
      ]
     },
     "execution_count": 7,
     "metadata": {},
     "output_type": "execute_result"
    }
   ],
   "source": [
    "psm_df = mq_reader.psm_df#.groupby(['sequence','mods','mod_sites','nAA','charge'])['ccs'].median().reset_index()\n",
    "predict_df = ccs_model.predict(psm_df)\n",
    "evaluate_linear_regression_plot(predict_df, x='ccs_pred',y='ccs')\n",
    "evaluate_linear_regression(predict_df, x='ccs_pred',y='ccs')"
   ]
  },
  {
   "cell_type": "markdown",
   "metadata": {},
   "source": [
    "## Transfer learning on CCS can calibrate the slope as well"
   ]
  },
  {
   "cell_type": "code",
   "execution_count": 8,
   "metadata": {},
   "outputs": [
    {
     "name": "stdout",
     "output_type": "stream",
     "text": [
      "[Training] Epoch=1, Mean Loss=27.89161514043808\n",
      "[Training] Epoch=2, Mean Loss=21.715563905239105\n",
      "[Training] Epoch=3, Mean Loss=20.045990300178527\n",
      "[Training] Epoch=4, Mean Loss=19.15612312555313\n",
      "[Training] Epoch=5, Mean Loss=16.054387199878693\n",
      "[Training] Epoch=6, Mean Loss=16.43987286090851\n",
      "[Training] Epoch=7, Mean Loss=15.765071153640747\n",
      "[Training] Epoch=8, Mean Loss=18.35345416069031\n",
      "[Training] Epoch=9, Mean Loss=17.417391979694365\n",
      "[Training] Epoch=10, Mean Loss=15.353533136844636\n",
      "[Training] Epoch=11, Mean Loss=15.30859590768814\n",
      "[Training] Epoch=12, Mean Loss=15.060989594459533\n",
      "[Training] Epoch=13, Mean Loss=14.770723640918732\n",
      "[Training] Epoch=14, Mean Loss=15.597211468219758\n",
      "[Training] Epoch=15, Mean Loss=15.37189713716507\n",
      "[Training] Epoch=16, Mean Loss=16.180544924736022\n",
      "[Training] Epoch=17, Mean Loss=14.580160534381866\n",
      "[Training] Epoch=18, Mean Loss=14.456783974170685\n",
      "[Training] Epoch=19, Mean Loss=14.179139173030853\n",
      "[Training] Epoch=20, Mean Loss=14.564631390571595\n"
     ]
    },
    {
     "data": {
      "image/png": "[encoded data removed]",
      "text/plain": [
       "<Figure size 432x288 with 1 Axes>"
      ]
     },
     "metadata": {
      "needs_background": "light"
     },
     "output_type": "display_data"
    },
    {
     "data": {
      "text/html": [
       "<div>\n",
       "<style scoped>\n",
       "    .dataframe tbody tr th:only-of-type {\n",
       "        vertical-align: middle;\n",
       "    }\n",
       "\n",
       "    .dataframe tbody tr th {\n",
       "        vertical-align: top;\n",
       "    }\n",
       "\n",
       "    .dataframe thead th {\n",
       "        text-align: right;\n",
       "    }\n",
       "</style>\n",
       "<table border=\"1\" class=\"dataframe\">\n",
       "  <thead>\n",
       "    <tr style=\"text-align: right;\">\n",
       "      <th></th>\n",
       "      <th>R_square</th>\n",
       "      <th>R</th>\n",
       "      <th>slope</th>\n",
       "      <th>intercept</th>\n",
       "      <th>n_sample</th>\n",
       "    </tr>\n",
       "  </thead>\n",
       "  <tbody>\n",
       "    <tr>\n",
       "      <th>0</th>\n",
       "      <td>0.971</td>\n",
       "      <td>0.985393</td>\n",
       "      <td>0.9272</td>\n",
       "      <td>23.9437</td>\n",
       "      <td>138204.0</td>\n",
       "    </tr>\n",
       "  </tbody>\n",
       "</table>\n",
       "</div>"
      ],
      "text/plain": [
       "   R_square         R   slope  intercept  n_sample\n",
       "0     0.971  0.985393  0.9272    23.9437  138204.0"
      ]
     },
     "execution_count": 8,
     "metadata": {},
     "output_type": "execute_result"
    }
   ],
   "source": [
    "import numpy as np\n",
    "import pandas as pd\n",
    "n_train = 5000\n",
    "\n",
    "from alphadeep.model.rt import uniform_sampling\n",
    "train_df, test_df = uniform_sampling(psm_df, target='ccs', n_train=n_train, return_test_df=True)\n",
    "ccs_model.train(train_df, verbose=True)\n",
    "predict_df = ccs_model.predict(test_df)\n",
    "evaluate_linear_regression_plot(predict_df, x='ccs_pred',y='ccs')\n",
    "evaluate_linear_regression(predict_df, x='ccs_pred',y='ccs')"
   ]
  },
  {
   "cell_type": "code",
   "execution_count": 10,
   "metadata": {},
   "outputs": [
    {
     "data": {
      "text/plain": [
       "<AxesSubplot:ylabel='Frequency'>"
      ]
     },
     "execution_count": 10,
     "metadata": {},
     "output_type": "execute_result"
    },
    {
     "data": {
      "image/png": "[encoded data removed]",
      "text/plain": [
       "<Figure size 432x288 with 1 Axes>"
      ]
     },
     "metadata": {
      "needs_background": "light"
     },
     "output_type": "display_data"
    }
   ],
   "source": [
    "predict_df = ccs_model.ccs_to_mobility_pred(predict_df)\n",
    "(predict_df.mobility-predict_df.mobility_pred).plot.hist(bins=50)"
   ]
  },
  {
   "cell_type": "markdown",
   "metadata": {},
   "source": [
    "# 3. Test rt_model"
   ]
  },
  {
   "cell_type": "markdown",
   "metadata": {},
   "source": [
    "## Test on Pan-human library"
   ]
  },
  {
   "cell_type": "code",
   "execution_count": 9,
   "metadata": {},
   "outputs": [],
   "source": [
    "from alphadeep.psm_reader.psm_reader import psm_reader_provider\n",
    "import alphadeep.psm_reader.dia_search_reader\n",
    "\n",
    "phl_url = 'https://datashare.biochem.mpg.de/s/GyVnHxasODv5hYc/download'\n",
    "phl = 'sandbox/test_files/phl004_canonical_s32_osw.tsv'\n",
    "download_data(phl_url, phl)\n",
    "\n",
    "mq_reader = psm_reader_provider.get_reader('openswath')\n",
    "mq_reader.load(phl)\n",
    "\n",
    "mq_reader = psm_reader_provider.get_reader('openswath')\n",
    "mq_reader.load(phl)"
   ]
  },
  {
   "cell_type": "code",
   "execution_count": 10,
   "metadata": {},
   "outputs": [
    {
     "data": {
      "image/png": "[encoded data removed]",
      "text/plain": [
       "<Figure size 432x288 with 1 Axes>"
      ]
     },
     "metadata": {
      "needs_background": "light"
     },
     "output_type": "display_data"
    },
    {
     "data": {
      "text/html": [
       "<div>\n",
       "<style scoped>\n",
       "    .dataframe tbody tr th:only-of-type {\n",
       "        vertical-align: middle;\n",
       "    }\n",
       "\n",
       "    .dataframe tbody tr th {\n",
       "        vertical-align: top;\n",
       "    }\n",
       "\n",
       "    .dataframe thead th {\n",
       "        text-align: right;\n",
       "    }\n",
       "</style>\n",
       "<table border=\"1\" class=\"dataframe\">\n",
       "  <thead>\n",
       "    <tr style=\"text-align: right;\">\n",
       "      <th></th>\n",
       "      <th>R_square</th>\n",
       "      <th>R</th>\n",
       "      <th>slope</th>\n",
       "      <th>intercept</th>\n",
       "      <th>n_sample</th>\n",
       "    </tr>\n",
       "  </thead>\n",
       "  <tbody>\n",
       "    <tr>\n",
       "      <th>0</th>\n",
       "      <td>0.978</td>\n",
       "      <td>0.988939</td>\n",
       "      <td>1.9592</td>\n",
       "      <td>-0.2226</td>\n",
       "      <td>204564.0</td>\n",
       "    </tr>\n",
       "  </tbody>\n",
       "</table>\n",
       "</div>"
      ],
      "text/plain": [
       "   R_square         R   slope  intercept  n_sample\n",
       "0     0.978  0.988939  1.9592    -0.2226  204564.0"
      ]
     },
     "execution_count": 10,
     "metadata": {},
     "output_type": "execute_result"
    }
   ],
   "source": [
    "psm_df = mq_reader.psm_df#.groupby(['sequence','mods','mod_sites','nAA'])['rt_norm'].median().reset_index()\n",
    "predict_df = rt_model.predict(psm_df)\n",
    "\n",
    "evaluate_linear_regression_plot(predict_df, x='rt_pred',y='rt_norm')\n",
    "evaluate_linear_regression(predict_df, x='rt_pred',y='rt_norm')"
   ]
  },
  {
   "cell_type": "markdown",
   "metadata": {},
   "source": [
    "## Transfer learning on phl"
   ]
  },
  {
   "cell_type": "code",
   "execution_count": 11,
   "metadata": {},
   "outputs": [
    {
     "name": "stdout",
     "output_type": "stream",
     "text": [
      "[Training] Epoch=1, Mean Loss=0.07622071931307967\n",
      "[Training] Epoch=2, Mean Loss=0.029761343051425436\n",
      "[Training] Epoch=3, Mean Loss=0.025052196155725556\n",
      "[Training] Epoch=4, Mean Loss=0.01955638370815326\n",
      "[Training] Epoch=5, Mean Loss=0.018614399458535692\n",
      "[Training] Epoch=6, Mean Loss=0.014423437649384141\n",
      "[Training] Epoch=7, Mean Loss=0.01639822235500271\n",
      "[Training] Epoch=8, Mean Loss=0.01970085969448767\n",
      "[Training] Epoch=9, Mean Loss=0.016333269992504607\n",
      "[Training] Epoch=10, Mean Loss=0.013698181073943322\n",
      "[Training] Epoch=11, Mean Loss=0.014735090884972702\n",
      "[Training] Epoch=12, Mean Loss=0.013087888417596167\n",
      "[Training] Epoch=13, Mean Loss=0.011984037071339448\n",
      "[Training] Epoch=14, Mean Loss=0.012579783162271435\n",
      "[Training] Epoch=15, Mean Loss=0.013607250431298533\n",
      "[Training] Epoch=16, Mean Loss=0.012641716452146118\n",
      "[Training] Epoch=17, Mean Loss=0.012340359305116263\n",
      "[Training] Epoch=18, Mean Loss=0.013788277272727679\n",
      "[Training] Epoch=19, Mean Loss=0.015200733471746471\n",
      "[Training] Epoch=20, Mean Loss=0.012134394375607371\n"
     ]
    }
   ],
   "source": [
    "import numpy as np\n",
    "import pandas as pd\n",
    "n_train = 5000\n",
    "\n",
    "from alphadeep.model.rt import uniform_sampling\n",
    "train_df, test_df = uniform_sampling(\n",
    "    psm_df, target='rt_norm', n_train=n_train, return_test_df=True\n",
    ")\n",
    "rt_model.train(train_df, epoch=20, verbose=True, verbose_each_epoch=False)"
   ]
  },
  {
   "cell_type": "code",
   "execution_count": 12,
   "metadata": {},
   "outputs": [
    {
     "data": {
      "image/png": "[encoded data removed]",
      "text/plain": [
       "<Figure size 432x288 with 1 Axes>"
      ]
     },
     "metadata": {
      "needs_background": "light"
     },
     "output_type": "display_data"
    },
    {
     "data": {
      "text/html": [
       "<div>\n",
       "<style scoped>\n",
       "    .dataframe tbody tr th:only-of-type {\n",
       "        vertical-align: middle;\n",
       "    }\n",
       "\n",
       "    .dataframe tbody tr th {\n",
       "        vertical-align: top;\n",
       "    }\n",
       "\n",
       "    .dataframe thead th {\n",
       "        text-align: right;\n",
       "    }\n",
       "</style>\n",
       "<table border=\"1\" class=\"dataframe\">\n",
       "  <thead>\n",
       "    <tr style=\"text-align: right;\">\n",
       "      <th></th>\n",
       "      <th>R_square</th>\n",
       "      <th>R</th>\n",
       "      <th>slope</th>\n",
       "      <th>intercept</th>\n",
       "      <th>n_sample</th>\n",
       "    </tr>\n",
       "  </thead>\n",
       "  <tbody>\n",
       "    <tr>\n",
       "      <th>0</th>\n",
       "      <td>0.99</td>\n",
       "      <td>0.994987</td>\n",
       "      <td>0.995</td>\n",
       "      <td>-0.0008</td>\n",
       "      <td>199564.0</td>\n",
       "    </tr>\n",
       "  </tbody>\n",
       "</table>\n",
       "</div>"
      ],
      "text/plain": [
       "   R_square         R  slope  intercept  n_sample\n",
       "0      0.99  0.994987  0.995    -0.0008  199564.0"
      ]
     },
     "execution_count": 12,
     "metadata": {},
     "output_type": "execute_result"
    }
   ],
   "source": [
    "predict_df = rt_model.predict(test_df)\n",
    "evaluate_linear_regression_plot(predict_df, x='rt_pred',y='rt_norm')\n",
    "evaluate_linear_regression(predict_df, x='rt_pred',y='rt_norm')"
   ]
  },
  {
   "cell_type": "markdown",
   "metadata": {},
   "source": [
    "## Test on non-linear gradient data"
   ]
  },
  {
   "cell_type": "code",
   "execution_count": 13,
   "metadata": {},
   "outputs": [],
   "source": [
    "from alphadeep.pretrained_models import AlphaDeepModels\n",
    "\n",
    "models = AlphaDeepModels()\n",
    "models.load_installed_models()\n",
    "rt_model = models.rt_model\n",
    "\n",
    "nonlinear_url = 'https://datashare.biochem.mpg.de/s/HAjrz1ONA4vxCJL/download'\n",
    "nonlinear = 'sandbox/test_files/PXD023848_nonlinear_gradient_evidence.txt'\n",
    "download_data(nonlinear_url, nonlinear)"
   ]
  },
  {
   "cell_type": "code",
   "execution_count": 14,
   "metadata": {},
   "outputs": [
    {
     "name": "stderr",
     "output_type": "stream",
     "text": [
      "D:\\miniconda3\\lib\\site-packages\\IPython\\core\\interactiveshell.py:3437: DtypeWarning: Columns (52) have mixed types.Specify dtype option on import or set low_memory=False.\n",
      "  exec(code_obj, self.user_global_ns, self.user_ns)\n"
     ]
    }
   ],
   "source": [
    "from alphadeep.psm_reader.psm_reader import psm_reader_provider\n",
    "import alphadeep.psm_reader.maxquant_reader # register mq reader to psm_reader_provider\n",
    "\n",
    "mq_reader = psm_reader_provider.get_reader('maxquant')\n",
    "mq_reader.load(nonlinear)"
   ]
  },
  {
   "cell_type": "code",
   "execution_count": 15,
   "metadata": {},
   "outputs": [
    {
     "data": {
      "image/png": "[encoded data removed]",
      "text/plain": [
       "<Figure size 432x288 with 1 Axes>"
      ]
     },
     "metadata": {
      "needs_background": "light"
     },
     "output_type": "display_data"
    },
    {
     "data": {
      "text/html": [
       "<div>\n",
       "<style scoped>\n",
       "    .dataframe tbody tr th:only-of-type {\n",
       "        vertical-align: middle;\n",
       "    }\n",
       "\n",
       "    .dataframe tbody tr th {\n",
       "        vertical-align: top;\n",
       "    }\n",
       "\n",
       "    .dataframe thead th {\n",
       "        text-align: right;\n",
       "    }\n",
       "</style>\n",
       "<table border=\"1\" class=\"dataframe\">\n",
       "  <thead>\n",
       "    <tr style=\"text-align: right;\">\n",
       "      <th></th>\n",
       "      <th>R_square</th>\n",
       "      <th>R</th>\n",
       "      <th>slope</th>\n",
       "      <th>intercept</th>\n",
       "      <th>n_sample</th>\n",
       "    </tr>\n",
       "  </thead>\n",
       "  <tbody>\n",
       "    <tr>\n",
       "      <th>0</th>\n",
       "      <td>0.936</td>\n",
       "      <td>0.967471</td>\n",
       "      <td>1.8045</td>\n",
       "      <td>-0.1707</td>\n",
       "      <td>254801.0</td>\n",
       "    </tr>\n",
       "  </tbody>\n",
       "</table>\n",
       "</div>"
      ],
      "text/plain": [
       "   R_square         R   slope  intercept  n_sample\n",
       "0     0.936  0.967471  1.8045    -0.1707  254801.0"
      ]
     },
     "execution_count": 15,
     "metadata": {},
     "output_type": "execute_result"
    }
   ],
   "source": [
    "psm_df = mq_reader.psm_df#.groupby(['sequence','mods','mod_sites','nAA'])['rt_norm'].median().reset_index()\n",
    "for _, df_group in psm_df.groupby('raw_name'):\n",
    "    psm_df.loc[df_group.index,'rt_norm'] = df_group.rt_norm / df_group.rt_norm.max()\n",
    "\n",
    "predict_df = rt_model.predict(psm_df)\n",
    "\n",
    "evaluate_linear_regression_plot(predict_df, x='rt_pred',y='rt_norm')\n",
    "evaluate_linear_regression(predict_df, x='rt_pred',y='rt_norm')"
   ]
  },
  {
   "cell_type": "markdown",
   "metadata": {},
   "source": [
    "## Transfer learning for non-linear data"
   ]
  },
  {
   "cell_type": "code",
   "execution_count": 16,
   "metadata": {},
   "outputs": [
    {
     "name": "stdout",
     "output_type": "stream",
     "text": [
      "[Training] Epoch=1, Mean Loss=0.08282321545844659\n",
      "[Training] Epoch=2, Mean Loss=0.037476165124621146\n",
      "[Training] Epoch=3, Mean Loss=0.029633008588392\n",
      "[Training] Epoch=4, Mean Loss=0.025033872311887067\n",
      "[Training] Epoch=5, Mean Loss=0.023212736412787285\n",
      "[Training] Epoch=6, Mean Loss=0.02503726010521253\n",
      "[Training] Epoch=7, Mean Loss=0.02241671617883138\n",
      "[Training] Epoch=8, Mean Loss=0.020598089155287314\n",
      "[Training] Epoch=9, Mean Loss=0.020015784873603247\n",
      "[Training] Epoch=10, Mean Loss=0.019589358964600623\n",
      "[Training] Epoch=11, Mean Loss=0.02179163481849126\n",
      "[Training] Epoch=12, Mean Loss=0.018639604405810434\n",
      "[Training] Epoch=13, Mean Loss=0.018672296920647986\n",
      "[Training] Epoch=14, Mean Loss=0.01706735303816505\n",
      "[Training] Epoch=15, Mean Loss=0.020271752984860003\n",
      "[Training] Epoch=16, Mean Loss=0.018388190187322788\n",
      "[Training] Epoch=17, Mean Loss=0.02017430003541402\n",
      "[Training] Epoch=18, Mean Loss=0.016514351627287958\n",
      "[Training] Epoch=19, Mean Loss=0.016035174795736868\n",
      "[Training] Epoch=20, Mean Loss=0.01554297685670929\n"
     ]
    }
   ],
   "source": [
    "import numpy as np\n",
    "import pandas as pd\n",
    "n_train = 5000\n",
    "\n",
    "from alphadeep.model.rt import uniform_sampling\n",
    "train_df, test_df = uniform_sampling(psm_df, target='rt_norm', n_train=n_train, return_test_df=True)\n",
    "rt_model.train(train_df, epoch=20, verbose=True, verbose_each_epoch=False)"
   ]
  },
  {
   "cell_type": "code",
   "execution_count": 17,
   "metadata": {},
   "outputs": [
    {
     "data": {
      "image/png": "[encoded data removed]",
      "text/plain": [
       "<Figure size 432x288 with 1 Axes>"
      ]
     },
     "metadata": {
      "needs_background": "light"
     },
     "output_type": "display_data"
    },
    {
     "data": {
      "text/html": [
       "<div>\n",
       "<style scoped>\n",
       "    .dataframe tbody tr th:only-of-type {\n",
       "        vertical-align: middle;\n",
       "    }\n",
       "\n",
       "    .dataframe tbody tr th {\n",
       "        vertical-align: top;\n",
       "    }\n",
       "\n",
       "    .dataframe thead th {\n",
       "        text-align: right;\n",
       "    }\n",
       "</style>\n",
       "<table border=\"1\" class=\"dataframe\">\n",
       "  <thead>\n",
       "    <tr style=\"text-align: right;\">\n",
       "      <th></th>\n",
       "      <th>R_square</th>\n",
       "      <th>R</th>\n",
       "      <th>slope</th>\n",
       "      <th>intercept</th>\n",
       "      <th>n_sample</th>\n",
       "    </tr>\n",
       "  </thead>\n",
       "  <tbody>\n",
       "    <tr>\n",
       "      <th>0</th>\n",
       "      <td>0.973</td>\n",
       "      <td>0.986408</td>\n",
       "      <td>0.9746</td>\n",
       "      <td>0.0147</td>\n",
       "      <td>250291.0</td>\n",
       "    </tr>\n",
       "  </tbody>\n",
       "</table>\n",
       "</div>"
      ],
      "text/plain": [
       "   R_square         R   slope  intercept  n_sample\n",
       "0     0.973  0.986408  0.9746     0.0147  250291.0"
      ]
     },
     "execution_count": 17,
     "metadata": {},
     "output_type": "execute_result"
    }
   ],
   "source": [
    "predict_df = rt_model.predict(test_df)\n",
    "evaluate_linear_regression_plot(predict_df, x='rt_pred',y='rt_norm')\n",
    "evaluate_linear_regression(predict_df, x='rt_pred',y='rt_norm')"
   ]
  },
  {
   "cell_type": "code",
   "execution_count": 18,
   "metadata": {},
   "outputs": [
    {
     "data": {
      "text/plain": [
       "<AxesSubplot:ylabel='Frequency'>"
      ]
     },
     "execution_count": 18,
     "metadata": {},
     "output_type": "execute_result"
    },
    {
     "data": {
      "image/png": "[encoded data removed]",
      "text/plain": [
       "<Figure size 432x288 with 1 Axes>"
      ]
     },
     "metadata": {
      "needs_background": "light"
     },
     "output_type": "display_data"
    }
   ],
   "source": [
    "(predict_df.rt.max()*(predict_df.rt_norm-predict_df.rt_pred)).plot.hist(bins=50)"
   ]
  },
  {
   "cell_type": "markdown",
   "metadata": {},
   "source": [
    "### There is an outlier raw file, resulting in some outlier predictions"
   ]
  },
  {
   "cell_type": "code",
   "execution_count": 19,
   "metadata": {},
   "outputs": [
    {
     "name": "stdout",
     "output_type": "stream",
     "text": [
      "B07857_Ap_WNE1_PRC-5228-Fendt_Sara_Shotgun-1 gradient = 138.8\n",
      "B07859_Ap_WNE1_PRC-5228-Fendt_Sara_Shotgun-2 gradient = 82.357\n",
      "B07859_Ap_WNE1_PRC-5228-Fendt_Sara_Shotgun-8 gradient = 138.36\n",
      "B07861_Ap_WNE1_PRC-5228-Fendt_Sara_Shotgun-3 gradient = 138.55\n",
      "B07861_Ap_WNE1_PRC-5228-Fendt_Sara_Shotgun-9 gradient = 139.29\n",
      "B07863_Ap_WNE1_PRC-5228-Fendt_Sara_Shotgun-10 gradient = 138.33\n",
      "B07863_Ap_WNE1_PRC-5228-Fendt_Sara_Shotgun-4 gradient = 138.86\n",
      "B07865_Ap_WNE1_PRC-5228-Fendt_Sara_Shotgun-5 gradient = 138.44\n",
      "B07867_Ap_WNE1_PRC-5228-Fendt_Sara_Shotgun-6 gradient = 139.05\n",
      "B07869_Ap_WNE1_PRC-5228-Fendt_Sara_Shotgun-7 gradient = 138.64\n"
     ]
    }
   ],
   "source": [
    "for raw_name, group_df in psm_df.groupby('raw_name'):\n",
    "    print(raw_name, 'gradient =', group_df.rt.max())"
   ]
  },
  {
   "cell_type": "markdown",
   "metadata": {},
   "source": [
    "## Test on short gradient data"
   ]
  },
  {
   "cell_type": "code",
   "execution_count": 20,
   "metadata": {},
   "outputs": [
    {
     "name": "stderr",
     "output_type": "stream",
     "text": [
      "D:\\miniconda3\\lib\\site-packages\\IPython\\core\\interactiveshell.py:3437: DtypeWarning: Columns (59,67) have mixed types.Specify dtype option on import or set low_memory=False.\n",
      "  exec(code_obj, self.user_global_ns, self.user_ns)\n"
     ]
    }
   ],
   "source": [
    "from alphadeep.pretrained_models import AlphaDeepModels\n",
    "\n",
    "models = AlphaDeepModels()\n",
    "models.load_installed_models()\n",
    "rt_model = models.rt_model\n",
    "\n",
    "short_url = 'https://datashare.biochem.mpg.de/s/ASbXk0W4yvBNURI/download'\n",
    "short_grad = 'sandbox/test_files/PXD016662_short_gradient_evidence.txt'\n",
    "download_data(short_url, short_grad)\n",
    "\n",
    "from alphadeep.psm_reader.psm_reader import psm_reader_provider\n",
    "import alphadeep.psm_reader.maxquant_reader # register mq reader to psm_reader_provider\n",
    "\n",
    "mq_reader = psm_reader_provider.get_reader('maxquant')\n",
    "mq_reader.load(short_grad)"
   ]
  },
  {
   "cell_type": "code",
   "execution_count": 21,
   "metadata": {},
   "outputs": [],
   "source": [
    "psm_df = mq_reader.psm_df#.groupby(['sequence','mods','mod_sites','nAA'])['rt_norm'].median().reset_index()\n",
    "\n",
    "def create_raw_gradient_dict(psm_df):\n",
    "    gradient_dict = {5: [], 11: [], 21: []}\n",
    "    for raw_name, df_group in psm_df.groupby('raw_name'):\n",
    "        rt_max = df_group.rt.max()\n",
    "        if abs(rt_max-5) <= 2:\n",
    "            gradient_dict[5].append(raw_name)\n",
    "        elif abs(rt_max-11) <= 2:\n",
    "            gradient_dict[11].append(raw_name)\n",
    "        else:\n",
    "            gradient_dict[21].append(raw_name)\n",
    "    return gradient_dict\n",
    "gradient_dict = create_raw_gradient_dict(mq_reader.psm_df)\n",
    "def get_psm_df_by_gradient(psm_df, gradient=11):\n",
    "    return psm_df[psm_df.raw_name.isin(gradient_dict[gradient])].copy()"
   ]
  },
  {
   "cell_type": "code",
   "execution_count": 22,
   "metadata": {},
   "outputs": [
    {
     "data": {
      "image/png": "[encoded data removed]",
      "text/plain": [
       "<Figure size 432x288 with 1 Axes>"
      ]
     },
     "metadata": {
      "needs_background": "light"
     },
     "output_type": "display_data"
    },
    {
     "data": {
      "text/html": [
       "<div>\n",
       "<style scoped>\n",
       "    .dataframe tbody tr th:only-of-type {\n",
       "        vertical-align: middle;\n",
       "    }\n",
       "\n",
       "    .dataframe tbody tr th {\n",
       "        vertical-align: top;\n",
       "    }\n",
       "\n",
       "    .dataframe thead th {\n",
       "        text-align: right;\n",
       "    }\n",
       "</style>\n",
       "<table border=\"1\" class=\"dataframe\">\n",
       "  <thead>\n",
       "    <tr style=\"text-align: right;\">\n",
       "      <th></th>\n",
       "      <th>R_square</th>\n",
       "      <th>R</th>\n",
       "      <th>slope</th>\n",
       "      <th>intercept</th>\n",
       "      <th>n_sample</th>\n",
       "    </tr>\n",
       "  </thead>\n",
       "  <tbody>\n",
       "    <tr>\n",
       "      <th>0</th>\n",
       "      <td>0.931</td>\n",
       "      <td>0.964883</td>\n",
       "      <td>2.108</td>\n",
       "      <td>-0.0879</td>\n",
       "      <td>38027.0</td>\n",
       "    </tr>\n",
       "  </tbody>\n",
       "</table>\n",
       "</div>"
      ],
      "text/plain": [
       "   R_square         R  slope  intercept  n_sample\n",
       "0     0.931  0.964883  2.108    -0.0879   38027.0"
      ]
     },
     "execution_count": 22,
     "metadata": {},
     "output_type": "execute_result"
    }
   ],
   "source": [
    "psm_df = get_psm_df_by_gradient(mq_reader.psm_df, gradient=11)\n",
    "for _, df_group in psm_df.groupby('raw_name'):\n",
    "    psm_df.loc[df_group.index,'rt_norm'] = df_group.rt_norm / df_group.rt_norm.max()\n",
    "\n",
    "predict_df = rt_model.predict(psm_df)\n",
    "\n",
    "evaluate_linear_regression_plot(predict_df, x='rt_pred',y='rt_norm')\n",
    "evaluate_linear_regression(predict_df, x='rt_pred',y='rt_norm')"
   ]
  },
  {
   "cell_type": "markdown",
   "metadata": {},
   "source": [
    "## Transfer learning on short gradient"
   ]
  },
  {
   "cell_type": "code",
   "execution_count": 23,
   "metadata": {},
   "outputs": [
    {
     "name": "stdout",
     "output_type": "stream",
     "text": [
      "[Training] Epoch=1, Mean Loss=0.170434911016907\n",
      "[Training] Epoch=2, Mean Loss=0.046542691652263914\n",
      "[Training] Epoch=3, Mean Loss=0.02975834041301693\n",
      "[Training] Epoch=4, Mean Loss=0.0270392721252782\n",
      "[Training] Epoch=5, Mean Loss=0.023223701172641345\n",
      "[Training] Epoch=6, Mean Loss=0.017786109247910124\n",
      "[Training] Epoch=7, Mean Loss=0.017997759434261493\n",
      "[Training] Epoch=8, Mean Loss=0.01785121831510748\n",
      "[Training] Epoch=9, Mean Loss=0.021269575293575014\n",
      "[Training] Epoch=10, Mean Loss=0.01678608464343207\n",
      "[Training] Epoch=11, Mean Loss=0.015695599879005127\n",
      "[Training] Epoch=12, Mean Loss=0.017756896439407553\n",
      "[Training] Epoch=13, Mean Loss=0.017506812180259398\n",
      "[Training] Epoch=14, Mean Loss=0.020014725998044013\n",
      "[Training] Epoch=15, Mean Loss=0.019365364313125612\n",
      "[Training] Epoch=16, Mean Loss=0.016639834163444382\n",
      "[Training] Epoch=17, Mean Loss=0.0133383581813957\n",
      "[Training] Epoch=18, Mean Loss=0.015863767692020962\n",
      "[Training] Epoch=19, Mean Loss=0.01310873566461461\n",
      "[Training] Epoch=20, Mean Loss=0.016445156426302024\n"
     ]
    }
   ],
   "source": [
    "import numpy as np\n",
    "import pandas as pd\n",
    "n_train = 4000\n",
    "\n",
    "from alphadeep.model.rt import uniform_sampling\n",
    "train_df, test_df = uniform_sampling(psm_df, target='rt_norm', n_train=n_train, return_test_df=True)\n",
    "rt_model.train(train_df, epoch=20, verbose=True, verbose_each_epoch=False)"
   ]
  },
  {
   "cell_type": "code",
   "execution_count": 24,
   "metadata": {},
   "outputs": [
    {
     "data": {
      "image/png": "[encoded data removed]",
      "text/plain": [
       "<Figure size 432x288 with 1 Axes>"
      ]
     },
     "metadata": {
      "needs_background": "light"
     },
     "output_type": "display_data"
    },
    {
     "data": {
      "text/html": [
       "<div>\n",
       "<style scoped>\n",
       "    .dataframe tbody tr th:only-of-type {\n",
       "        vertical-align: middle;\n",
       "    }\n",
       "\n",
       "    .dataframe tbody tr th {\n",
       "        vertical-align: top;\n",
       "    }\n",
       "\n",
       "    .dataframe thead th {\n",
       "        text-align: right;\n",
       "    }\n",
       "</style>\n",
       "<table border=\"1\" class=\"dataframe\">\n",
       "  <thead>\n",
       "    <tr style=\"text-align: right;\">\n",
       "      <th></th>\n",
       "      <th>R_square</th>\n",
       "      <th>R</th>\n",
       "      <th>slope</th>\n",
       "      <th>intercept</th>\n",
       "      <th>n_sample</th>\n",
       "    </tr>\n",
       "  </thead>\n",
       "  <tbody>\n",
       "    <tr>\n",
       "      <th>0</th>\n",
       "      <td>0.97</td>\n",
       "      <td>0.984886</td>\n",
       "      <td>0.9901</td>\n",
       "      <td>-0.0003</td>\n",
       "      <td>34822.0</td>\n",
       "    </tr>\n",
       "  </tbody>\n",
       "</table>\n",
       "</div>"
      ],
      "text/plain": [
       "   R_square         R   slope  intercept  n_sample\n",
       "0      0.97  0.984886  0.9901    -0.0003   34822.0"
      ]
     },
     "execution_count": 24,
     "metadata": {},
     "output_type": "execute_result"
    }
   ],
   "source": [
    "predict_df = rt_model.predict(test_df)\n",
    "evaluate_linear_regression_plot(predict_df, x='rt_pred',y='rt_norm')\n",
    "evaluate_linear_regression(predict_df, x='rt_pred',y='rt_norm')"
   ]
  },
  {
   "cell_type": "code",
   "execution_count": 25,
   "metadata": {},
   "outputs": [
    {
     "data": {
      "text/plain": [
       "<AxesSubplot:ylabel='Frequency'>"
      ]
     },
     "execution_count": 25,
     "metadata": {},
     "output_type": "execute_result"
    },
    {
     "data": {
      "image/png": "[encoded data removed]",
      "text/plain": [
       "<Figure size 432x288 with 1 Axes>"
      ]
     },
     "metadata": {
      "needs_background": "light"
     },
     "output_type": "display_data"
    }
   ],
   "source": [
    "(predict_df.rt.max()*(predict_df.rt_norm-predict_df.rt_pred)).plot.hist(bins=50)"
   ]
  },
  {
   "cell_type": "markdown",
   "metadata": {},
   "source": [
    "# 4. Predict spectral library"
   ]
  },
  {
   "cell_type": "code",
   "execution_count": 26,
   "metadata": {},
   "outputs": [
    {
     "name": "stderr",
     "output_type": "stream",
     "text": [
      "100%|██████████| 67/67 [00:08<00:00,  7.91it/s]\n",
      "100%|██████████| 67/67 [00:08<00:00,  7.92it/s]\n"
     ]
    }
   ],
   "source": [
    "from alphadeep.spec_lib.predict_lib import PredictLib\n",
    "predlib = PredictLib(\n",
    "    models.ms2_model.charged_frag_types, models\n",
    ")\n",
    "predlib.precursor_df = mq_reader.psm_df\n",
    "predlib.predict_rt_ccs()"
   ]
  },
  {
   "cell_type": "code",
   "execution_count": 27,
   "metadata": {},
   "outputs": [
    {
     "name": "stderr",
     "output_type": "stream",
     "text": [
      "100%|██████████| 67/67 [00:12<00:00,  5.22it/s]\n"
     ]
    }
   ],
   "source": [
    "predlib.precursor_df['instrument'] = 'timsTOF'\n",
    "predlib.precursor_df['nce'] = 30 # always set as 30 for timsTOF\n",
    "predlib.load_fragment_intensity_df()"
   ]
  },
  {
   "cell_type": "code",
   "execution_count": 28,
   "metadata": {},
   "outputs": [
    {
     "data": {
      "text/html": [
       "<div>\n",
       "<style scoped>\n",
       "    .dataframe tbody tr th:only-of-type {\n",
       "        vertical-align: middle;\n",
       "    }\n",
       "\n",
       "    .dataframe tbody tr th {\n",
       "        vertical-align: top;\n",
       "    }\n",
       "\n",
       "    .dataframe thead th {\n",
       "        text-align: right;\n",
       "    }\n",
       "</style>\n",
       "<table border=\"1\" class=\"dataframe\">\n",
       "  <thead>\n",
       "    <tr style=\"text-align: right;\">\n",
       "      <th></th>\n",
       "      <th>sequence</th>\n",
       "      <th>charge</th>\n",
       "      <th>rt</th>\n",
       "      <th>rt_norm</th>\n",
       "      <th>ccs</th>\n",
       "      <th>mobility</th>\n",
       "      <th>spec_idx</th>\n",
       "      <th>raw_name</th>\n",
       "      <th>score</th>\n",
       "      <th>proteins</th>\n",
       "      <th>...</th>\n",
       "      <th>mod_sites</th>\n",
       "      <th>precursor_mz</th>\n",
       "      <th>rt_pred</th>\n",
       "      <th>irt_pred</th>\n",
       "      <th>ccs_pred</th>\n",
       "      <th>mobility_pred</th>\n",
       "      <th>instrument</th>\n",
       "      <th>nce</th>\n",
       "      <th>frag_start_idx</th>\n",
       "      <th>frag_end_idx</th>\n",
       "    </tr>\n",
       "  </thead>\n",
       "  <tbody>\n",
       "    <tr>\n",
       "      <th>0</th>\n",
       "      <td>AAAVPQR</td>\n",
       "      <td>2</td>\n",
       "      <td>5.2031</td>\n",
       "      <td>0.242083</td>\n",
       "      <td>&lt;NA&gt;</td>\n",
       "      <td>&lt;NA&gt;</td>\n",
       "      <td>4019</td>\n",
       "      <td>20190524_EXP1_Evo2_DBJ_LFQprot_SDS_500ng_15000...</td>\n",
       "      <td>51.036</td>\n",
       "      <td>Q00688</td>\n",
       "      <td>...</td>\n",
       "      <td>0</td>\n",
       "      <td>377.713945</td>\n",
       "      <td>0.390927</td>\n",
       "      <td>-5.535138</td>\n",
       "      <td>298.633942</td>\n",
       "      <td>0.732207</td>\n",
       "      <td>timsTOF</td>\n",
       "      <td>0.3</td>\n",
       "      <td>0</td>\n",
       "      <td>6</td>\n",
       "    </tr>\n",
       "    <tr>\n",
       "      <th>1</th>\n",
       "      <td>AAQLAIR</td>\n",
       "      <td>2</td>\n",
       "      <td>6.1190</td>\n",
       "      <td>0.284697</td>\n",
       "      <td>&lt;NA&gt;</td>\n",
       "      <td>&lt;NA&gt;</td>\n",
       "      <td>5071</td>\n",
       "      <td>20190524_EXP1_Evo2_DBJ_LFQprot_SDS_500ng_15000...</td>\n",
       "      <td>59.795</td>\n",
       "      <td>P62910</td>\n",
       "      <td>...</td>\n",
       "      <td></td>\n",
       "      <td>371.732137</td>\n",
       "      <td>0.429958</td>\n",
       "      <td>2.307741</td>\n",
       "      <td>299.386993</td>\n",
       "      <td>0.733843</td>\n",
       "      <td>timsTOF</td>\n",
       "      <td>0.3</td>\n",
       "      <td>6</td>\n",
       "      <td>12</td>\n",
       "    </tr>\n",
       "    <tr>\n",
       "      <th>2</th>\n",
       "      <td>AAQLAIR</td>\n",
       "      <td>2</td>\n",
       "      <td>2.2269</td>\n",
       "      <td>0.103610</td>\n",
       "      <td>&lt;NA&gt;</td>\n",
       "      <td>&lt;NA&gt;</td>\n",
       "      <td>1046</td>\n",
       "      <td>20190830_EXP1_Evo1_DBJ_Dil-Ser-DDAFAIMS_HELA_5...</td>\n",
       "      <td>121.870</td>\n",
       "      <td>P62910</td>\n",
       "      <td>...</td>\n",
       "      <td></td>\n",
       "      <td>371.732137</td>\n",
       "      <td>0.429959</td>\n",
       "      <td>2.307813</td>\n",
       "      <td>299.386993</td>\n",
       "      <td>0.733843</td>\n",
       "      <td>timsTOF</td>\n",
       "      <td>0.3</td>\n",
       "      <td>12</td>\n",
       "      <td>18</td>\n",
       "    </tr>\n",
       "    <tr>\n",
       "      <th>3</th>\n",
       "      <td>AAQLAIR</td>\n",
       "      <td>2</td>\n",
       "      <td>2.2564</td>\n",
       "      <td>0.104983</td>\n",
       "      <td>&lt;NA&gt;</td>\n",
       "      <td>&lt;NA&gt;</td>\n",
       "      <td>1003</td>\n",
       "      <td>20190830_EXP1_Evo1_DBJ_Dil-Ser-DDAFAIMS_HELA_5...</td>\n",
       "      <td>133.990</td>\n",
       "      <td>P62910</td>\n",
       "      <td>...</td>\n",
       "      <td></td>\n",
       "      <td>371.732137</td>\n",
       "      <td>0.429958</td>\n",
       "      <td>2.307741</td>\n",
       "      <td>299.386993</td>\n",
       "      <td>0.733843</td>\n",
       "      <td>timsTOF</td>\n",
       "      <td>0.3</td>\n",
       "      <td>18</td>\n",
       "      <td>24</td>\n",
       "    </tr>\n",
       "    <tr>\n",
       "      <th>4</th>\n",
       "      <td>AAQLAIR</td>\n",
       "      <td>2</td>\n",
       "      <td>2.3230</td>\n",
       "      <td>0.108082</td>\n",
       "      <td>&lt;NA&gt;</td>\n",
       "      <td>&lt;NA&gt;</td>\n",
       "      <td>1069</td>\n",
       "      <td>20190830_EXP1_Evo1_DBJ_Dil-Ser-DDAFAIMS_HELA_5...</td>\n",
       "      <td>121.680</td>\n",
       "      <td>P62910</td>\n",
       "      <td>...</td>\n",
       "      <td></td>\n",
       "      <td>371.732137</td>\n",
       "      <td>0.429959</td>\n",
       "      <td>2.307813</td>\n",
       "      <td>299.386993</td>\n",
       "      <td>0.733843</td>\n",
       "      <td>timsTOF</td>\n",
       "      <td>0.3</td>\n",
       "      <td>24</td>\n",
       "      <td>30</td>\n",
       "    </tr>\n",
       "    <tr>\n",
       "      <th>...</th>\n",
       "      <td>...</td>\n",
       "      <td>...</td>\n",
       "      <td>...</td>\n",
       "      <td>...</td>\n",
       "      <td>...</td>\n",
       "      <td>...</td>\n",
       "      <td>...</td>\n",
       "      <td>...</td>\n",
       "      <td>...</td>\n",
       "      <td>...</td>\n",
       "      <td>...</td>\n",
       "      <td>...</td>\n",
       "      <td>...</td>\n",
       "      <td>...</td>\n",
       "      <td>...</td>\n",
       "      <td>...</td>\n",
       "      <td>...</td>\n",
       "      <td>...</td>\n",
       "      <td>...</td>\n",
       "      <td>...</td>\n",
       "      <td>...</td>\n",
       "    </tr>\n",
       "    <tr>\n",
       "      <th>391102</th>\n",
       "      <td>GQLASPSSQSAAASSLGPYGGAQPSASALSSYGGQAAAASSLNSYG...</td>\n",
       "      <td>5</td>\n",
       "      <td>16.5410</td>\n",
       "      <td>0.769599</td>\n",
       "      <td>&lt;NA&gt;</td>\n",
       "      <td>&lt;NA&gt;</td>\n",
       "      <td>18999</td>\n",
       "      <td>20190914_EXP1_Evo1_AMV_LFQPhos_200ug_30ul-TiIM...</td>\n",
       "      <td>134.910</td>\n",
       "      <td>Q96PK6</td>\n",
       "      <td>...</td>\n",
       "      <td>5</td>\n",
       "      <td>1383.832107</td>\n",
       "      <td>0.782265</td>\n",
       "      <td>73.099265</td>\n",
       "      <td>1182.505615</td>\n",
       "      <td>1.178648</td>\n",
       "      <td>timsTOF</td>\n",
       "      <td>0.3</td>\n",
       "      <td>5538892</td>\n",
       "      <td>5538964</td>\n",
       "    </tr>\n",
       "    <tr>\n",
       "      <th>391103</th>\n",
       "      <td>GQLASPSSQSAAASSLGPYGGAQPSASALSSYGGQAAAASSLNSYG...</td>\n",
       "      <td>6</td>\n",
       "      <td>16.4070</td>\n",
       "      <td>0.763365</td>\n",
       "      <td>&lt;NA&gt;</td>\n",
       "      <td>&lt;NA&gt;</td>\n",
       "      <td>18991</td>\n",
       "      <td>20190914_EXP1_Evo1_AMV_LFQPhos_200ug_30ul-TiIM...</td>\n",
       "      <td>67.855</td>\n",
       "      <td>Q96PK6</td>\n",
       "      <td>...</td>\n",
       "      <td>5;23;35;43</td>\n",
       "      <td>1153.853309</td>\n",
       "      <td>0.786179</td>\n",
       "      <td>73.885732</td>\n",
       "      <td>1239.406982</td>\n",
       "      <td>1.029471</td>\n",
       "      <td>timsTOF</td>\n",
       "      <td>0.3</td>\n",
       "      <td>5538964</td>\n",
       "      <td>5539036</td>\n",
       "    </tr>\n",
       "    <tr>\n",
       "      <th>391104</th>\n",
       "      <td>QPSWDPSPVSSTVPAPSPLSAAAVSPSKLPEDDEPPARPPPPPPAS...</td>\n",
       "      <td>6</td>\n",
       "      <td>18.2320</td>\n",
       "      <td>0.848276</td>\n",
       "      <td>&lt;NA&gt;</td>\n",
       "      <td>&lt;NA&gt;</td>\n",
       "      <td>21257</td>\n",
       "      <td>20190914_EXP1_Evo1_AMV_LFQPhos_200ug_30ul-TiIM...</td>\n",
       "      <td>31.865</td>\n",
       "      <td>Q9NQC3</td>\n",
       "      <td>...</td>\n",
       "      <td>25;27</td>\n",
       "      <td>1230.937032</td>\n",
       "      <td>0.848980</td>\n",
       "      <td>86.504609</td>\n",
       "      <td>1244.054199</td>\n",
       "      <td>1.033461</td>\n",
       "      <td>timsTOF</td>\n",
       "      <td>0.3</td>\n",
       "      <td>5539036</td>\n",
       "      <td>5539108</td>\n",
       "    </tr>\n",
       "    <tr>\n",
       "      <th>391105</th>\n",
       "      <td>VPALLLPPGPPVGGGGPGAPPSPPAVAAAAAAAGSSGAGVPGGAAA...</td>\n",
       "      <td>5</td>\n",
       "      <td>19.7670</td>\n",
       "      <td>0.919695</td>\n",
       "      <td>&lt;NA&gt;</td>\n",
       "      <td>&lt;NA&gt;</td>\n",
       "      <td>23097</td>\n",
       "      <td>20190914_EXP1_Evo1_AMV_LFQPhos_200ug_30ul-TiIM...</td>\n",
       "      <td>31.167</td>\n",
       "      <td>Q03164</td>\n",
       "      <td>...</td>\n",
       "      <td>22</td>\n",
       "      <td>1228.809982</td>\n",
       "      <td>0.865465</td>\n",
       "      <td>89.817170</td>\n",
       "      <td>1155.776489</td>\n",
       "      <td>1.151713</td>\n",
       "      <td>timsTOF</td>\n",
       "      <td>0.3</td>\n",
       "      <td>5539108</td>\n",
       "      <td>5539180</td>\n",
       "    </tr>\n",
       "    <tr>\n",
       "      <th>391106</th>\n",
       "      <td>RVSNAGGPPAPPAGGPPPPPGPPPPPGPPPPPGLPPSGVPAAAHGA...</td>\n",
       "      <td>6</td>\n",
       "      <td>16.9540</td>\n",
       "      <td>0.788815</td>\n",
       "      <td>&lt;NA&gt;</td>\n",
       "      <td>&lt;NA&gt;</td>\n",
       "      <td>19458</td>\n",
       "      <td>20190914_EXP1_Evo1_AMV_LFQPhos_200ug_30ul-TiIM...</td>\n",
       "      <td>37.116</td>\n",
       "      <td>P50552</td>\n",
       "      <td>...</td>\n",
       "      <td>3</td>\n",
       "      <td>1141.926218</td>\n",
       "      <td>0.812624</td>\n",
       "      <td>79.199385</td>\n",
       "      <td>1238.057739</td>\n",
       "      <td>1.028329</td>\n",
       "      <td>timsTOF</td>\n",
       "      <td>0.3</td>\n",
       "      <td>5539180</td>\n",
       "      <td>5539259</td>\n",
       "    </tr>\n",
       "  </tbody>\n",
       "</table>\n",
       "<p>391107 rows × 24 columns</p>\n",
       "</div>"
      ],
      "text/plain": [
       "                                                 sequence  charge       rt  \\\n",
       "0                                                 AAAVPQR       2   5.2031   \n",
       "1                                                 AAQLAIR       2   6.1190   \n",
       "2                                                 AAQLAIR       2   2.2269   \n",
       "3                                                 AAQLAIR       2   2.2564   \n",
       "4                                                 AAQLAIR       2   2.3230   \n",
       "...                                                   ...     ...      ...   \n",
       "391102  GQLASPSSQSAAASSLGPYGGAQPSASALSSYGGQAAAASSLNSYG...       5  16.5410   \n",
       "391103  GQLASPSSQSAAASSLGPYGGAQPSASALSSYGGQAAAASSLNSYG...       6  16.4070   \n",
       "391104  QPSWDPSPVSSTVPAPSPLSAAAVSPSKLPEDDEPPARPPPPPPAS...       6  18.2320   \n",
       "391105  VPALLLPPGPPVGGGGPGAPPSPPAVAAAAAAAGSSGAGVPGGAAA...       5  19.7670   \n",
       "391106  RVSNAGGPPAPPAGGPPPPPGPPPPPGPPPPPGLPPSGVPAAAHGA...       6  16.9540   \n",
       "\n",
       "         rt_norm   ccs mobility  spec_idx  \\\n",
       "0       0.242083  <NA>     <NA>      4019   \n",
       "1       0.284697  <NA>     <NA>      5071   \n",
       "2       0.103610  <NA>     <NA>      1046   \n",
       "3       0.104983  <NA>     <NA>      1003   \n",
       "4       0.108082  <NA>     <NA>      1069   \n",
       "...          ...   ...      ...       ...   \n",
       "391102  0.769599  <NA>     <NA>     18999   \n",
       "391103  0.763365  <NA>     <NA>     18991   \n",
       "391104  0.848276  <NA>     <NA>     21257   \n",
       "391105  0.919695  <NA>     <NA>     23097   \n",
       "391106  0.788815  <NA>     <NA>     19458   \n",
       "\n",
       "                                                 raw_name    score proteins  \\\n",
       "0       20190524_EXP1_Evo2_DBJ_LFQprot_SDS_500ng_15000...   51.036   Q00688   \n",
       "1       20190524_EXP1_Evo2_DBJ_LFQprot_SDS_500ng_15000...   59.795   P62910   \n",
       "2       20190830_EXP1_Evo1_DBJ_Dil-Ser-DDAFAIMS_HELA_5...  121.870   P62910   \n",
       "3       20190830_EXP1_Evo1_DBJ_Dil-Ser-DDAFAIMS_HELA_5...  133.990   P62910   \n",
       "4       20190830_EXP1_Evo1_DBJ_Dil-Ser-DDAFAIMS_HELA_5...  121.680   P62910   \n",
       "...                                                   ...      ...      ...   \n",
       "391102  20190914_EXP1_Evo1_AMV_LFQPhos_200ug_30ul-TiIM...  134.910   Q96PK6   \n",
       "391103  20190914_EXP1_Evo1_AMV_LFQPhos_200ug_30ul-TiIM...   67.855   Q96PK6   \n",
       "391104  20190914_EXP1_Evo1_AMV_LFQPhos_200ug_30ul-TiIM...   31.865   Q9NQC3   \n",
       "391105  20190914_EXP1_Evo1_AMV_LFQPhos_200ug_30ul-TiIM...   31.167   Q03164   \n",
       "391106  20190914_EXP1_Evo1_AMV_LFQPhos_200ug_30ul-TiIM...   37.116   P50552   \n",
       "\n",
       "        ...   mod_sites  precursor_mz   rt_pred   irt_pred     ccs_pred  \\\n",
       "0       ...           0    377.713945  0.390927  -5.535138   298.633942   \n",
       "1       ...                371.732137  0.429958   2.307741   299.386993   \n",
       "2       ...                371.732137  0.429959   2.307813   299.386993   \n",
       "3       ...                371.732137  0.429958   2.307741   299.386993   \n",
       "4       ...                371.732137  0.429959   2.307813   299.386993   \n",
       "...     ...         ...           ...       ...        ...          ...   \n",
       "391102  ...           5   1383.832107  0.782265  73.099265  1182.505615   \n",
       "391103  ...  5;23;35;43   1153.853309  0.786179  73.885732  1239.406982   \n",
       "391104  ...       25;27   1230.937032  0.848980  86.504609  1244.054199   \n",
       "391105  ...          22   1228.809982  0.865465  89.817170  1155.776489   \n",
       "391106  ...           3   1141.926218  0.812624  79.199385  1238.057739   \n",
       "\n",
       "        mobility_pred  instrument  nce  frag_start_idx  frag_end_idx  \n",
       "0            0.732207     timsTOF  0.3               0             6  \n",
       "1            0.733843     timsTOF  0.3               6            12  \n",
       "2            0.733843     timsTOF  0.3              12            18  \n",
       "3            0.733843     timsTOF  0.3              18            24  \n",
       "4            0.733843     timsTOF  0.3              24            30  \n",
       "...               ...         ...  ...             ...           ...  \n",
       "391102       1.178648     timsTOF  0.3         5538892       5538964  \n",
       "391103       1.029471     timsTOF  0.3         5538964       5539036  \n",
       "391104       1.033461     timsTOF  0.3         5539036       5539108  \n",
       "391105       1.151713     timsTOF  0.3         5539108       5539180  \n",
       "391106       1.028329     timsTOF  0.3         5539180       5539259  \n",
       "\n",
       "[391107 rows x 24 columns]"
      ]
     },
     "execution_count": 28,
     "metadata": {},
     "output_type": "execute_result"
    }
   ],
   "source": [
    "predlib.precursor_df"
   ]
  },
  {
   "cell_type": "code",
   "execution_count": 29,
   "metadata": {},
   "outputs": [
    {
     "data": {
      "text/html": [
       "<div>\n",
       "<style scoped>\n",
       "    .dataframe tbody tr th:only-of-type {\n",
       "        vertical-align: middle;\n",
       "    }\n",
       "\n",
       "    .dataframe tbody tr th {\n",
       "        vertical-align: top;\n",
       "    }\n",
       "\n",
       "    .dataframe thead th {\n",
       "        text-align: right;\n",
       "    }\n",
       "</style>\n",
       "<table border=\"1\" class=\"dataframe\">\n",
       "  <thead>\n",
       "    <tr style=\"text-align: right;\">\n",
       "      <th></th>\n",
       "      <th>b_z1</th>\n",
       "      <th>b_z2</th>\n",
       "      <th>y_z1</th>\n",
       "      <th>y_z2</th>\n",
       "      <th>b_modloss_z1</th>\n",
       "      <th>b_modloss_z2</th>\n",
       "      <th>y_modloss_z1</th>\n",
       "      <th>y_modloss_z2</th>\n",
       "    </tr>\n",
       "  </thead>\n",
       "  <tbody>\n",
       "    <tr>\n",
       "      <th>0</th>\n",
       "      <td>114.054954</td>\n",
       "      <td>57.531115</td>\n",
       "      <td>641.372935</td>\n",
       "      <td>321.190105</td>\n",
       "      <td>0.000000</td>\n",
       "      <td>0.000000</td>\n",
       "      <td>0.000000</td>\n",
       "      <td>0.000000</td>\n",
       "    </tr>\n",
       "    <tr>\n",
       "      <th>1</th>\n",
       "      <td>185.092068</td>\n",
       "      <td>93.049672</td>\n",
       "      <td>570.335821</td>\n",
       "      <td>285.671548</td>\n",
       "      <td>0.000000</td>\n",
       "      <td>0.000000</td>\n",
       "      <td>0.000000</td>\n",
       "      <td>0.000000</td>\n",
       "    </tr>\n",
       "    <tr>\n",
       "      <th>2</th>\n",
       "      <td>256.129182</td>\n",
       "      <td>128.568229</td>\n",
       "      <td>499.298707</td>\n",
       "      <td>250.152991</td>\n",
       "      <td>0.000000</td>\n",
       "      <td>0.000000</td>\n",
       "      <td>0.000000</td>\n",
       "      <td>0.000000</td>\n",
       "    </tr>\n",
       "    <tr>\n",
       "      <th>3</th>\n",
       "      <td>355.197596</td>\n",
       "      <td>178.102436</td>\n",
       "      <td>400.230293</td>\n",
       "      <td>200.618785</td>\n",
       "      <td>0.000000</td>\n",
       "      <td>0.000000</td>\n",
       "      <td>0.000000</td>\n",
       "      <td>0.000000</td>\n",
       "    </tr>\n",
       "    <tr>\n",
       "      <th>4</th>\n",
       "      <td>452.250360</td>\n",
       "      <td>226.628818</td>\n",
       "      <td>303.177529</td>\n",
       "      <td>152.092403</td>\n",
       "      <td>0.000000</td>\n",
       "      <td>0.000000</td>\n",
       "      <td>0.000000</td>\n",
       "      <td>0.000000</td>\n",
       "    </tr>\n",
       "    <tr>\n",
       "      <th>...</th>\n",
       "      <td>...</td>\n",
       "      <td>...</td>\n",
       "      <td>...</td>\n",
       "      <td>...</td>\n",
       "      <td>...</td>\n",
       "      <td>...</td>\n",
       "      <td>...</td>\n",
       "      <td>...</td>\n",
       "    </tr>\n",
       "    <tr>\n",
       "      <th>5539254</th>\n",
       "      <td>6388.235644</td>\n",
       "      <td>3194.621460</td>\n",
       "      <td>459.292559</td>\n",
       "      <td>230.149917</td>\n",
       "      <td>6290.258749</td>\n",
       "      <td>3145.633012</td>\n",
       "      <td>361.315663</td>\n",
       "      <td>181.161470</td>\n",
       "    </tr>\n",
       "    <tr>\n",
       "      <th>5539255</th>\n",
       "      <td>6501.319708</td>\n",
       "      <td>3251.163492</td>\n",
       "      <td>346.208495</td>\n",
       "      <td>173.607885</td>\n",
       "      <td>6403.342813</td>\n",
       "      <td>3202.175044</td>\n",
       "      <td>248.231599</td>\n",
       "      <td>124.619438</td>\n",
       "    </tr>\n",
       "    <tr>\n",
       "      <th>5539256</th>\n",
       "      <td>6572.356822</td>\n",
       "      <td>3286.682049</td>\n",
       "      <td>275.171381</td>\n",
       "      <td>138.089329</td>\n",
       "      <td>6474.379926</td>\n",
       "      <td>3237.693601</td>\n",
       "      <td>177.194486</td>\n",
       "      <td>89.100881</td>\n",
       "    </tr>\n",
       "    <tr>\n",
       "      <th>5539257</th>\n",
       "      <td>6629.378286</td>\n",
       "      <td>3315.192781</td>\n",
       "      <td>218.149917</td>\n",
       "      <td>109.578597</td>\n",
       "      <td>6531.401390</td>\n",
       "      <td>3266.204333</td>\n",
       "      <td>120.173022</td>\n",
       "      <td>60.590149</td>\n",
       "    </tr>\n",
       "    <tr>\n",
       "      <th>5539258</th>\n",
       "      <td>6700.415400</td>\n",
       "      <td>3350.711338</td>\n",
       "      <td>147.112804</td>\n",
       "      <td>74.060040</td>\n",
       "      <td>6602.438504</td>\n",
       "      <td>3301.722890</td>\n",
       "      <td>49.135908</td>\n",
       "      <td>25.071592</td>\n",
       "    </tr>\n",
       "  </tbody>\n",
       "</table>\n",
       "<p>5539259 rows × 8 columns</p>\n",
       "</div>"
      ],
      "text/plain": [
       "                b_z1         b_z2        y_z1        y_z2  b_modloss_z1  \\\n",
       "0         114.054954    57.531115  641.372935  321.190105      0.000000   \n",
       "1         185.092068    93.049672  570.335821  285.671548      0.000000   \n",
       "2         256.129182   128.568229  499.298707  250.152991      0.000000   \n",
       "3         355.197596   178.102436  400.230293  200.618785      0.000000   \n",
       "4         452.250360   226.628818  303.177529  152.092403      0.000000   \n",
       "...              ...          ...         ...         ...           ...   \n",
       "5539254  6388.235644  3194.621460  459.292559  230.149917   6290.258749   \n",
       "5539255  6501.319708  3251.163492  346.208495  173.607885   6403.342813   \n",
       "5539256  6572.356822  3286.682049  275.171381  138.089329   6474.379926   \n",
       "5539257  6629.378286  3315.192781  218.149917  109.578597   6531.401390   \n",
       "5539258  6700.415400  3350.711338  147.112804   74.060040   6602.438504   \n",
       "\n",
       "         b_modloss_z2  y_modloss_z1  y_modloss_z2  \n",
       "0            0.000000      0.000000      0.000000  \n",
       "1            0.000000      0.000000      0.000000  \n",
       "2            0.000000      0.000000      0.000000  \n",
       "3            0.000000      0.000000      0.000000  \n",
       "4            0.000000      0.000000      0.000000  \n",
       "...               ...           ...           ...  \n",
       "5539254   3145.633012    361.315663    181.161470  \n",
       "5539255   3202.175044    248.231599    124.619438  \n",
       "5539256   3237.693601    177.194486     89.100881  \n",
       "5539257   3266.204333    120.173022     60.590149  \n",
       "5539258   3301.722890     49.135908     25.071592  \n",
       "\n",
       "[5539259 rows x 8 columns]"
      ]
     },
     "execution_count": 29,
     "metadata": {},
     "output_type": "execute_result"
    }
   ],
   "source": [
    "predlib.fragment_mz_df"
   ]
  },
  {
   "cell_type": "code",
   "execution_count": 18,
   "metadata": {},
   "outputs": [
    {
     "data": {
      "text/html": [
       "<div>\n",
       "<style scoped>\n",
       "    .dataframe tbody tr th:only-of-type {\n",
       "        vertical-align: middle;\n",
       "    }\n",
       "\n",
       "    .dataframe tbody tr th {\n",
       "        vertical-align: top;\n",
       "    }\n",
       "\n",
       "    .dataframe thead th {\n",
       "        text-align: right;\n",
       "    }\n",
       "</style>\n",
       "<table border=\"1\" class=\"dataframe\">\n",
       "  <thead>\n",
       "    <tr style=\"text-align: right;\">\n",
       "      <th></th>\n",
       "      <th>b_z1</th>\n",
       "      <th>b_z2</th>\n",
       "      <th>y_z1</th>\n",
       "      <th>y_z2</th>\n",
       "      <th>b_modloss_z1</th>\n",
       "      <th>b_modloss_z2</th>\n",
       "      <th>y_modloss_z1</th>\n",
       "      <th>y_modloss_z2</th>\n",
       "    </tr>\n",
       "  </thead>\n",
       "  <tbody>\n",
       "    <tr>\n",
       "      <th>0</th>\n",
       "      <td>0.000000</td>\n",
       "      <td>0.0</td>\n",
       "      <td>0.049143</td>\n",
       "      <td>0.0</td>\n",
       "      <td>0.0</td>\n",
       "      <td>0.0</td>\n",
       "      <td>0.0</td>\n",
       "      <td>0.0</td>\n",
       "    </tr>\n",
       "    <tr>\n",
       "      <th>1</th>\n",
       "      <td>0.013662</td>\n",
       "      <td>0.0</td>\n",
       "      <td>0.472650</td>\n",
       "      <td>0.0</td>\n",
       "      <td>0.0</td>\n",
       "      <td>0.0</td>\n",
       "      <td>0.0</td>\n",
       "      <td>0.0</td>\n",
       "    </tr>\n",
       "    <tr>\n",
       "      <th>2</th>\n",
       "      <td>0.000000</td>\n",
       "      <td>0.0</td>\n",
       "      <td>0.999904</td>\n",
       "      <td>0.0</td>\n",
       "      <td>0.0</td>\n",
       "      <td>0.0</td>\n",
       "      <td>0.0</td>\n",
       "      <td>0.0</td>\n",
       "    </tr>\n",
       "    <tr>\n",
       "      <th>3</th>\n",
       "      <td>0.012302</td>\n",
       "      <td>0.0</td>\n",
       "      <td>0.700725</td>\n",
       "      <td>0.0</td>\n",
       "      <td>0.0</td>\n",
       "      <td>0.0</td>\n",
       "      <td>0.0</td>\n",
       "      <td>0.0</td>\n",
       "    </tr>\n",
       "    <tr>\n",
       "      <th>4</th>\n",
       "      <td>0.000000</td>\n",
       "      <td>0.0</td>\n",
       "      <td>0.097460</td>\n",
       "      <td>0.0</td>\n",
       "      <td>0.0</td>\n",
       "      <td>0.0</td>\n",
       "      <td>0.0</td>\n",
       "      <td>0.0</td>\n",
       "    </tr>\n",
       "    <tr>\n",
       "      <th>...</th>\n",
       "      <td>...</td>\n",
       "      <td>...</td>\n",
       "      <td>...</td>\n",
       "      <td>...</td>\n",
       "      <td>...</td>\n",
       "      <td>...</td>\n",
       "      <td>...</td>\n",
       "      <td>...</td>\n",
       "    </tr>\n",
       "    <tr>\n",
       "      <th>2227056</th>\n",
       "      <td>0.000000</td>\n",
       "      <td>0.0</td>\n",
       "      <td>0.033926</td>\n",
       "      <td>0.0</td>\n",
       "      <td>0.0</td>\n",
       "      <td>0.0</td>\n",
       "      <td>0.0</td>\n",
       "      <td>0.0</td>\n",
       "    </tr>\n",
       "    <tr>\n",
       "      <th>2227057</th>\n",
       "      <td>0.000000</td>\n",
       "      <td>0.0</td>\n",
       "      <td>0.002669</td>\n",
       "      <td>0.0</td>\n",
       "      <td>0.0</td>\n",
       "      <td>0.0</td>\n",
       "      <td>0.0</td>\n",
       "      <td>0.0</td>\n",
       "    </tr>\n",
       "    <tr>\n",
       "      <th>2227058</th>\n",
       "      <td>0.000000</td>\n",
       "      <td>0.0</td>\n",
       "      <td>0.033581</td>\n",
       "      <td>0.0</td>\n",
       "      <td>0.0</td>\n",
       "      <td>0.0</td>\n",
       "      <td>0.0</td>\n",
       "      <td>0.0</td>\n",
       "    </tr>\n",
       "    <tr>\n",
       "      <th>2227059</th>\n",
       "      <td>0.000000</td>\n",
       "      <td>0.0</td>\n",
       "      <td>0.050408</td>\n",
       "      <td>0.0</td>\n",
       "      <td>0.0</td>\n",
       "      <td>0.0</td>\n",
       "      <td>0.0</td>\n",
       "      <td>0.0</td>\n",
       "    </tr>\n",
       "    <tr>\n",
       "      <th>2227060</th>\n",
       "      <td>0.000000</td>\n",
       "      <td>0.0</td>\n",
       "      <td>0.000000</td>\n",
       "      <td>0.0</td>\n",
       "      <td>0.0</td>\n",
       "      <td>0.0</td>\n",
       "      <td>0.0</td>\n",
       "      <td>0.0</td>\n",
       "    </tr>\n",
       "  </tbody>\n",
       "</table>\n",
       "<p>2227061 rows × 8 columns</p>\n",
       "</div>"
      ],
      "text/plain": [
       "             b_z1  b_z2      y_z1  y_z2  b_modloss_z1  b_modloss_z2  \\\n",
       "0        0.000000   0.0  0.049143   0.0           0.0           0.0   \n",
       "1        0.013662   0.0  0.472650   0.0           0.0           0.0   \n",
       "2        0.000000   0.0  0.999904   0.0           0.0           0.0   \n",
       "3        0.012302   0.0  0.700725   0.0           0.0           0.0   \n",
       "4        0.000000   0.0  0.097460   0.0           0.0           0.0   \n",
       "...           ...   ...       ...   ...           ...           ...   \n",
       "2227056  0.000000   0.0  0.033926   0.0           0.0           0.0   \n",
       "2227057  0.000000   0.0  0.002669   0.0           0.0           0.0   \n",
       "2227058  0.000000   0.0  0.033581   0.0           0.0           0.0   \n",
       "2227059  0.000000   0.0  0.050408   0.0           0.0           0.0   \n",
       "2227060  0.000000   0.0  0.000000   0.0           0.0           0.0   \n",
       "\n",
       "         y_modloss_z1  y_modloss_z2  \n",
       "0                 0.0           0.0  \n",
       "1                 0.0           0.0  \n",
       "2                 0.0           0.0  \n",
       "3                 0.0           0.0  \n",
       "4                 0.0           0.0  \n",
       "...               ...           ...  \n",
       "2227056           0.0           0.0  \n",
       "2227057           0.0           0.0  \n",
       "2227058           0.0           0.0  \n",
       "2227059           0.0           0.0  \n",
       "2227060           0.0           0.0  \n",
       "\n",
       "[2227061 rows x 8 columns]"
      ]
     },
     "execution_count": 18,
     "metadata": {},
     "output_type": "execute_result"
    }
   ],
   "source": [
    "predlib.fragment_intensity_df"
   ]
  },
  {
   "cell_type": "code",
   "execution_count": null,
   "metadata": {},
   "outputs": [],
   "source": []
  }
 ],
 "metadata": {
  "interpreter": {
   "hash": "8a3b27e141e49c996c9b863f8707e97aabd49c4a7e8445b9b783b34e4a21a9b2"
  },
  "kernelspec": {
   "display_name": "Python [conda env:alphadeep]",
   "language": "python",
   "name": "python3"
  },
  "language_info": {
   "codemirror_mode": {
    "name": "ipython",
    "version": 3
   },
   "file_extension": ".py",
   "mimetype": "text/x-python",
   "name": "python",
   "nbconvert_exporter": "python",
   "pygments_lexer": "ipython3",
   "version": "3.8.3"
  }
 },
 "nbformat": 4,
 "nbformat_minor": 4
}
