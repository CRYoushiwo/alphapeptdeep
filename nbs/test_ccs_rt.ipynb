{
 "cells": [
  {
   "cell_type": "code",
   "execution_count": null,
   "metadata": {},
   "outputs": [],
   "source": [
    "%reload_ext autoreload\n",
    "%autoreload 2"
   ]
  },
  {
   "cell_type": "code",
   "execution_count": null,
   "metadata": {},
   "outputs": [],
   "source": [
    "%pip install wget"
   ]
  },
  {
   "cell_type": "markdown",
   "metadata": {},
   "source": [
    "# 1. Load peptdeep models"
   ]
  },
  {
   "cell_type": "code",
   "execution_count": null,
   "metadata": {},
   "outputs": [],
   "source": [
    "import os\n",
    "import wget\n",
    "if not os.path.exists('sandbox/test_files'):\n",
    "    os.makedirs('sandbox/test_files')\n",
    "def download_data(url, file_path):\n",
    "    if not os.path.exists(file_path):\n",
    "        wget.download(url, file_path)\n",
    "\n",
    "from peptdeep.utils import (\n",
    "    evaluate_linear_regression, evaluate_linear_regression_plot\n",
    ")\n",
    "\n",
    "from peptdeep.pretrained_models import ModelManager\n",
    "\n",
    "models = ModelManager()\n",
    "models.load_installed_models()"
   ]
  },
  {
   "cell_type": "code",
   "execution_count": null,
   "metadata": {},
   "outputs": [
    {
     "data": {
      "text/plain": [
       "3988974"
      ]
     },
     "execution_count": null,
     "metadata": {},
     "output_type": "execute_result"
    }
   ],
   "source": [
    "ms2_model = models.ms2_model\n",
    "ms2_model.get_parameter_num()"
   ]
  },
  {
   "cell_type": "code",
   "execution_count": null,
   "metadata": {},
   "outputs": [
    {
     "data": {
      "text/plain": [
       "708224"
      ]
     },
     "execution_count": null,
     "metadata": {},
     "output_type": "execute_result"
    }
   ],
   "source": [
    "rt_model = models.rt_model\n",
    "rt_model.get_parameter_num()"
   ]
  },
  {
   "cell_type": "code",
   "execution_count": null,
   "metadata": {},
   "outputs": [
    {
     "data": {
      "text/plain": [
       "713452"
      ]
     },
     "execution_count": null,
     "metadata": {},
     "output_type": "execute_result"
    }
   ],
   "source": [
    "ccs_model = models.ccs_model\n",
    "ccs_model.get_parameter_num()"
   ]
  },
  {
   "cell_type": "markdown",
   "metadata": {},
   "source": [
    "# 2. Test ccs_model"
   ]
  },
  {
   "cell_type": "code",
   "execution_count": null,
   "metadata": {},
   "outputs": [
    {
     "name": "stderr",
     "output_type": "stream",
     "text": [
      "/Users/zengwenfeng/Workspace/AlphaBase/alphabase/io/psm_reader/psm_reader.py:208: DtypeWarning: Columns (61) have mixed types.Specify dtype option on import or set low_memory=False.\n",
      "  origin_df = self._load_file(_file)\n"
     ]
    },
    {
     "data": {
      "text/html": [
       "<div>\n",
       "<style scoped>\n",
       "    .dataframe tbody tr th:only-of-type {\n",
       "        vertical-align: middle;\n",
       "    }\n",
       "\n",
       "    .dataframe tbody tr th {\n",
       "        vertical-align: top;\n",
       "    }\n",
       "\n",
       "    .dataframe thead th {\n",
       "        text-align: right;\n",
       "    }\n",
       "</style>\n",
       "<table border=\"1\" class=\"dataframe\">\n",
       "  <thead>\n",
       "    <tr style=\"text-align: right;\">\n",
       "      <th></th>\n",
       "      <th>sequence</th>\n",
       "      <th>charge</th>\n",
       "      <th>rt</th>\n",
       "      <th>ccs</th>\n",
       "      <th>mobility</th>\n",
       "      <th>spec_idx</th>\n",
       "      <th>raw_name</th>\n",
       "      <th>precursor_mz</th>\n",
       "      <th>score</th>\n",
       "      <th>proteins</th>\n",
       "      <th>genes</th>\n",
       "      <th>decoy</th>\n",
       "      <th>mods</th>\n",
       "      <th>mod_sites</th>\n",
       "      <th>nAA</th>\n",
       "      <th>rt_norm</th>\n",
       "    </tr>\n",
       "  </thead>\n",
       "  <tbody>\n",
       "    <tr>\n",
       "      <th>0</th>\n",
       "      <td>LLEDIRK</td>\n",
       "      <td>2</td>\n",
       "      <td>17.960</td>\n",
       "      <td>313.983480</td>\n",
       "      <td>0.771909</td>\n",
       "      <td>3856</td>\n",
       "      <td>20190107_TIMS2_AnBr_SA_200ng_CElegans_Trp_IRT_...</td>\n",
       "      <td>443.771460</td>\n",
       "      <td>51.456</td>\n",
       "      <td>Q9BKU3</td>\n",
       "      <td></td>\n",
       "      <td>0</td>\n",
       "      <td></td>\n",
       "      <td></td>\n",
       "      <td>7</td>\n",
       "      <td>0.149942</td>\n",
       "    </tr>\n",
       "    <tr>\n",
       "      <th>1</th>\n",
       "      <td>HLQLAVR</td>\n",
       "      <td>2</td>\n",
       "      <td>17.642</td>\n",
       "      <td>302.866472</td>\n",
       "      <td>0.743901</td>\n",
       "      <td>3300</td>\n",
       "      <td>20190107_TIMS2_AnBr_SA_200ng_CElegans_Trp_IRT_...</td>\n",
       "      <td>418.758687</td>\n",
       "      <td>88.201</td>\n",
       "      <td>Q27485;J7S164;J7SA65;P09588</td>\n",
       "      <td>his-35;his-57;his-3</td>\n",
       "      <td>0</td>\n",
       "      <td></td>\n",
       "      <td></td>\n",
       "      <td>7</td>\n",
       "      <td>0.155532</td>\n",
       "    </tr>\n",
       "    <tr>\n",
       "      <th>2</th>\n",
       "      <td>HLQLAVR</td>\n",
       "      <td>2</td>\n",
       "      <td>18.518</td>\n",
       "      <td>304.133904</td>\n",
       "      <td>0.747014</td>\n",
       "      <td>3646</td>\n",
       "      <td>20190107_TIMS2_AnBr_SA_200ng_CElegans_Trp_IRT_...</td>\n",
       "      <td>418.758687</td>\n",
       "      <td>79.833</td>\n",
       "      <td>Q27485;J7S164;J7SA65;P09588</td>\n",
       "      <td>his-35;his-57;his-3</td>\n",
       "      <td>0</td>\n",
       "      <td></td>\n",
       "      <td></td>\n",
       "      <td>7</td>\n",
       "      <td>0.154342</td>\n",
       "    </tr>\n",
       "    <tr>\n",
       "      <th>3</th>\n",
       "      <td>HLQLAVR</td>\n",
       "      <td>1</td>\n",
       "      <td>18.518</td>\n",
       "      <td>276.501981</td>\n",
       "      <td>1.358263</td>\n",
       "      <td>3647</td>\n",
       "      <td>20190107_TIMS2_AnBr_SA_200ng_CElegans_Trp_IRT_...</td>\n",
       "      <td>836.510097</td>\n",
       "      <td>64.547</td>\n",
       "      <td>Q27485;J7S164;J7SA65;P09588</td>\n",
       "      <td>his-35;his-57;his-3</td>\n",
       "      <td>0</td>\n",
       "      <td></td>\n",
       "      <td></td>\n",
       "      <td>7</td>\n",
       "      <td>0.154342</td>\n",
       "    </tr>\n",
       "    <tr>\n",
       "      <th>4</th>\n",
       "      <td>HLQLAVR</td>\n",
       "      <td>1</td>\n",
       "      <td>17.579</td>\n",
       "      <td>274.632075</td>\n",
       "      <td>1.349078</td>\n",
       "      <td>2898</td>\n",
       "      <td>20190107_TIMS2_AnBr_SA_200ng_CElegans_Trp_IRT_...</td>\n",
       "      <td>836.510097</td>\n",
       "      <td>84.064</td>\n",
       "      <td>Q27485;J7S164;J7SA65;P09588</td>\n",
       "      <td>his-35;his-57;his-3</td>\n",
       "      <td>0</td>\n",
       "      <td></td>\n",
       "      <td></td>\n",
       "      <td>7</td>\n",
       "      <td>0.147191</td>\n",
       "    </tr>\n",
       "    <tr>\n",
       "      <th>...</th>\n",
       "      <td>...</td>\n",
       "      <td>...</td>\n",
       "      <td>...</td>\n",
       "      <td>...</td>\n",
       "      <td>...</td>\n",
       "      <td>...</td>\n",
       "      <td>...</td>\n",
       "      <td>...</td>\n",
       "      <td>...</td>\n",
       "      <td>...</td>\n",
       "      <td>...</td>\n",
       "      <td>...</td>\n",
       "      <td>...</td>\n",
       "      <td>...</td>\n",
       "      <td>...</td>\n",
       "      <td>...</td>\n",
       "    </tr>\n",
       "    <tr>\n",
       "      <th>141500</th>\n",
       "      <td>TAPSAIPLAAPALPVPVAAAPFFASPAPVLAAPAPLLAPPAPVFAAPR</td>\n",
       "      <td>3</td>\n",
       "      <td>107.880</td>\n",
       "      <td>774.159191</td>\n",
       "      <td>1.284714</td>\n",
       "      <td>53805</td>\n",
       "      <td>20190107_TIMS2_AnBr_SA_200ng_CElegans_Trp_IRT_...</td>\n",
       "      <td>1511.532720</td>\n",
       "      <td>40.394</td>\n",
       "      <td>Q22263</td>\n",
       "      <td></td>\n",
       "      <td>0</td>\n",
       "      <td></td>\n",
       "      <td></td>\n",
       "      <td>48</td>\n",
       "      <td>0.926486</td>\n",
       "    </tr>\n",
       "    <tr>\n",
       "      <th>141501</th>\n",
       "      <td>TAPSAIPLAAPALPVPIAAAPFFTPPAPVLAAPAPLLAPPAPVFAAPR</td>\n",
       "      <td>4</td>\n",
       "      <td>108.520</td>\n",
       "      <td>1086.345571</td>\n",
       "      <td>1.352140</td>\n",
       "      <td>51480</td>\n",
       "      <td>20190107_TIMS2_AnBr_SA_200ng_CElegans_Trp_IRT_...</td>\n",
       "      <td>1147.413090</td>\n",
       "      <td>4.313</td>\n",
       "      <td>Q22262</td>\n",
       "      <td></td>\n",
       "      <td>0</td>\n",
       "      <td></td>\n",
       "      <td></td>\n",
       "      <td>48</td>\n",
       "      <td>0.958742</td>\n",
       "    </tr>\n",
       "    <tr>\n",
       "      <th>141502</th>\n",
       "      <td>TAPSAIPLAAPALPVPIAAAPFFTPPAPVLAAPAPLLAPPAPVFAAPR</td>\n",
       "      <td>3</td>\n",
       "      <td>108.580</td>\n",
       "      <td>781.523487</td>\n",
       "      <td>1.296982</td>\n",
       "      <td>32092</td>\n",
       "      <td>20190107_TIMS2_AnBr_SA_200ng_CElegans_Trp_IRT_...</td>\n",
       "      <td>1529.548370</td>\n",
       "      <td>58.044</td>\n",
       "      <td>Q22262</td>\n",
       "      <td></td>\n",
       "      <td>0</td>\n",
       "      <td></td>\n",
       "      <td></td>\n",
       "      <td>48</td>\n",
       "      <td>0.916983</td>\n",
       "    </tr>\n",
       "    <tr>\n",
       "      <th>141503</th>\n",
       "      <td>TAPSAIPLAAPALPVPIAAAPFFTPPAPVLAAPAPLLAPPAPVFAAPR</td>\n",
       "      <td>3</td>\n",
       "      <td>108.460</td>\n",
       "      <td>775.979047</td>\n",
       "      <td>1.287781</td>\n",
       "      <td>53839</td>\n",
       "      <td>20190107_TIMS2_AnBr_SA_200ng_CElegans_Trp_IRT_...</td>\n",
       "      <td>1529.548370</td>\n",
       "      <td>115.420</td>\n",
       "      <td>Q22262</td>\n",
       "      <td></td>\n",
       "      <td>0</td>\n",
       "      <td></td>\n",
       "      <td></td>\n",
       "      <td>48</td>\n",
       "      <td>0.931467</td>\n",
       "    </tr>\n",
       "    <tr>\n",
       "      <th>141504</th>\n",
       "      <td>TAPSAIPLAAPALPVPIAAAPFFTPPAPVLAAPAPLLAPPAPVFAAPR</td>\n",
       "      <td>4</td>\n",
       "      <td>108.460</td>\n",
       "      <td>1066.658020</td>\n",
       "      <td>1.327636</td>\n",
       "      <td>53838</td>\n",
       "      <td>20190107_TIMS2_AnBr_SA_200ng_CElegans_Trp_IRT_...</td>\n",
       "      <td>1147.413090</td>\n",
       "      <td>84.529</td>\n",
       "      <td>Q22262</td>\n",
       "      <td></td>\n",
       "      <td>0</td>\n",
       "      <td></td>\n",
       "      <td></td>\n",
       "      <td>48</td>\n",
       "      <td>0.931467</td>\n",
       "    </tr>\n",
       "  </tbody>\n",
       "</table>\n",
       "<p>141505 rows × 16 columns</p>\n",
       "</div>"
      ],
      "text/plain": [
       "                                                sequence  charge       rt  \\\n",
       "0                                                LLEDIRK       2   17.960   \n",
       "1                                                HLQLAVR       2   17.642   \n",
       "2                                                HLQLAVR       2   18.518   \n",
       "3                                                HLQLAVR       1   18.518   \n",
       "4                                                HLQLAVR       1   17.579   \n",
       "...                                                  ...     ...      ...   \n",
       "141500  TAPSAIPLAAPALPVPVAAAPFFASPAPVLAAPAPLLAPPAPVFAAPR       3  107.880   \n",
       "141501  TAPSAIPLAAPALPVPIAAAPFFTPPAPVLAAPAPLLAPPAPVFAAPR       4  108.520   \n",
       "141502  TAPSAIPLAAPALPVPIAAAPFFTPPAPVLAAPAPLLAPPAPVFAAPR       3  108.580   \n",
       "141503  TAPSAIPLAAPALPVPIAAAPFFTPPAPVLAAPAPLLAPPAPVFAAPR       3  108.460   \n",
       "141504  TAPSAIPLAAPALPVPIAAAPFFTPPAPVLAAPAPLLAPPAPVFAAPR       4  108.460   \n",
       "\n",
       "                ccs  mobility  spec_idx  \\\n",
       "0        313.983480  0.771909      3856   \n",
       "1        302.866472  0.743901      3300   \n",
       "2        304.133904  0.747014      3646   \n",
       "3        276.501981  1.358263      3647   \n",
       "4        274.632075  1.349078      2898   \n",
       "...             ...       ...       ...   \n",
       "141500   774.159191  1.284714     53805   \n",
       "141501  1086.345571  1.352140     51480   \n",
       "141502   781.523487  1.296982     32092   \n",
       "141503   775.979047  1.287781     53839   \n",
       "141504  1066.658020  1.327636     53838   \n",
       "\n",
       "                                                 raw_name  precursor_mz  \\\n",
       "0       20190107_TIMS2_AnBr_SA_200ng_CElegans_Trp_IRT_...    443.771460   \n",
       "1       20190107_TIMS2_AnBr_SA_200ng_CElegans_Trp_IRT_...    418.758687   \n",
       "2       20190107_TIMS2_AnBr_SA_200ng_CElegans_Trp_IRT_...    418.758687   \n",
       "3       20190107_TIMS2_AnBr_SA_200ng_CElegans_Trp_IRT_...    836.510097   \n",
       "4       20190107_TIMS2_AnBr_SA_200ng_CElegans_Trp_IRT_...    836.510097   \n",
       "...                                                   ...           ...   \n",
       "141500  20190107_TIMS2_AnBr_SA_200ng_CElegans_Trp_IRT_...   1511.532720   \n",
       "141501  20190107_TIMS2_AnBr_SA_200ng_CElegans_Trp_IRT_...   1147.413090   \n",
       "141502  20190107_TIMS2_AnBr_SA_200ng_CElegans_Trp_IRT_...   1529.548370   \n",
       "141503  20190107_TIMS2_AnBr_SA_200ng_CElegans_Trp_IRT_...   1529.548370   \n",
       "141504  20190107_TIMS2_AnBr_SA_200ng_CElegans_Trp_IRT_...   1147.413090   \n",
       "\n",
       "          score                     proteins                genes  decoy mods  \\\n",
       "0        51.456                       Q9BKU3                           0        \n",
       "1        88.201  Q27485;J7S164;J7SA65;P09588  his-35;his-57;his-3      0        \n",
       "2        79.833  Q27485;J7S164;J7SA65;P09588  his-35;his-57;his-3      0        \n",
       "3        64.547  Q27485;J7S164;J7SA65;P09588  his-35;his-57;his-3      0        \n",
       "4        84.064  Q27485;J7S164;J7SA65;P09588  his-35;his-57;his-3      0        \n",
       "...         ...                          ...                  ...    ...  ...   \n",
       "141500   40.394                       Q22263                           0        \n",
       "141501    4.313                       Q22262                           0        \n",
       "141502   58.044                       Q22262                           0        \n",
       "141503  115.420                       Q22262                           0        \n",
       "141504   84.529                       Q22262                           0        \n",
       "\n",
       "       mod_sites  nAA   rt_norm  \n",
       "0                   7  0.149942  \n",
       "1                   7  0.155532  \n",
       "2                   7  0.154342  \n",
       "3                   7  0.154342  \n",
       "4                   7  0.147191  \n",
       "...          ...  ...       ...  \n",
       "141500             48  0.926486  \n",
       "141501             48  0.958742  \n",
       "141502             48  0.916983  \n",
       "141503             48  0.931467  \n",
       "141504             48  0.931467  \n",
       "\n",
       "[141505 rows x 16 columns]"
      ]
     },
     "execution_count": null,
     "metadata": {},
     "output_type": "execute_result"
    }
   ],
   "source": [
    "from alphabase.io.psm_reader import psm_reader_provider\n",
    "ccs_url = 'https://datashare.biochem.mpg.de/s/uTGa7PliZzRJU4g/download'\n",
    "ccs = 'sandbox/test_files/PXD019086_Celegant_evidence.txt'\n",
    "download_data(ccs_url, ccs)\n",
    "mq_reader = psm_reader_provider.get_reader('maxquant')\n",
    "mq_reader.load(ccs)"
   ]
  },
  {
   "cell_type": "markdown",
   "metadata": {},
   "source": [
    "## CCS prediction is very good"
   ]
  },
  {
   "cell_type": "code",
   "execution_count": null,
   "metadata": {},
   "outputs": [
    {
     "data": {
      "image/png": "[encoded data removed]",
      "text/plain": [
       "<Figure size 432x288 with 1 Axes>"
      ]
     },
     "metadata": {
      "needs_background": "light"
     },
     "output_type": "display_data"
    },
    {
     "name": "stderr",
     "output_type": "stream",
     "text": [
      "/Users/zengwenfeng/opt/anaconda3/lib/python3.8/site-packages/statsmodels/tsa/tsatools.py:130: FutureWarning: In a future version of pandas all arguments of concat except for the argument 'objs' will be keyword-only\n",
      "  x = pd.concat(x[::order], 1)\n"
     ]
    },
    {
     "data": {
      "text/html": [
       "<div>\n",
       "<style scoped>\n",
       "    .dataframe tbody tr th:only-of-type {\n",
       "        vertical-align: middle;\n",
       "    }\n",
       "\n",
       "    .dataframe tbody tr th {\n",
       "        vertical-align: top;\n",
       "    }\n",
       "\n",
       "    .dataframe thead th {\n",
       "        text-align: right;\n",
       "    }\n",
       "</style>\n",
       "<table border=\"1\" class=\"dataframe\">\n",
       "  <thead>\n",
       "    <tr style=\"text-align: right;\">\n",
       "      <th></th>\n",
       "      <th>R_square</th>\n",
       "      <th>R</th>\n",
       "      <th>slope</th>\n",
       "      <th>intercept</th>\n",
       "      <th>test_num</th>\n",
       "    </tr>\n",
       "  </thead>\n",
       "  <tbody>\n",
       "    <tr>\n",
       "      <th>0</th>\n",
       "      <td>0.97</td>\n",
       "      <td>0.984886</td>\n",
       "      <td>0.959</td>\n",
       "      <td>-4.8818</td>\n",
       "      <td>141505.0</td>\n",
       "    </tr>\n",
       "  </tbody>\n",
       "</table>\n",
       "</div>"
      ],
      "text/plain": [
       "   R_square         R  slope  intercept  test_num\n",
       "0      0.97  0.984886  0.959    -4.8818  141505.0"
      ]
     },
     "execution_count": null,
     "metadata": {},
     "output_type": "execute_result"
    }
   ],
   "source": [
    "psm_df = mq_reader.psm_df#.groupby(['sequence','mods','mod_sites','nAA','charge'])['ccs'].median().reset_index()\n",
    "predict_df = ccs_model.predict(psm_df)\n",
    "evaluate_linear_regression_plot(predict_df, x='ccs_pred',y='ccs')\n",
    "evaluate_linear_regression(predict_df, x='ccs_pred',y='ccs')"
   ]
  },
  {
   "cell_type": "markdown",
   "metadata": {},
   "source": [
    "## Transfer learning on CCS does not provide much help"
   ]
  },
  {
   "cell_type": "code",
   "execution_count": null,
   "metadata": {},
   "outputs": [
    {
     "name": "stdout",
     "output_type": "stream",
     "text": [
      "[Training] Epoch=1, Mean Loss=29.430573987960816\n",
      "[Training] Epoch=2, Mean Loss=24.4880450129509\n",
      "[Training] Epoch=3, Mean Loss=22.602557873725893\n",
      "[Training] Epoch=4, Mean Loss=22.95404496192932\n",
      "[Training] Epoch=5, Mean Loss=22.353219962120058\n",
      "[Training] Epoch=6, Mean Loss=21.07235941886902\n",
      "[Training] Epoch=7, Mean Loss=20.550406634807587\n",
      "[Training] Epoch=8, Mean Loss=20.36421219110489\n",
      "[Training] Epoch=9, Mean Loss=20.43486933708191\n",
      "[Training] Epoch=10, Mean Loss=18.81518872976303\n"
     ]
    },
    {
     "data": {
      "image/png": "[encoded data removed]",
      "text/plain": [
       "<Figure size 432x288 with 1 Axes>"
      ]
     },
     "metadata": {
      "needs_background": "light"
     },
     "output_type": "display_data"
    },
    {
     "name": "stderr",
     "output_type": "stream",
     "text": [
      "/Users/zengwenfeng/opt/anaconda3/lib/python3.8/site-packages/statsmodels/tsa/tsatools.py:130: FutureWarning: In a future version of pandas all arguments of concat except for the argument 'objs' will be keyword-only\n",
      "  x = pd.concat(x[::order], 1)\n"
     ]
    },
    {
     "data": {
      "text/html": [
       "<div>\n",
       "<style scoped>\n",
       "    .dataframe tbody tr th:only-of-type {\n",
       "        vertical-align: middle;\n",
       "    }\n",
       "\n",
       "    .dataframe tbody tr th {\n",
       "        vertical-align: top;\n",
       "    }\n",
       "\n",
       "    .dataframe thead th {\n",
       "        text-align: right;\n",
       "    }\n",
       "</style>\n",
       "<table border=\"1\" class=\"dataframe\">\n",
       "  <thead>\n",
       "    <tr style=\"text-align: right;\">\n",
       "      <th></th>\n",
       "      <th>R_square</th>\n",
       "      <th>R</th>\n",
       "      <th>slope</th>\n",
       "      <th>intercept</th>\n",
       "      <th>test_num</th>\n",
       "    </tr>\n",
       "  </thead>\n",
       "  <tbody>\n",
       "    <tr>\n",
       "      <th>0</th>\n",
       "      <td>0.972</td>\n",
       "      <td>0.985901</td>\n",
       "      <td>0.9648</td>\n",
       "      <td>13.7257</td>\n",
       "      <td>138446.0</td>\n",
       "    </tr>\n",
       "  </tbody>\n",
       "</table>\n",
       "</div>"
      ],
      "text/plain": [
       "   R_square         R   slope  intercept  test_num\n",
       "0     0.972  0.985901  0.9648    13.7257  138446.0"
      ]
     },
     "execution_count": null,
     "metadata": {},
     "output_type": "execute_result"
    }
   ],
   "source": [
    "import numpy as np\n",
    "import pandas as pd\n",
    "n_train = 5000\n",
    "\n",
    "from peptdeep.utils import uniform_sampling\n",
    "train_df, test_df = uniform_sampling(psm_df, target='ccs', n_train=n_train, return_test_df=True)\n",
    "ccs_model.train(train_df, verbose=True)\n",
    "predict_df = ccs_model.predict(test_df)\n",
    "evaluate_linear_regression_plot(predict_df, x='ccs_pred',y='ccs')\n",
    "evaluate_linear_regression(predict_df, x='ccs_pred',y='ccs')"
   ]
  },
  {
   "cell_type": "markdown",
   "metadata": {},
   "source": [
    "# 3. Test rt_model"
   ]
  },
  {
   "cell_type": "code",
   "execution_count": null,
   "metadata": {},
   "outputs": [],
   "source": [
    "from sklearn.neighbors import KNeighborsRegressor\n",
    "\n",
    "def adjust_rt_pred(train_df, test_df, x='rt_pred', y='rt_norm', target='rt_adjust'):\n",
    "    model = KNeighborsRegressor(n_neighbors=3, weights='distance')\n",
    "    model.fit(train_df[x].values.reshape((-1,1)), train_df[y].values.reshape((-1,1)))\n",
    "    test_df[target] = model.predict(test_df[x].values.reshape((-1,1)))\n",
    "    return test_df"
   ]
  },
  {
   "cell_type": "markdown",
   "metadata": {},
   "source": [
    "## Test on Pan-human library"
   ]
  },
  {
   "cell_type": "code",
   "execution_count": null,
   "metadata": {},
   "outputs": [],
   "source": [
    "from alphabase.io.psm_reader import psm_reader_provider\n",
    "\n",
    "phl_url = 'https://datashare.biochem.mpg.de/s/GyVnHxasODv5hYc/download'\n",
    "phl = 'sandbox/test_files/phl004_canonical_s32_osw.tsv'\n",
    "download_data(phl_url, phl)\n",
    "\n",
    "mq_reader = psm_reader_provider.get_reader('openswath')\n",
    "mq_reader.load(phl)\n",
    "\n",
    "mq_reader = psm_reader_provider.get_reader('openswath')\n",
    "mq_reader.load(phl)"
   ]
  },
  {
   "cell_type": "code",
   "execution_count": null,
   "metadata": {},
   "outputs": [
    {
     "data": {
      "image/png": "[encoded data removed]",
      "text/plain": [
       "<Figure size 432x288 with 1 Axes>"
      ]
     },
     "metadata": {
      "needs_background": "light"
     },
     "output_type": "display_data"
    },
    {
     "data": {
      "text/html": [
       "<div>\n",
       "<style scoped>\n",
       "    .dataframe tbody tr th:only-of-type {\n",
       "        vertical-align: middle;\n",
       "    }\n",
       "\n",
       "    .dataframe tbody tr th {\n",
       "        vertical-align: top;\n",
       "    }\n",
       "\n",
       "    .dataframe thead th {\n",
       "        text-align: right;\n",
       "    }\n",
       "</style>\n",
       "<table border=\"1\" class=\"dataframe\">\n",
       "  <thead>\n",
       "    <tr style=\"text-align: right;\">\n",
       "      <th></th>\n",
       "      <th>R_square</th>\n",
       "      <th>R</th>\n",
       "      <th>slope</th>\n",
       "      <th>intercept</th>\n",
       "      <th>n_sample</th>\n",
       "    </tr>\n",
       "  </thead>\n",
       "  <tbody>\n",
       "    <tr>\n",
       "      <th>0</th>\n",
       "      <td>0.924</td>\n",
       "      <td>0.961249</td>\n",
       "      <td>0.7075</td>\n",
       "      <td>0.065</td>\n",
       "      <td>204564.0</td>\n",
       "    </tr>\n",
       "  </tbody>\n",
       "</table>\n",
       "</div>"
      ],
      "text/plain": [
       "   R_square         R   slope  intercept  n_sample\n",
       "0     0.924  0.961249  0.7075      0.065  204564.0"
      ]
     },
     "execution_count": null,
     "metadata": {},
     "output_type": "execute_result"
    }
   ],
   "source": [
    "psm_df = mq_reader.psm_df#.groupby(['sequence','mods','mod_sites','nAA'])['rt_norm'].median().reset_index()\n",
    "predict_df = rt_model.predict(psm_df)\n",
    "\n",
    "evaluate_linear_regression_plot(predict_df, x='rt_pred',y='rt_norm')\n",
    "evaluate_linear_regression(predict_df, x='rt_pred',y='rt_norm')"
   ]
  },
  {
   "cell_type": "markdown",
   "metadata": {},
   "source": [
    "## Test for KNN-based RT calibration on phl\n",
    "\n",
    "Better but not very good. It is useful when we only have detected RT values without peptide information."
   ]
  },
  {
   "cell_type": "code",
   "execution_count": null,
   "metadata": {},
   "outputs": [
    {
     "data": {
      "image/png": "[encoded data removed]",
      "text/plain": [
       "<Figure size 432x288 with 1 Axes>"
      ]
     },
     "metadata": {
      "needs_background": "light"
     },
     "output_type": "display_data"
    },
    {
     "data": {
      "text/html": [
       "<div>\n",
       "<style scoped>\n",
       "    .dataframe tbody tr th:only-of-type {\n",
       "        vertical-align: middle;\n",
       "    }\n",
       "\n",
       "    .dataframe tbody tr th {\n",
       "        vertical-align: top;\n",
       "    }\n",
       "\n",
       "    .dataframe thead th {\n",
       "        text-align: right;\n",
       "    }\n",
       "</style>\n",
       "<table border=\"1\" class=\"dataframe\">\n",
       "  <thead>\n",
       "    <tr style=\"text-align: right;\">\n",
       "      <th></th>\n",
       "      <th>R_square</th>\n",
       "      <th>R</th>\n",
       "      <th>slope</th>\n",
       "      <th>intercept</th>\n",
       "      <th>n_sample</th>\n",
       "    </tr>\n",
       "  </thead>\n",
       "  <tbody>\n",
       "    <tr>\n",
       "      <th>0</th>\n",
       "      <td>0.954</td>\n",
       "      <td>0.976729</td>\n",
       "      <td>0.92</td>\n",
       "      <td>0.0312</td>\n",
       "      <td>199564.0</td>\n",
       "    </tr>\n",
       "  </tbody>\n",
       "</table>\n",
       "</div>"
      ],
      "text/plain": [
       "   R_square         R  slope  intercept  n_sample\n",
       "0     0.954  0.976729   0.92     0.0312  199564.0"
      ]
     },
     "execution_count": null,
     "metadata": {},
     "output_type": "execute_result"
    }
   ],
   "source": [
    "import numpy as np\n",
    "import pandas as pd\n",
    "n_train = 5000\n",
    "\n",
    "from peptdeep.utils import uniform_sampling\n",
    "train_df, test_df = uniform_sampling(\n",
    "    psm_df, target='rt_norm', n_train=n_train, return_test_df=True\n",
    ")\n",
    "predict_df = adjust_rt_pred(train_df, test_df)\n",
    "evaluate_linear_regression_plot(predict_df, x='rt_adjust',y='rt_norm')\n",
    "evaluate_linear_regression(predict_df, x='rt_adjust',y='rt_norm')"
   ]
  },
  {
   "cell_type": "markdown",
   "metadata": {},
   "source": [
    "## Transfer learning on phl"
   ]
  },
  {
   "cell_type": "code",
   "execution_count": null,
   "metadata": {},
   "outputs": [
    {
     "name": "stdout",
     "output_type": "stream",
     "text": [
      "[Training] Epoch=1, Mean Loss=0.04316662267471353\n",
      "[Training] Epoch=2, Mean Loss=0.03180241996111969\n",
      "[Training] Epoch=3, Mean Loss=0.02344859668907399\n",
      "[Training] Epoch=4, Mean Loss=0.020412476054237533\n",
      "[Training] Epoch=5, Mean Loss=0.022304239954488974\n",
      "[Training] Epoch=6, Mean Loss=0.017174581395617377\n",
      "[Training] Epoch=7, Mean Loss=0.01700133458750012\n",
      "[Training] Epoch=8, Mean Loss=0.019484098496225972\n",
      "[Training] Epoch=9, Mean Loss=0.017604698572540656\n",
      "[Training] Epoch=10, Mean Loss=0.015739520720671862\n",
      "[Training] Epoch=11, Mean Loss=0.014358153430900225\n",
      "[Training] Epoch=12, Mean Loss=0.01701598151703365\n",
      "[Training] Epoch=13, Mean Loss=0.01492659382832547\n",
      "[Training] Epoch=14, Mean Loss=0.01645984864444472\n",
      "[Training] Epoch=15, Mean Loss=0.015095364292695498\n",
      "[Training] Epoch=16, Mean Loss=0.017223474724839132\n",
      "[Training] Epoch=17, Mean Loss=0.014123942285853749\n",
      "[Training] Epoch=18, Mean Loss=0.015786654587524634\n",
      "[Training] Epoch=19, Mean Loss=0.014934128208551556\n",
      "[Training] Epoch=20, Mean Loss=0.013720353395910934\n"
     ]
    }
   ],
   "source": [
    "rt_model.train(train_df, epoch=20, verbose=True, verbose_each_epoch=False)"
   ]
  },
  {
   "cell_type": "code",
   "execution_count": null,
   "metadata": {},
   "outputs": [
    {
     "data": {
      "image/png": "[encoded data removed]",
      "text/plain": [
       "<Figure size 432x288 with 1 Axes>"
      ]
     },
     "metadata": {
      "needs_background": "light"
     },
     "output_type": "display_data"
    },
    {
     "data": {
      "text/html": [
       "<div>\n",
       "<style scoped>\n",
       "    .dataframe tbody tr th:only-of-type {\n",
       "        vertical-align: middle;\n",
       "    }\n",
       "\n",
       "    .dataframe tbody tr th {\n",
       "        vertical-align: top;\n",
       "    }\n",
       "\n",
       "    .dataframe thead th {\n",
       "        text-align: right;\n",
       "    }\n",
       "</style>\n",
       "<table border=\"1\" class=\"dataframe\">\n",
       "  <thead>\n",
       "    <tr style=\"text-align: right;\">\n",
       "      <th></th>\n",
       "      <th>R_square</th>\n",
       "      <th>R</th>\n",
       "      <th>slope</th>\n",
       "      <th>intercept</th>\n",
       "      <th>n_sample</th>\n",
       "    </tr>\n",
       "  </thead>\n",
       "  <tbody>\n",
       "    <tr>\n",
       "      <th>0</th>\n",
       "      <td>0.989</td>\n",
       "      <td>0.994485</td>\n",
       "      <td>1.0476</td>\n",
       "      <td>-0.0262</td>\n",
       "      <td>199564.0</td>\n",
       "    </tr>\n",
       "  </tbody>\n",
       "</table>\n",
       "</div>"
      ],
      "text/plain": [
       "   R_square         R   slope  intercept  n_sample\n",
       "0     0.989  0.994485  1.0476    -0.0262  199564.0"
      ]
     },
     "execution_count": null,
     "metadata": {},
     "output_type": "execute_result"
    }
   ],
   "source": [
    "predict_df = rt_model.predict(test_df)\n",
    "evaluate_linear_regression_plot(predict_df, x='rt_pred',y='rt_norm')\n",
    "evaluate_linear_regression(predict_df, x='rt_pred',y='rt_norm')"
   ]
  }
 ],
 "metadata": {
  "kernelspec": {
   "display_name": "Python 3.8.3 ('base')",
   "language": "python",
   "name": "python3"
  }
 },
 "nbformat": 4,
 "nbformat_minor": 4
}
